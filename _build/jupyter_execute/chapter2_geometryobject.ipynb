{
 "cells": [
  {
   "cell_type": "markdown",
   "id": "c0ca2298",
   "metadata": {},
   "source": [
    "<font color=Blue size=6><center>**第二章 几何对象模型**</center>   \n",
    "\n",
    "<font color=Blue size=5>地理空间的矢量表达中，用点、线、面（多边形）等几何对象来表达地理要素的几何形状。**Shapely**是GEOS(Geometry Engine - Open Source) 的Python接口，提供了矢量空间数据的几何对象模型及相应的空间操作运算。GEOS是JTS（Java Topology Suite）的C++实现，也是PostgreSQL的空间扩展PostGIS的几何引擎。JTS和GEOS遵循OGC简单要素访问规范。\n",
    "\n",
    "<font color=Blue size=5>本章主要阐述Shapely中的几何对象模型概述、空间谓词与空间关系、空间操作运算。"
   ]
  },
  {
   "cell_type": "markdown",
   "id": "d2f8aba3",
   "metadata": {},
   "source": [
    "# <font color=Blue size=5>**几何对象模型概述**\n",
    "\n",
    "<font color=Blue size=5>Shapely实现的几何对象基本类型有Point、LineString和Polygon。   \n",
    "    \n",
    "   * <font color=Blue size=5>**Point**：表示空间中的单个点。点可以是二维（x，y）或三维（x，y，z）。    \n",
    "   * <font color=Blue size=5>**LineString**：表示连接在一起形成一条线的一系列点，至少由两个坐标元组的列表组成。   \n",
    "\n",
    "   * <font color=Blue size=5>**Polygon**：表示一个填充区域，该区域至少由三个坐标元组的列表和孔多边形（可能）列表组成，坐标元组构成外层环。  \n",
    "    \n",
    "![image.png](attachment:763f68ba-0a80-4ea2-ba49-9696d1835e3b.png)   \n",
    "    \n",
    "<font color=Blue size=5>Shapely还提供了几何对象的集合类型：MultiPoint、MultiLineString 和MultiPolygon。   \n",
    "    \n",
    "   * <font color=Blue size=5>**MultiPoint**：表示点的集合，由坐标元组列表组成。\n",
    "\n",
    "   * <font color=Blue size=5>**MultiLineString**：表示线几何的集合，由一系列类似线的列表组成。   \n",
    "\n",
    "   * <font color=Blue size=5>**MultiPolygon**：表示多边形的集合，该集合由构成多边形的一系列外环和空洞组成。"
   ]
  },
  {
   "cell_type": "markdown",
   "id": "4c2fb27e",
   "metadata": {},
   "source": [
    "## <font color=Blue size=5>**Point**   \n",
    "\n",
    "<font color=Blue size=5>创建点仅需将x和y坐标（或可选的z坐标）传递到point()对象."
   ]
  },
  {
   "cell_type": "code",
   "execution_count": 1,
   "id": "96b94404",
   "metadata": {},
   "outputs": [
    {
     "ename": "ModuleNotFoundError",
     "evalue": "No module named 'shapely'",
     "output_type": "error",
     "traceback": [
      "\u001b[1;31m---------------------------------------------------------------------------\u001b[0m",
      "\u001b[1;31mModuleNotFoundError\u001b[0m                       Traceback (most recent call last)",
      "\u001b[1;32m~\\AppData\\Local\\Temp\\ipykernel_13444\\2957195284.py\u001b[0m in \u001b[0;36m<module>\u001b[1;34m\u001b[0m\n\u001b[0;32m      1\u001b[0m \u001b[1;31m# Import necessary geometric objects from shapely module\u001b[0m\u001b[1;33m\u001b[0m\u001b[1;33m\u001b[0m\u001b[1;33m\u001b[0m\u001b[0m\n\u001b[1;32m----> 2\u001b[1;33m \u001b[1;32mfrom\u001b[0m \u001b[0mshapely\u001b[0m\u001b[1;33m.\u001b[0m\u001b[0mgeometry\u001b[0m \u001b[1;32mimport\u001b[0m \u001b[0mPoint\u001b[0m\u001b[1;33m,\u001b[0m \u001b[0mLineString\u001b[0m\u001b[1;33m,\u001b[0m \u001b[0mPolygon\u001b[0m\u001b[1;33m\u001b[0m\u001b[1;33m\u001b[0m\u001b[0m\n\u001b[0m\u001b[0;32m      3\u001b[0m \u001b[1;33m\u001b[0m\u001b[0m\n\u001b[0;32m      4\u001b[0m \u001b[1;31m# Create Point geometric object(s) with coordinates\u001b[0m\u001b[1;33m\u001b[0m\u001b[1;33m\u001b[0m\u001b[1;33m\u001b[0m\u001b[0m\n\u001b[0;32m      5\u001b[0m \u001b[0mpoint1\u001b[0m \u001b[1;33m=\u001b[0m \u001b[0mPoint\u001b[0m\u001b[1;33m(\u001b[0m\u001b[1;36m111.89\u001b[0m\u001b[1;33m,\u001b[0m \u001b[1;36m25.78\u001b[0m\u001b[1;33m)\u001b[0m\u001b[1;33m\u001b[0m\u001b[1;33m\u001b[0m\u001b[0m\n",
      "\u001b[1;31mModuleNotFoundError\u001b[0m: No module named 'shapely'"
     ]
    }
   ],
   "source": [
    "# Import necessary geometric objects from shapely module\n",
    "from shapely.geometry import Point, LineString, Polygon\n",
    "\n",
    "# Create Point geometric object(s) with coordinates\n",
    "point1 = Point(111.89, 25.78)\n",
    "point2 = Point(115.69, 23.68)\n",
    "point3 = Point(117.89, 26.78)\n",
    "point3D = Point(111.89,25.78, 888.88) # Shapely是一个平面几何库，在几何分析中忽略z值。\n",
    "\n",
    "# What is the type of the point?\n",
    "point_type = type(point1)\n",
    "print(point1)\n",
    "print(point3D)\n",
    "print(type(point1))"
   ]
  },
  {
   "cell_type": "code",
   "execution_count": null,
   "id": "99354324",
   "metadata": {},
   "outputs": [],
   "source": [
    "point1"
   ]
  },
  {
   "cell_type": "markdown",
   "id": "82997e8d",
   "metadata": {},
   "source": [
    "### <font color=Blue size=5>**Point的属性与方法**   \n",
    "\n",
    "<font color=Blue size=5>点几何对象提供了内置的属性和方法可供访问，其中最常用的是能够提取点的坐标和计算点之间的欧几里德距离。   \n",
    "\n",
    "<font color=Blue size=5>提取一个点的坐标，有几种不同的方法："
   ]
  },
  {
   "cell_type": "code",
   "execution_count": null,
   "id": "25bdf113",
   "metadata": {},
   "outputs": [],
   "source": [
    "# Get the coordinates\n",
    "point_coords = point1.coords\n",
    "\n",
    "# What is the type of this?\n",
    "print(type(point_coords))\n",
    "\n",
    "# Get x and y coordinates\n",
    "xy = point_coords.xy\n",
    "print(\"point_coords.xy type is:\",type(xy))\n",
    "print(\"point_coords.xy values is:\", xy)\n",
    "\n",
    "# Get x, y coordinates of Point1\n",
    "x = point1.x\n",
    "y = point1.y\n",
    "\n",
    "print(\"point.x is :\", x)\n",
    "print(\"point.y is :\", y)"
   ]
  },
  {
   "cell_type": "markdown",
   "id": "5e2dd9d7",
   "metadata": {},
   "source": [
    "<font color=Blue size=5>**计算两点之间的距离**"
   ]
  },
  {
   "cell_type": "code",
   "execution_count": null,
   "id": "0e46f15b",
   "metadata": {},
   "outputs": [],
   "source": [
    "# Calculate the distance between point1 and point2\n",
    "point_dist = point1.distance(point2)\n",
    "\n",
    "print(\"Distance between the points is {0:.2f} decimal degrees\".format(point_dist))"
   ]
  },
  {
   "cell_type": "markdown",
   "id": "72692b4c",
   "metadata": {},
   "source": [
    "<font color=Blue size=5>注：地理信息系统中距离\n",
    "\n",
    "<font color=Blue size=5>在Shapely中，距离是平面上两点之间的欧氏距离或线性距离。如果我们想计算地球表面的实际距离，则需要计算球体上的距离。通常情况下，地球的赤道半径为6378公里，极地半径为6356公里，即相差22公里。以下使用这两个半径计算两点之间的球面距离、以及两点之间的WGS84椭球面距离。\n",
    "    \n",
    "<font color=Blue size=5>pyproj.Geod支持大地解算的正算和逆算，Geod类的初始化输入可以是椭球体参数，也可以是椭球体名称，如示例代码中的“WGS84”。\n",
    "\n",
    "   * <font color=Blue size=5>正向变换：根据起始点的经度和纬度，加上前向的方位角和距离，确定终点的经度、纬度和后向方位角。   \n",
    "   <font color=Blue size=4>*lons2, lats2, back_az = geod.fwd(lons1, lats1, forward_az, dist)*    \n",
    "   * <font color=Blue size=5>逆向变换：根据两点经纬度，计算前向、后向方位角和距离。   \n",
    "   <font color=Blue size=4>*forward_az, back_az, dist = geod.inv(lons1, lats1, lons2, lats2)*\n",
    "   * <font color=Blue size=5>说明：以上角度单位为度，距离单位为米。"
   ]
  },
  {
   "cell_type": "code",
   "execution_count": null,
   "id": "9a0a7eec",
   "metadata": {},
   "outputs": [],
   "source": [
    "# law of cosines - determines the great-circle distance between two points on a sphere given their longitudes and latitudes based on \"basic math\"\n",
    "from math import acos,sin,cos,radians\n",
    "\n",
    "p1x=radians(point1.x)\n",
    "p1y=radians(point1.y)\n",
    "p2x=radians(point2.x)\n",
    "p2y=radians(point2.y)            \n",
    "distance = acos(sin(p1y)*sin(p2y)+cos(p1y)*cos(p2y)*cos(p2x-p1x))*6378\n",
    "\n",
    "print( \"{0:8.4f} for equatorial radius in km\".format(distance))\n",
    "distance = acos(sin(p1y)*sin(p2y)+cos(p1y)*cos(p2y)*cos(p2x-p1x))*6356\n",
    "\n",
    "print( \"{0:8.4f} for polar radius in km\".format(distance))\n",
    "\n",
    "# with pyproj\n",
    "import pyproj\n",
    "\n",
    "geod = pyproj.Geod(ellps='WGS84')\n",
    "\n",
    "angle1,angle2,distance = geod.inv(point1.x, point1.y, point2.x, point2.y)\n",
    "\n",
    "print (\"{0:8.4f} for ellipsoid WGS84 in km\".format(distance/1000))"
   ]
  },
  {
   "cell_type": "markdown",
   "id": "1db1ec8d",
   "metadata": {},
   "source": [
    "## <font color=Blue size=5>**LineString**   \n",
    "\n",
    "<font color=Blue size=5>创建LineString对象与创建点的方式非常相似。可以使用Point点对象列表或传递坐标元组来创建线几何对象。"
   ]
  },
  {
   "cell_type": "code",
   "execution_count": null,
   "id": "a54ea4bb",
   "metadata": {},
   "outputs": [],
   "source": [
    "# Create a LineString from our Point objects\n",
    "line = LineString([point1, point2, point3])\n",
    "\n",
    "# It is also possible to use coordinate tuples having the same outcome\n",
    "line2 = LineString([(111.89, 25.78), (115.69, 23.68), (117.89, 26.78)])\n",
    "# Let’s see how our LineString looks like\n",
    "print(line)\n",
    "print(line2)\n",
    "\n",
    "print(type(line))"
   ]
  },
  {
   "cell_type": "code",
   "execution_count": null,
   "id": "5d63db31",
   "metadata": {},
   "outputs": [],
   "source": [
    "line"
   ]
  },
  {
   "cell_type": "markdown",
   "id": "d95754fb",
   "metadata": {},
   "source": [
    "### <font color=Blue size=5>**LineString的属性与方法**   \n",
    "\n",
    "<font color=Blue size=5>LineString对象有许多有用的内置属性和功能。例如，可以提取线串的坐标或长度，计算线的质心，沿线以特定距离创建点，计算线到指定点的最近距离，并简化几何图形。\n",
    "\n",
    "<font color=Blue size=5>以下代码提取线串的相关信息："
   ]
  },
  {
   "cell_type": "code",
   "execution_count": null,
   "id": "3a940276",
   "metadata": {},
   "outputs": [],
   "source": [
    "# Get x and y coordinates of the line\n",
    "lxy = line.xy\n",
    "print(\"line的xy坐标：\", lxy)\n",
    "\n",
    "# Extract x coordinates\n",
    "line_x = lxy[0]\n",
    "# Extract y coordinates \n",
    "line_y = line.xy[1]\n",
    "\n",
    "print(\"line的x坐标：\", line_x)\n",
    "print(\"line的y坐标：\", line_y)"
   ]
  },
  {
   "cell_type": "code",
   "execution_count": null,
   "id": "4b281eb3",
   "metadata": {},
   "outputs": [],
   "source": [
    "# Get the lenght of the line\n",
    "l_length = line.length\n",
    "\n",
    "# Get the centroid of the line\n",
    "l_centroid = line.centroid\n",
    "\n",
    "# What type is the centroid?\n",
    "centroid_type = type(l_centroid)\n",
    "\n",
    "# Print the outputs\n",
    "print(\"Length of our line: {0:.2f}\".format(l_length))\n",
    "print(\"Centroid of our line: \", l_centroid)\n",
    "print(\"Type of the centroid:\", centroid_type)"
   ]
  },
  {
   "cell_type": "markdown",
   "id": "a7a49f6a",
   "metadata": {},
   "source": [
    "### <font color=Blue size=5>**线性参考（Linear Referencing）**   \n",
    "\n",
    "<font color=Blue size=5>使用一维参照系统沿线性要素（如LineStrings、MultiLineStrings）指定位置非常有用。Shapely支持基于长度或距离的线性参考，计算沿几何对象到给定点投影的距离，或计算沿几何对象在给定距离上的点。   \n",
    "\n",
    "   * <font color=Blue size=5>**object.interpolate(distance[, normalized=False])**：返回沿线性几何对象指定距离处的点。如果normalized参数为真，则距离将被解释为占几何对象整个长度的多少，如0.5为整个长度的一半。\n",
    "   * <font color=Blue size=5>**object.project(other[, normalized=False])**：返回沿此几何对象到距离另一个对象最近的点的距离。如果normalized参数为真，则距离将被解释为占几何对象整个长度的多少，如0.5为整个长度的一半。project（）方法是interpolate（）的逆方法。"
   ]
  },
  {
   "cell_type": "code",
   "execution_count": null,
   "id": "a2d29271",
   "metadata": {},
   "outputs": [],
   "source": [
    "line = LineString([(0, 0), (0, 1), (1, 1)])\n",
    "ip = line.interpolate(1.5)\n",
    "ip"
   ]
  },
  {
   "cell_type": "code",
   "execution_count": null,
   "id": "761351fe",
   "metadata": {},
   "outputs": [],
   "source": [
    "ip.wkt"
   ]
  },
  {
   "cell_type": "code",
   "execution_count": null,
   "id": "7f1ab31f",
   "metadata": {},
   "outputs": [],
   "source": [
    "line.interpolate(0.75, normalized=True).wkt"
   ]
  },
  {
   "cell_type": "code",
   "execution_count": null,
   "id": "3fe14779",
   "metadata": {},
   "outputs": [],
   "source": [
    "line.project(ip)"
   ]
  },
  {
   "cell_type": "code",
   "execution_count": null,
   "id": "338eaa55",
   "metadata": {},
   "outputs": [],
   "source": [
    "line.project(ip, normalized=True)"
   ]
  },
  {
   "cell_type": "code",
   "execution_count": null,
   "id": "00577b28",
   "metadata": {},
   "outputs": [],
   "source": [
    "# 可以使用线性参照方法以指定的距离切割线几何对象。\n",
    "\n",
    "def cut(line, distance):\n",
    "    # Cuts a line in two at a distance from its starting point\n",
    "    if distance <= 0.0 or distance >= line.length:\n",
    "        return [LineString(line)]\n",
    "    coords = list(line.coords)\n",
    "    for i, p in enumerate(coords):\n",
    "        pd = line.project(Point(p))\n",
    "        if pd == distance:\n",
    "            return [\n",
    "                LineString(coords[:i+1]),\n",
    "                LineString(coords[i:])]\n",
    "        if pd > distance:\n",
    "            cp = line.interpolate(distance)\n",
    "            return [\n",
    "                LineString(coords[:i] + [(cp.x, cp.y)]),\n",
    "                LineString([(cp.x, cp.y)] + coords[i:])]\n",
    "line = LineString([(0, 0), (1, 0), (2, 0), (3, 0), (4, 0), (5, 0)])\n",
    "print([list(x.coords) for x in cut(line, 1.0)])"
   ]
  },
  {
   "cell_type": "code",
   "execution_count": null,
   "id": "c63fa18f",
   "metadata": {},
   "outputs": [],
   "source": [
    "print([list(x.coords) for x in cut(line, 2.5)])"
   ]
  },
  {
   "cell_type": "markdown",
   "id": "1520038f",
   "metadata": {},
   "source": [
    "## <font color=Blue size=5>**Polygon**   \n",
    "\n",
    "<font color=Blue size=5>创建多边形对象与创建Point和LineString的逻辑相同，但多边形对象只接受坐标元组作为输入。多边形至少需要三个坐标元组。"
   ]
  },
  {
   "cell_type": "code",
   "execution_count": null,
   "id": "f0df1664",
   "metadata": {},
   "outputs": [],
   "source": [
    "# Create a Polygon from the coordinates\n",
    "poly = Polygon([(111.89, 25.78), (115.69, 23.68), (117.89, 26.78)])\n",
    "\n",
    "# 也可以使用已有的点对象，但多边形对象需要x，y坐标作为输入\n",
    "poly2 = Polygon([[p.x, p.y] for p in [point1, point2, point3]])\n",
    "\n",
    "# Geometry type can be accessed as a String\n",
    "poly_type = poly.geom_type\n",
    "\n",
    "# Using the Python's type function gives the type in a different format\n",
    "poly_type2 = type(poly)\n",
    "\n",
    "# Let's see how our Polygon looks like\n",
    "print(poly)\n",
    "print(poly2)\n",
    "print(\"多边形的几何类型:\", poly_type)\n",
    "print(\"多边形的对象类型:\", poly_type2)"
   ]
  },
  {
   "cell_type": "code",
   "execution_count": null,
   "id": "dec008ad",
   "metadata": {},
   "outputs": [],
   "source": [
    "poly"
   ]
  },
  {
   "cell_type": "markdown",
   "id": "64190b4f",
   "metadata": {},
   "source": [
    "<font color=Blue size=5>请注意：多边形的坐标由双圆括号包围。这是因为多边形内部可能有孔。可以使用外部坐标和内部坐标（可选）构建多边形，其中内部坐标在多边形内创建孔。\n",
    "\n",
    "<font color=Blue size=5>创建带空洞的多边形："
   ]
  },
  {
   "cell_type": "code",
   "execution_count": null,
   "id": "97fe5041",
   "metadata": {},
   "outputs": [],
   "source": [
    "# 外环坐标元组列表\n",
    "world_exterior = [(-180, 90), (-180, -90), (180, -90), (180, 90)]\n",
    "\n",
    "# 内部空洞坐标元组列表，注意：可能有多个孔，需要提供一个孔列表[[......],...[......]]\n",
    "hole = [[(-170, 80), (-170, -80), (170, -80), (170, 80)]]\n",
    "\n",
    "# World without a hole\n",
    "world = Polygon(shell=world_exterior)\n",
    "\n",
    "# Now we can construct our Polygon with the hole inside\n",
    "world_has_a_hole = Polygon(shell=world_exterior, holes=hole)\n",
    "\n",
    "print(world)\n",
    "\n",
    "print(world_has_a_hole)\n",
    "\n",
    "type(world_has_a_hole)"
   ]
  },
  {
   "cell_type": "code",
   "execution_count": null,
   "id": "fd188fd6",
   "metadata": {},
   "outputs": [],
   "source": [
    "world"
   ]
  },
  {
   "cell_type": "code",
   "execution_count": null,
   "id": "3df214aa",
   "metadata": {},
   "outputs": [],
   "source": [
    "world_has_a_hole"
   ]
  },
  {
   "cell_type": "markdown",
   "id": "03630142",
   "metadata": {},
   "source": [
    "### <font color=Blue size=5>**Polygon的属性与方法**   \n",
    "\n",
    "<font color=Blue size=5>多边形的主要属性有：面积、质心、MBR、外部和外部长度等。"
   ]
  },
  {
   "cell_type": "code",
   "execution_count": null,
   "id": "bea5f29f",
   "metadata": {},
   "outputs": [],
   "source": [
    "# Get the centroid of the Polygon\n",
    "world_centroid = world.centroid\n",
    "\n",
    "# Get the area of the Polygon\n",
    "world_area = world.area\n",
    "\n",
    "# Get the bounds of the Polygon (i.e. bounding box)\n",
    "world_bbox = world.bounds\n",
    "\n",
    "# Get the exterior of the Polygon\n",
    "world_ext = world.exterior\n",
    "\n",
    "# Get the length of the exterior\n",
    "world_ext_length = world_ext.length\n",
    "print(\"Poly centroid: \", world_centroid)\n",
    "print(\"Poly Area: \", world_area)\n",
    "print(\"Poly Bounding Box: \", world_bbox)\n",
    "print(\"Poly Exterior: \", world_ext)\n",
    "print(\"Poly Exterior Length: \", world_ext_length)"
   ]
  },
  {
   "cell_type": "markdown",
   "id": "bc86cf4e",
   "metadata": {},
   "source": [
    "## <font color=Blue size=5>**从文本文件中读取XY坐标**   \n",
    "\n",
    "<font color=Blue size=5>我们可以使用Python中常用的pandas包读取文本文件中的坐标数据，并转换为DataFrame类型，然后根据DataFrame中的坐标数据创建点几何对象。"
   ]
  },
  {
   "cell_type": "code",
   "execution_count": null,
   "id": "4bca66ab",
   "metadata": {},
   "outputs": [],
   "source": [
    "import pandas as pd\n",
    "\n",
    "df = pd.read_csv('data/globalcities.csv', sep=';', encoding='latin1')\n",
    "print(type(df))\n",
    "df.head(5)\n",
    " "
   ]
  },
  {
   "cell_type": "code",
   "execution_count": null,
   "id": "592992f0",
   "metadata": {},
   "outputs": [],
   "source": [
    "# 根据df(DataFrame)中的Longitude、Latitude数据创建点几何对象。\n",
    "\n",
    "def make_point(row): \n",
    "    return Point(row['Longitude'], row['Latitude'])\n",
    "\n",
    "# apply()方法中的参数axis=1，表示逐行向下处理\n",
    "df['points'] = df.apply(make_point, axis=1)\n",
    "\n",
    "print(df.head(5))"
   ]
  },
  {
   "cell_type": "markdown",
   "id": "9ee1ea1c",
   "metadata": {},
   "source": [
    "## <font color=Blue size=5>**几何集合对象**   \n",
    "\n",
    "<font color=Blue size=5>在某些情况下，将多条直线或多边形存储在单个地理要素中（如，Shapefile中的一行表示多个线或多边形对象）非常有用。点集合通过使用MultiPoint对象实现，曲线集合通过使用MultiLineString对象实现，面集合通过MultiPolygon对象实现。这些集合在计算上并不重要，但对于建模某些类型的要素非常有用。Y形线要素（如道路）或多个多边形（如岛等）可以通过相应地使用MultiLineString或MultiPolygon很好地作为一个整体表达。创建和可视化MBR（例如围绕数据点）对于许多目的（例如试图理解数据的范围）都是非常有用的功能。\n",
    "\n",
    "<font color=Blue size=5>可以通过以下方式来构建几何集合对象："
   ]
  },
  {
   "cell_type": "code",
   "execution_count": null,
   "id": "969bf050",
   "metadata": {},
   "outputs": [],
   "source": [
    "# Import collections of geometric objects + bounding box\n",
    "from shapely.geometry import MultiPoint, MultiLineString, MultiPolygon, box\n",
    "\n",
    "# Create a MultiPoint object of our points 1,2 and 3\n",
    "multi_point = MultiPoint([point1, point2, point3])\n",
    "\n",
    "# It is also possible to pass coordinate tuples inside\n",
    "multi_point2 = MultiPoint([(111.89, 25.78), (115.69, 23.68), (117.89, 26.78)])\n",
    "\n",
    "# We can also create a MultiLineString with two lines\n",
    "line1 = LineString([point1, point2])\n",
    "\n",
    "line2 = LineString([point2, point3])\n",
    "\n",
    "multi_line = MultiLineString([line1, line2])\n",
    "\n",
    "west_exterior = [(-180, 90), (-180, -90), (0, -90), (0, 90)]\n",
    "\n",
    "west_hole = [[(-170, 80), (-170, -80), (-10, -80), (-10, 80)]]\n",
    "\n",
    "# Create the Polygon\n",
    "west_poly = Polygon(shell=west_exterior, holes=west_hole)\n",
    "\n",
    "min_x, min_y = 0, -90\n",
    "max_x, max_y = 180, 90\n",
    "\n",
    "# Create the polygon using box() function\n",
    "east_poly_box = box(minx=min_x, miny=min_y, maxx=max_x, maxy=max_y)\n",
    "\n",
    "# Let's create our MultiPolygon. We can pass multiple Polygon -objects into our MultiPolygon as a list\n",
    "multi_poly = MultiPolygon([west_poly, east_poly_box])\n",
    "\n",
    "print(\"MultiPoint:\", multi_point)\n",
    "\n",
    "print(\"MultiLine: \", multi_line)\n",
    "\n",
    "print(\"Bounding box: \", east_poly_box)\n",
    "\n",
    "print(\"MultiPoly: \", multi_poly)"
   ]
  },
  {
   "cell_type": "code",
   "execution_count": null,
   "id": "a2a68c01",
   "metadata": {},
   "outputs": [],
   "source": [
    "multi_line"
   ]
  },
  {
   "cell_type": "code",
   "execution_count": null,
   "id": "863a957e",
   "metadata": {},
   "outputs": [],
   "source": [
    "multi_poly"
   ]
  },
  {
   "cell_type": "markdown",
   "id": "f2e43f4b",
   "metadata": {},
   "source": [
    "### <font color=Blue size=5>**几何集合对象的属性与方法**"
   ]
  },
  {
   "cell_type": "code",
   "execution_count": null,
   "id": "62ab9e6b",
   "metadata": {},
   "outputs": [],
   "source": [
    "# Convex Hull of our MultiPoint\n",
    "convex = multi_point.convex_hull\n",
    "\n",
    "# How many lines do we have inside our MultiLineString?\n",
    "lines_count = len(multi_line)\n",
    "\n",
    "# Let's calculate the area of our MultiPolygon\n",
    "multi_poly_area = multi_poly.area\n",
    "\n",
    "# 可以访问几何集合中的不同项。\n",
    "west_area = multi_poly[0].area\n",
    "\n",
    "# 可以检测几何对象是否有效，多边形的环不能有重叠，线几何不能自相交\n",
    "valid = multi_poly.is_valid\n",
    "\n",
    "print(\"Convex hull of the points: \", convex)\n",
    "print(\"Number of lines in MultiLineString:\", lines_count)\n",
    "print(\"Area of our MultiPolygon:\", multi_poly_area)\n",
    "print(\"Area of our Western Hemisphere polygon:\", west_area)\n",
    "print(\"Is polygon valid?: \", valid)"
   ]
  },
  {
   "cell_type": "markdown",
   "id": "05ac06a9",
   "metadata": {},
   "source": [
    "## <font color=Blue size=5>**几何对象通用属性和方法**   \n",
    "\n",
    "<font color=Blue size=5>几何对象通用属性和方法如下：\n",
    "   * <font color=Blue size=5>object.area -- 返回几何对象的面积(float) 。  \n",
    "   * <font color=Blue size=5>object.bounds -- 返回几何对象的MBR (minx, miny, maxx, maxy) 。  \n",
    "   * <font color=Blue size=5>object.length -- 返回几何对象的长度。   \n",
    "   * <font color=Blue size=5>object.minimum_clearance -- 返回可移动节点以生成无效几何对象的最小距离。这可以被认为是几何对象稳健性的度量，其中最小间隙的较大值表示更稳健的几何结构。如果几何对象（如点）不存在最小间隙，则返回math.infinity。\n",
    "   * <font color=Blue size=5>object.geom_type -- 返回几何对象的字符串几何类型。    \n",
    "   * <font color=Blue size=5>object.distance(other) -- 返回几何对象与其它几何对象(other)的最短距离(float)。   \n",
    "   * <font color=Blue size=5>object.hausdorff_distance(other) -- 返回几何对象与其它几何对象(other)的Hausdorff距离。两个几何体之间的Hausdorff距离是任意一个几何对象上的一个点与另一个几何对象上的最近点之间的最远距离。   \n",
    "   * <font color=Blue size=5>object.representative_point() -- 返回一个廉价计算的点，该点保证位于几何对象内。"
   ]
  },
  {
   "cell_type": "code",
   "execution_count": null,
   "id": "1b33b119",
   "metadata": {},
   "outputs": [],
   "source": [
    "from shapely.geometry import Polygon\n",
    "poly = Polygon([[0, 0], [1, 0], [1, 1], [0, 1], [0, 0]])\n",
    "poly"
   ]
  },
  {
   "cell_type": "code",
   "execution_count": null,
   "id": "52bbefbb",
   "metadata": {},
   "outputs": [],
   "source": [
    "poly.minimum_clearance"
   ]
  },
  {
   "cell_type": "code",
   "execution_count": null,
   "id": "575ee317",
   "metadata": {},
   "outputs": [],
   "source": [
    "Point(0, 0).geom_type"
   ]
  },
  {
   "cell_type": "code",
   "execution_count": null,
   "id": "4da3ea24",
   "metadata": {},
   "outputs": [],
   "source": [
    "print((type(Point(0, 0))))"
   ]
  },
  {
   "cell_type": "code",
   "execution_count": null,
   "id": "9bcb2ebc",
   "metadata": {},
   "outputs": [],
   "source": [
    "Point(0,0).distance(Point(1,1))"
   ]
  },
  {
   "cell_type": "code",
   "execution_count": null,
   "id": "d9108ca4",
   "metadata": {},
   "outputs": [],
   "source": [
    "point = Point(1, 1)\n",
    "line = LineString([(2, 0), (2, 4), (3, 4)])"
   ]
  },
  {
   "cell_type": "code",
   "execution_count": null,
   "id": "e25e3ebc",
   "metadata": {},
   "outputs": [],
   "source": [
    "point"
   ]
  },
  {
   "cell_type": "code",
   "execution_count": null,
   "id": "67d89714",
   "metadata": {},
   "outputs": [],
   "source": [
    "line"
   ]
  },
  {
   "cell_type": "code",
   "execution_count": null,
   "id": "195957f2",
   "metadata": {},
   "outputs": [],
   "source": [
    "point.hausdorff_distance(line)"
   ]
  },
  {
   "cell_type": "code",
   "execution_count": null,
   "id": "29fc0434",
   "metadata": {},
   "outputs": [],
   "source": [
    "point.distance(Point(3, 4))"
   ]
  },
  {
   "cell_type": "code",
   "execution_count": null,
   "id": "ba1ae4c7",
   "metadata": {},
   "outputs": [],
   "source": [
    "donut = Point(0, 0).buffer(2.0).difference(Point(0, 0).buffer(1.0))\n",
    "donut.centroid.wkt"
   ]
  },
  {
   "cell_type": "code",
   "execution_count": null,
   "id": "a0ba9e4a",
   "metadata": {},
   "outputs": [],
   "source": [
    "donut"
   ]
  },
  {
   "cell_type": "code",
   "execution_count": null,
   "id": "75eefde0",
   "metadata": {},
   "outputs": [],
   "source": [
    "donut.centroid"
   ]
  },
  {
   "cell_type": "code",
   "execution_count": null,
   "id": "2a497f55",
   "metadata": {},
   "outputs": [],
   "source": [
    "donut.representative_point()"
   ]
  },
  {
   "cell_type": "code",
   "execution_count": null,
   "id": "721b2774",
   "metadata": {},
   "outputs": [],
   "source": [
    "donut.representative_point().wkt"
   ]
  },
  {
   "cell_type": "markdown",
   "id": "8b483786",
   "metadata": {},
   "source": [
    "# <font color=Blue size=5>**空间谓词与空间关系**   \n",
    "    \n",
    "<font color=Blue size=5>几何对象提供了标准谓词作为属性（一元谓词）和方法（二元谓词）。无论一元还是二元谓词，都返回True或False。   \n",
    "\n",
    "## <font color=Blue size=5>**一元谓词（Unary Predicates）**   \n",
    "\n",
    "<font color=Blue size=5>标准的一元谓词实现为几何对象的只读属性。   \n",
    "   * <font color=Blue size=5>**object.has_z**: 如果要素不仅具有x和y坐标，还具有z坐标的3D（或所谓的2.5D）几何图形，则返回True。   \n",
    "   * <font color=Blue size=5>**object.is_ccw**: 如果坐标按逆时针方向排列（用正号的面积包围一个区域带），则返回True。此方法仅适用于LinearRing对象。   \n",
    "   * <font color=Blue size=5>**object.is_empty**: 如果要素的内部（interior）和边界（boundary）都为空集，则返回True。   \n",
    "   * <font color=Blue size=5>**object.is_ring**: 如果要素是闭合的简单LineString，则返回True。闭合线要素的边界（boundary）为空集。此属性适用于LineString和LinearRing实例，对其他实例没有意义。   \n",
    "   * <font color=Blue size=5>**object.is_simple**: 如果要素没有自相交，则返回True。该属性仅对linestring和linearring有意义。\n",
    "   * <font color=Blue size=5>**object.is_valid**: 如果要素符合OGC简单要素访问规范意义上的“有效”，则返回True。一个有效的LinearRing不能自交叉，或在单个点相接（touch）。有效的多边形不能有任何重叠的外环或内环。有效的MultiPolygon不能有任何重叠的多边形。"
   ]
  },
  {
   "cell_type": "code",
   "execution_count": null,
   "id": "dc689e55",
   "metadata": {},
   "outputs": [],
   "source": [
    "Point(0, 0).has_z"
   ]
  },
  {
   "cell_type": "code",
   "execution_count": null,
   "id": "f2590fd7",
   "metadata": {},
   "outputs": [],
   "source": [
    "Point(0, 0, 0).has_z"
   ]
  },
  {
   "cell_type": "code",
   "execution_count": null,
   "id": "e3a23f46",
   "metadata": {},
   "outputs": [],
   "source": [
    "from shapely.geometry import LinearRing\n",
    "\n",
    "LinearRing([(1,0), (1,1), (0,0)]).is_ccw"
   ]
  },
  {
   "cell_type": "code",
   "execution_count": null,
   "id": "d0226976",
   "metadata": {},
   "outputs": [],
   "source": [
    "# A ring with an undesired orientation can be reversed like this:\n",
    "\n",
    "ring = LinearRing([(0,0), (1,1), (1,0)])\n",
    "ring.is_ccw"
   ]
  },
  {
   "cell_type": "code",
   "execution_count": null,
   "id": "7e86260f",
   "metadata": {},
   "outputs": [],
   "source": [
    "ring.coords = list(ring.coords)[::-1]\n",
    "ring.is_ccw"
   ]
  },
  {
   "cell_type": "code",
   "execution_count": null,
   "id": "ee712315",
   "metadata": {},
   "outputs": [],
   "source": [
    "Point().is_empty"
   ]
  },
  {
   "cell_type": "code",
   "execution_count": null,
   "id": "4f3ff38a",
   "metadata": {},
   "outputs": [],
   "source": [
    "Point(0, 0).is_empty"
   ]
  },
  {
   "cell_type": "code",
   "execution_count": null,
   "id": "078d97f6",
   "metadata": {},
   "outputs": [],
   "source": [
    "line = LineString([(0, 0), (1, 1), (1, -1)])\n",
    "line"
   ]
  },
  {
   "cell_type": "code",
   "execution_count": null,
   "id": "762cade7",
   "metadata": {},
   "outputs": [],
   "source": [
    "line.is_ring"
   ]
  },
  {
   "cell_type": "code",
   "execution_count": null,
   "id": "a0e17ad7",
   "metadata": {},
   "outputs": [],
   "source": [
    "ring = LinearRing([(0, 0), (1, 1), (1, -1)])\n",
    "ring"
   ]
  },
  {
   "cell_type": "code",
   "execution_count": null,
   "id": "cd4542e1",
   "metadata": {},
   "outputs": [],
   "source": [
    "ring.is_ring"
   ]
  },
  {
   "cell_type": "code",
   "execution_count": null,
   "id": "b9f84fb1",
   "metadata": {},
   "outputs": [],
   "source": [
    "line = LineString([(0, 0), (1, 1), (1, -1), (0, 1)])\n",
    "line"
   ]
  },
  {
   "cell_type": "code",
   "execution_count": null,
   "id": "f1ef2ab8",
   "metadata": {},
   "outputs": [],
   "source": [
    "line.is_simple"
   ]
  },
  {
   "cell_type": "code",
   "execution_count": null,
   "id": "01d21fdf",
   "metadata": {},
   "outputs": [],
   "source": [
    "poly = MultiPolygon([Point(0, 0).buffer(2.0), Point(1, 1).buffer(2.0)])\n",
    "poly"
   ]
  },
  {
   "cell_type": "code",
   "execution_count": null,
   "id": "2ea9ba4c",
   "metadata": {},
   "outputs": [],
   "source": [
    "poly.is_valid"
   ]
  },
  {
   "cell_type": "markdown",
   "id": "bda64f8e",
   "metadata": {},
   "source": [
    "## <font color=Blue size=5>**二元谓词（Binary Predicates）**   \n",
    "\n",
    "<font color=Blue size=5>标准二元谓词作为方法实现。二元谓词用于检测两个几何对象之间的拓扑关系、基于集合理论的关系。二元谓词都以另一个几何对象作为参数，并返回True或False。   \n",
    "   * <font color=Blue size=5> **object.__eq__(other)**: 如果两个对象具有相同的几何类型，并且两个对象的坐标精确匹配，则返回True。   \n",
    "   * <font color=Blue size=5> **object.equals(other)**: 如果对象的边界、内部和外部与其他对象的边界、内部和外部一致，则返回True。    \n",
    "   <font color=Blue size=5>传递给对象构造函数的坐标是这些集合的一部分，但不是集合的整体。例如，等效线的构造可以不同。   \n",
    "   * <font color=Blue size=5>**object.almost_equals(other[, decimal=6])**: 如果对象在指定小数点精度的所有点上都近似等于其它对象上的所有点，则返回True。     \n",
    "   * <font color=Blue size=5>**object.contains(other)**: 如果该对象包含其它几何对象，则返回True。即：如果其它几何对象没有点位于该几何对象的外部，且其他几何对象内部至少有一个点位于该几何对象内部，则返回True。该谓词适用于所有几何类型，与within（）相反。表达式a.contains(b) == b.within(a).   \n",
    "   * <font color=Blue size=5>**object.within(other)**: 如果对象的边界和内部仅与另一个对象的内部（而不是其边界或外部）相交，则返回True。a.within(b) == b.contains(a)   \n",
    "   * <font color=Blue size=5>**object.crosses(other)**: 如果该对象穿越其它对象，则返回True，如线穿越面。即，如果该对象的内部与另一个对象内部相交但不包含该内部，并且相交的维度小于其中一个的维度，则返回True。\n",
    "   * <font color=Blue size=5>**object.disjoint(other)**: 如果对象的边界和内部与另一个对象的边界和内部完全不相交，则返回True。    \n",
    "   * <font color=Blue size=5>**object.intersects(other)**: 如果对象的边界或内部以任何方式与其他对象的边界或内部相交，则返回True。换句话说，如果几何对象有共同的边界或内部点，它们就会相交。     \n",
    "   * <font color=Blue size=5>**object.overlaps(other)**: 如果两个相同几何维度的几何对象具有多个但不是所有的公共点，且它们的内部交集也具有相同的几何维度，则返回True。   \n",
    "   * <font color=Blue size=5>**object.touches(other)**: 如果两个几何对象至少有一个公共点，并且它们的内部不与另一个的任何部分相交，则返回True。"
   ]
  },
  {
   "cell_type": "code",
   "execution_count": null,
   "id": "4ce65efd",
   "metadata": {},
   "outputs": [],
   "source": [
    "a = LineString([(0, 0), (1, 1)])\n",
    "b = LineString([(0, 0), (0.5, 0.5), (1, 1)])\n",
    "c = LineString([(0, 0), (0, 0), (1, 1)])\n",
    "a.equals(b)"
   ]
  },
  {
   "cell_type": "code",
   "execution_count": null,
   "id": "b5ce2ac7",
   "metadata": {},
   "outputs": [],
   "source": [
    "a == b"
   ]
  },
  {
   "cell_type": "code",
   "execution_count": null,
   "id": "2380c1c7",
   "metadata": {},
   "outputs": [],
   "source": [
    "b.equals(c)"
   ]
  },
  {
   "cell_type": "code",
   "execution_count": null,
   "id": "059cc6d8",
   "metadata": {},
   "outputs": [],
   "source": [
    "b == c"
   ]
  },
  {
   "cell_type": "code",
   "execution_count": null,
   "id": "4012de68",
   "metadata": {},
   "outputs": [],
   "source": [
    "coords = [(0, 0), (1, 1)]\n",
    "LineString(coords).contains(Point(0.5, 0.5))"
   ]
  },
  {
   "cell_type": "code",
   "execution_count": null,
   "id": "30f1f0d6",
   "metadata": {},
   "outputs": [],
   "source": [
    "Point(0.5, 0.5).within(LineString(coords))"
   ]
  },
  {
   "cell_type": "code",
   "execution_count": null,
   "id": "69199dee",
   "metadata": {},
   "outputs": [],
   "source": [
    "LineString(coords).contains(Point(1.0, 1.0))"
   ]
  },
  {
   "cell_type": "code",
   "execution_count": null,
   "id": "07bbaa66",
   "metadata": {},
   "outputs": [],
   "source": [
    "LineString(coords).crosses(LineString([(0, 1), (1, 0)]))"
   ]
  },
  {
   "cell_type": "code",
   "execution_count": null,
   "id": "06a7b340",
   "metadata": {},
   "outputs": [],
   "source": [
    "LineString(coords).crosses(Point(0.5, 0.5))"
   ]
  },
  {
   "cell_type": "code",
   "execution_count": null,
   "id": "558e0ed9",
   "metadata": {},
   "outputs": [],
   "source": [
    "Point(0, 0).disjoint(Point(1, 1))\n",
    "\n",
    "a = LineString([(0, 0), (1, 1)])\n",
    "b = LineString([(1, 1), (2, 2)])\n",
    "a.touches(b)"
   ]
  },
  {
   "cell_type": "markdown",
   "id": "9d023cef",
   "metadata": {},
   "source": [
    "## <font color=Blue size=5>**九交模型关系**   \n",
    "\n",
    "<font color=Blue size=5>两个几何对象之间的空间关系通常可以通过基于维数扩展的九交模型（DE-9IM）即九交矩阵来表达，反过来，也可以给定一个九交矩阵（或对应的字符串），来检测两个几何对象是否满足九交矩阵对应的空间关系。   \n",
    "* <font color=Blue size=5>**object.relate(other)**: 返回该对象的内部、边界、外部和其他几何对象的内部、边界、外部之间关系的DE-9IM矩阵的字符串表示。   \n",
    "* <font color=Blue size=5>**object.relate_pattern(other, pattern)**: 如果几何对象空间关系的DE-9IM字符串满足pattern模式，则返回True，否则返回False。relate_pattern()将两个几何对象空间关系的DE-9IM字符串与指定的模式进行比较，如果字符串与模式匹配，则返回True，否则返回False。指定的模式可以是完全匹配（0、1或2）、布尔匹配（T或F）或```通配符（*）```。例如，within谓词的模式是```T******FF*```。"
   ]
  },
  {
   "cell_type": "code",
   "execution_count": null,
   "id": "e9d57f1f",
   "metadata": {},
   "outputs": [],
   "source": [
    "Point(0, 0).relate(Point(1, 1))"
   ]
  },
  {
   "cell_type": "code",
   "execution_count": null,
   "id": "d8d896ca",
   "metadata": {},
   "outputs": [],
   "source": [
    "Point(0, 0).relate(LineString([(0, 0), (1, 1)]))"
   ]
  },
  {
   "cell_type": "code",
   "execution_count": null,
   "id": "df786206",
   "metadata": {},
   "outputs": [],
   "source": [
    "point = Point(0.5, 0.5)\n",
    "square = Polygon([(0, 0), (0, 1), (1, 1), (1, 0)])\n",
    "square.relate_pattern(point, 'T*****FF*')"
   ]
  },
  {
   "cell_type": "code",
   "execution_count": null,
   "id": "d2bbd686",
   "metadata": {},
   "outputs": [],
   "source": [
    "point.within(square)"
   ]
  },
  {
   "cell_type": "code",
   "execution_count": null,
   "id": "f4012fa9",
   "metadata": {},
   "outputs": [],
   "source": [
    "# Note that the order or the geometries is significant, as demonstrated below. \n",
    "# In this example the square contains the point, but the point does not contain the square.\n",
    "point.relate(square)"
   ]
  },
  {
   "cell_type": "code",
   "execution_count": null,
   "id": "27a60e76",
   "metadata": {},
   "outputs": [],
   "source": [
    "square.relate(point)"
   ]
  },
  {
   "cell_type": "markdown",
   "id": "8d637198",
   "metadata": {},
   "source": [
    "# <font color=Blue size=5>**空间操作运算**   \n",
    "\n",
    "<font color=Blue size=5>Shapely还提供了空间操作运算来产生新的几何对象。   \n",
    "    \n",
    "## <font color=Blue size=5>**基于集合理论的操作运算**   \n",
    "\n",
    "<font color=Blue size=5>几乎每个二元谓词方法都有一个对应的空间操作运算返回一个新的几何对象。此外，几何对象的边界为只读属性。\n",
    "<font color=Blue size=5>空间操作运算总是返回一个几何对象。例如，不相交几何对象的交集将返回空的GeometryCollection，而不是None或False。若要测试一个几何对象是否为空，可以使用is_empty属性。   \n",
    "* <font color=Blue size=5>**object.boundary**：返回几何对象的边界。多边形的边界为线（即多边形的边界环），线的边界是点的集合（即线几何的端点），点的边界是空集（null）。"
   ]
  },
  {
   "cell_type": "code",
   "execution_count": null,
   "id": "04ff74b4",
   "metadata": {},
   "outputs": [],
   "source": [
    "coords = [((0, 0), (1, 1)), ((-1, 0), (1, 0))]\n",
    "lines = MultiLineString(coords)\n",
    "lines"
   ]
  },
  {
   "cell_type": "code",
   "execution_count": null,
   "id": "eef68581",
   "metadata": {},
   "outputs": [],
   "source": [
    "lines.boundary"
   ]
  },
  {
   "cell_type": "code",
   "execution_count": null,
   "id": "b0ff9371",
   "metadata": {},
   "outputs": [],
   "source": [
    "print(list(lines.boundary))"
   ]
  },
  {
   "cell_type": "code",
   "execution_count": null,
   "id": "f7593bc4",
   "metadata": {},
   "outputs": [],
   "source": [
    "list(lines.boundary)"
   ]
  },
  {
   "cell_type": "code",
   "execution_count": null,
   "id": "d3064211",
   "metadata": {},
   "outputs": [],
   "source": [
    "print(lines.boundary.boundary)"
   ]
  },
  {
   "cell_type": "markdown",
   "id": "4b439a3f",
   "metadata": {},
   "source": [
    "* <font color=Blue size=5>**object.centroid**：返回几何对象的质心(point)。"
   ]
  },
  {
   "cell_type": "code",
   "execution_count": null,
   "id": "69f1886f",
   "metadata": {},
   "outputs": [],
   "source": [
    "LineString([(0, 0), (1, 1)]).centroid"
   ]
  },
  {
   "cell_type": "code",
   "execution_count": null,
   "id": "7830cb1e",
   "metadata": {},
   "outputs": [],
   "source": [
    "LineString([(0, 0), (1, 1)]).centroid.wkt"
   ]
  },
  {
   "cell_type": "markdown",
   "id": "de506521",
   "metadata": {},
   "source": [
    "* <font color=Blue size=5>**object.difference(other)**: 该几何对象去除与其它几何对象的公共部分。"
   ]
  },
  {
   "cell_type": "code",
   "execution_count": null,
   "id": "0a4866c1",
   "metadata": {},
   "outputs": [],
   "source": [
    "a = Point(1, 1).buffer(1.5)\n",
    "a"
   ]
  },
  {
   "cell_type": "code",
   "execution_count": null,
   "id": "5d7710db",
   "metadata": {},
   "outputs": [],
   "source": [
    "b = Point(2, 1).buffer(1.5)\n",
    "b"
   ]
  },
  {
   "cell_type": "code",
   "execution_count": null,
   "id": "90606287",
   "metadata": {},
   "outputs": [],
   "source": [
    "a.difference(b)"
   ]
  },
  {
   "cell_type": "markdown",
   "id": "a8a48b79",
   "metadata": {},
   "source": [
    "* <font color=Blue size=5>**object.intersection(other)**: 返回两个几何对象的交集（即公共部分）。"
   ]
  },
  {
   "cell_type": "code",
   "execution_count": null,
   "id": "13472b2f",
   "metadata": {},
   "outputs": [],
   "source": [
    "a = Point(1, 1).buffer(1.5)\n",
    "b = Point(2, 1).buffer(1.5)\n",
    "a.intersection(b)"
   ]
  },
  {
   "cell_type": "markdown",
   "id": "b25402d9",
   "metadata": {},
   "source": [
    "* <font color=Blue size=5>**object.symmetric_difference(other)**: 去除两个几何对象的公共部分，其余部分保留。"
   ]
  },
  {
   "cell_type": "code",
   "execution_count": null,
   "id": "07ffec73",
   "metadata": {},
   "outputs": [],
   "source": [
    "a = Point(1, 1).buffer(1.5)\n",
    "b = Point(2, 1).buffer(1.5)\n",
    "a.symmetric_difference(b)"
   ]
  },
  {
   "cell_type": "markdown",
   "id": "7c8ba5fc",
   "metadata": {},
   "source": [
    "* <font color=Blue size=5>**object.union(other)**: 返回两个几何对象的并集（即所有部分）。"
   ]
  },
  {
   "cell_type": "code",
   "execution_count": null,
   "id": "5df2ef57",
   "metadata": {},
   "outputs": [],
   "source": [
    "a = Point(1, 1).buffer(1.5)\n",
    "b = Point(2, 1).buffer(1.5)\n",
    "a.union(b)"
   ]
  },
  {
   "cell_type": "code",
   "execution_count": null,
   "id": "1ad9965f",
   "metadata": {},
   "outputs": [],
   "source": [
    "a.union(b).boundary"
   ]
  },
  {
   "cell_type": "code",
   "execution_count": null,
   "id": "908018f6",
   "metadata": {},
   "outputs": [],
   "source": [
    "a.boundary.union(b.boundary)"
   ]
  },
  {
   "cell_type": "markdown",
   "id": "b46c32c4",
   "metadata": {},
   "source": [
    "* <font color=Blue size=5>**object.buffer(distance, resolution=16, cap_style=1, join_style=1, mitre_limit=5.0, single_sided=False)**: 返回几何对象给定距离的缓冲区多边形。   \n",
    "   <font color=Blue size=5>**cap_style**参数: 用于确定线末端缓冲类型：1 (round，圆头), 2 (flat, 扁平), 3 (square，方形)，对应shapely.geometry.CAP_STYLE的值。    \n",
    "   <font color=Blue size=5>**join_style**参数: 用于确定线段之间连接类型：1 (round，圆头), 2 (mitre，锐角斜接), 3 (bevel，平头斜切)，对应shapely.geometry.JOIN_STYLE 的值。   \n",
    "   <font color=Blue size=5>可选的**resolution参数**：确定用于表达四分之一圆弧的线段数。   \n",
    "   <font color=Blue size=5>**distance**：正距离具有扩张效应，正常的内外缓冲；负距离表现为侵蚀效应，一般仅做内缓冲。   \n",
    "   ![image.png](attachment:ae6db83b-700b-4133-859e-d5c124775eff.png)\n",
    "   <font color=Blue size=5>**single_sided**: 为True，仅做单边缓冲；distance为正，做左边缓冲；distance为负，做右边缓冲。     \n",
    "   ![image.png](attachment:aa31644b-59a2-4ebc-9059-77a929c3660e.png)"
   ]
  },
  {
   "cell_type": "code",
   "execution_count": null,
   "id": "4b85b5fc",
   "metadata": {},
   "outputs": [],
   "source": [
    "from shapely.geometry import CAP_STYLE, JOIN_STYLE\n",
    "CAP_STYLE.flat"
   ]
  },
  {
   "cell_type": "code",
   "execution_count": null,
   "id": "02f1fc41",
   "metadata": {},
   "outputs": [],
   "source": [
    "JOIN_STYLE.bevel"
   ]
  },
  {
   "cell_type": "code",
   "execution_count": null,
   "id": "48d207ee",
   "metadata": {},
   "outputs": [],
   "source": [
    "line = LineString([(0, 0), (1, 1), (0, 2), (2, 2), (3, 1), (1, 0)])\n",
    "line"
   ]
  },
  {
   "cell_type": "code",
   "execution_count": null,
   "id": "10a45091",
   "metadata": {},
   "outputs": [],
   "source": [
    "dilated = line.buffer(0.5)\n",
    "dilated"
   ]
  },
  {
   "cell_type": "code",
   "execution_count": null,
   "id": "e2a8f880",
   "metadata": {},
   "outputs": [],
   "source": [
    "eroded = dilated.buffer(-0.3)\n",
    "eroded"
   ]
  },
  {
   "cell_type": "code",
   "execution_count": null,
   "id": "bd53e709",
   "metadata": {},
   "outputs": [],
   "source": [
    "line = LineString([(0, 0), (1, 1), (0, 2), (2, 2), (3, 1), (1, 0)])\n",
    "left_hand_side = line.buffer(0.5, single_sided=True)\n",
    "left_hand_side"
   ]
  },
  {
   "cell_type": "code",
   "execution_count": null,
   "id": "4f8f5483",
   "metadata": {},
   "outputs": [],
   "source": [
    "right_hand_side = line.buffer(-0.3, single_sided=True)\n",
    "right_hand_side"
   ]
  },
  {
   "cell_type": "markdown",
   "id": "adfeda6e",
   "metadata": {},
   "source": [
    "   * <font color=Blue size=5>**object.convex_hull**: 返回几何对象（构成几何对象的点数>=3）的最小凸多边形；点数为2时，最小凸多边形退化为一线段；点数为1时，最小凸多边形退化为一个点。"
   ]
  },
  {
   "cell_type": "code",
   "execution_count": null,
   "id": "26c7a239",
   "metadata": {},
   "outputs": [],
   "source": [
    "Point(0, 0).convex_hull"
   ]
  },
  {
   "cell_type": "code",
   "execution_count": null,
   "id": "70332d0b",
   "metadata": {},
   "outputs": [],
   "source": [
    "MultiPoint([(0, 0), (1, 1)]).convex_hull"
   ]
  },
  {
   "cell_type": "code",
   "execution_count": null,
   "id": "634179d5",
   "metadata": {},
   "outputs": [],
   "source": [
    "MultiPoint([(0, 0), (1, 1), (1, -1)]).convex_hull"
   ]
  },
  {
   "cell_type": "markdown",
   "id": "4d2206ad",
   "metadata": {},
   "source": [
    "* <font color=Blue size=5>**object.envelope**: 返回几何对象的最小外包矩形MBR，MBR的两边平行于坐标轴。"
   ]
  },
  {
   "cell_type": "code",
   "execution_count": null,
   "id": "93048a67",
   "metadata": {},
   "outputs": [],
   "source": [
    "Point(0, 0).envelope"
   ]
  },
  {
   "cell_type": "code",
   "execution_count": null,
   "id": "11529dd5",
   "metadata": {},
   "outputs": [],
   "source": [
    "MultiPoint([(0, 0), (1, 1)]).envelope"
   ]
  },
  {
   "cell_type": "markdown",
   "id": "61493ad3",
   "metadata": {},
   "source": [
    "* <font color=Blue size=5>**object.minimum_rotated_rectangle**: 返回最小外包矩形，不要求与坐标轴平行，可旋转。"
   ]
  },
  {
   "cell_type": "code",
   "execution_count": null,
   "id": "0bccf6b3",
   "metadata": {},
   "outputs": [],
   "source": [
    "Point(0, 0).minimum_rotated_rectangle"
   ]
  },
  {
   "cell_type": "code",
   "execution_count": null,
   "id": "e8014cd0",
   "metadata": {},
   "outputs": [],
   "source": [
    "MultiPoint([(0,0),(1,1),(2,0.5)]).minimum_rotated_rectangle"
   ]
  },
  {
   "cell_type": "markdown",
   "id": "acb9a0ce",
   "metadata": {},
   "source": [
    "* <font color=Blue size=5>**object.parallel_offset(distance, side, resolution=16, join_style=1, mitre_limit=5.0)**: 返回距离对象右侧或左侧一定距离的LineString或MultiLineString几何对象。   \n",
    "\n",
    "   <font color=Blue size=5>**distance**参数：必须为正的浮点数。  \n",
    "   <font color=Blue size=5>**side**参数：为‘left’ 或 ‘right’. ‘left’ 、 ‘right’是根据LineString的给定几何点的方向来确定的。右侧偏移，按与原始线串或线环相反的方向返回，而左侧偏移，按与原始线串或线环相同的方向返回。   \n",
    "   ![image.png](attachment:52419b8b-fd55-4324-accd-79fd5f4a913b.png)\n",
    "\n",
    "   <font color=Blue size=5>**resolution**参数：确定用于表达四分之一圆弧的线段数。   \n",
    "   <font color=Blue size=5>**join_style**参数：用于线段之间连接类型：1 (round，圆头), 2 (mitre，锐角斜接), 3 (bevel，平头斜切)。   \n",
    "   <font color=Blue size=5>**mitre_limit**参数：用于控制斜接角（mitre）。平行线的转角将比斜接样式的大多数地方离原始位置更远。此距离与指定距离**distance**的比值为斜接比。比例超过限制的角将被平头斜切（bevel）。\n",
    "   该方法仅适用于LinearRing和LineString.      \n",
    "   ![image.png](attachment:fe839b86-a181-4890-adb9-9ecc5bdc4829.png)"
   ]
  },
  {
   "cell_type": "markdown",
   "id": "b74522c3",
   "metadata": {},
   "source": [
    "* <font color=Blue size=5>**object.simplify(tolerance, preserve_topology=True)**: 返回简化后的几何对象。    \n",
    "   <font color=Blue size=5>简化对象中的所有点都将在原始几何图形的容差范围内。默认情况下，使用较慢的算法来保留拓扑。如果preserve topology设置为False，则使用更快的Douglas-Peucker算法。   \n",
    "      \n",
    "   ![image.png](attachment:acb2d63c-5e72-4450-af32-b8fed3fe0264.png)"
   ]
  },
  {
   "cell_type": "code",
   "execution_count": null,
   "id": "1e069400",
   "metadata": {},
   "outputs": [],
   "source": [
    "p = Point(0.0, 0.0)\n",
    "x = p.buffer(1.0)\n",
    "x.area"
   ]
  },
  {
   "cell_type": "code",
   "execution_count": null,
   "id": "0efaeeec",
   "metadata": {},
   "outputs": [],
   "source": [
    "len(x.exterior.coords)"
   ]
  },
  {
   "cell_type": "code",
   "execution_count": null,
   "id": "e3a920d4",
   "metadata": {},
   "outputs": [],
   "source": [
    "s = x.simplify(0.05, preserve_topology=False)\n",
    "s.area"
   ]
  },
  {
   "cell_type": "code",
   "execution_count": null,
   "id": "d35e4aeb",
   "metadata": {},
   "outputs": [],
   "source": [
    "len(s.exterior.coords)"
   ]
  },
  {
   "cell_type": "markdown",
   "id": "f88d7516",
   "metadata": {},
   "source": [
    "## <font color=Blue size=5>**其它操作运算**    \n",
    "\n",
    "   * <font color=Blue size=5>**shapely.ops.polygonize(lines)**: 由线几何生成多边形几何对象，返回由输入线构造的多边形的迭代器。"
   ]
  },
  {
   "cell_type": "code",
   "execution_count": null,
   "id": "4206a05b",
   "metadata": {},
   "outputs": [],
   "source": [
    "from shapely.geometry import MultiLineString, MultiPolygon, MultiPoint\n",
    "from shapely.ops import polygonize, polygonize_full, linemerge, unary_union, triangulate\n",
    "lines = MultiLineString([\n",
    "    ((0, 0), (1, 1)),\n",
    "    ((0, 0), (0, 1)),\n",
    "    ((0, 1), (1, 1)),\n",
    "    ((1, 1), (1, 0)),\n",
    "    ((1, 0), (0, 0))\n",
    "])\n",
    "lines"
   ]
  },
  {
   "cell_type": "code",
   "execution_count": null,
   "id": "4d38ebe1",
   "metadata": {},
   "outputs": [],
   "source": [
    "polys = polygonize(lines)\n",
    "polylist = list(polys)\n",
    "polylist[0] "
   ]
  },
  {
   "cell_type": "code",
   "execution_count": null,
   "id": "9094b727",
   "metadata": {},
   "outputs": [],
   "source": [
    "mp = MultiPolygon(polylist)\n",
    "mp"
   ]
  },
  {
   "cell_type": "markdown",
   "id": "452a7199",
   "metadata": {},
   "source": [
    "   * <font color=Blue size=5>**shapely.ops.polygonize_full(lines)**: 返回多边形及剩余的线几何。"
   ]
  },
  {
   "cell_type": "code",
   "execution_count": null,
   "id": "b75de222",
   "metadata": {},
   "outputs": [],
   "source": [
    "lines =  MultiLineString([\n",
    "    ((0, 0), (4, 0)),\n",
    "    ((4, 0), (4, 4)),\n",
    "    ((4, 4), (0, 4)),\n",
    "    ((0, 4), (0, 0)),\n",
    "    ((4, 0), (8, 0)),\n",
    "    ((8, 0), (8, 4)),\n",
    "    ((8, 4), (4, 4)),\n",
    "    ((4, 4), (4, 0)),\n",
    "    ((5, 7), (8, 11)),\n",
    "    ((10, 5), (8, 10))\n",
    "]) \n",
    "lines"
   ]
  },
  {
   "cell_type": "code",
   "execution_count": null,
   "id": "61e6b2bd",
   "metadata": {},
   "outputs": [],
   "source": [
    "result, dangles, cuts, invalids = polygonize_full(lines)\n",
    "result"
   ]
  },
  {
   "cell_type": "code",
   "execution_count": null,
   "id": "aad1f36e",
   "metadata": {},
   "outputs": [],
   "source": [
    "cuts"
   ]
  },
  {
   "cell_type": "code",
   "execution_count": null,
   "id": "82967c2f",
   "metadata": {},
   "outputs": [],
   "source": [
    "dangles"
   ]
  },
  {
   "cell_type": "code",
   "execution_count": null,
   "id": "2f0ff627",
   "metadata": {},
   "outputs": [],
   "source": [
    "dangles.to_wkt()"
   ]
  },
  {
   "cell_type": "markdown",
   "id": "faf2d9ce",
   "metadata": {},
   "source": [
    "   * <font color=Blue size=5>**shapely.ops.linemerge(lines)**: 返回合并后的线几何：LineString或MultiLineString。"
   ]
  },
  {
   "cell_type": "code",
   "execution_count": null,
   "id": "0f2e4536",
   "metadata": {},
   "outputs": [],
   "source": [
    "ml = linemerge(lines)\n",
    "ml"
   ]
  },
  {
   "cell_type": "code",
   "execution_count": null,
   "id": "9b4c462d",
   "metadata": {},
   "outputs": [],
   "source": [
    "len(ml)"
   ]
  },
  {
   "cell_type": "code",
   "execution_count": null,
   "id": "fd31ba99",
   "metadata": {},
   "outputs": [],
   "source": [
    "print(list(linemerge(lines)))"
   ]
  },
  {
   "cell_type": "markdown",
   "id": "3423f3c6",
   "metadata": {},
   "source": [
    "   * <font color=Blue size=5>**shapely.ops.unary_union(geoms)**: 返回geoms的并集。"
   ]
  },
  {
   "cell_type": "code",
   "execution_count": null,
   "id": "e5c8ff45",
   "metadata": {},
   "outputs": [],
   "source": [
    "polygons = [Point(i, 0).buffer(0.7) for i in range(5)]\n",
    "mp = MultiPolygon(polygons)\n",
    "mp"
   ]
  },
  {
   "cell_type": "code",
   "execution_count": null,
   "id": "750adf68",
   "metadata": {},
   "outputs": [],
   "source": [
    "poly = unary_union(polygons)\n",
    "poly"
   ]
  },
  {
   "cell_type": "markdown",
   "id": "f95ea02e",
   "metadata": {},
   "source": [
    "   * <font color=Blue size=5>**shapely.ops.triangulate(geom, tolerance=0.0, edges=False)**: 构建三角网。"
   ]
  },
  {
   "cell_type": "code",
   "execution_count": null,
   "id": "00c9fbe3",
   "metadata": {},
   "outputs": [],
   "source": [
    "points = MultiPoint([(0, 0), (1, 1), (0, 2), (2, 2), (3, 1), (1, 0)])\n",
    "triangles = triangulate(points)\n",
    "mp = MultiPolygon(triangles)\n",
    "mp"
   ]
  },
  {
   "cell_type": "code",
   "execution_count": null,
   "id": "38721f04",
   "metadata": {},
   "outputs": [],
   "source": [
    "print([triangle.wkt for triangle in triangles])"
   ]
  },
  {
   "cell_type": "code",
   "execution_count": null,
   "id": "80b7d67f",
   "metadata": {},
   "outputs": [],
   "source": [
    "type(triangles)"
   ]
  },
  {
   "cell_type": "markdown",
   "id": "26739ead",
   "metadata": {},
   "source": [
    "   * <font color=Blue size=5>**shapely.ops.nearest_points(geom1, geom2)**: 返回输入几何图形中最近点的元组。返回点的顺序与输入几何图形的顺序相同。"
   ]
  },
  {
   "cell_type": "code",
   "execution_count": null,
   "id": "64bb5e66",
   "metadata": {},
   "outputs": [],
   "source": [
    "from shapely.ops import nearest_points \n",
    "\n",
    "triangle = Polygon([(0, 0), (1, 0), (0.5, 1), (0, 0)])\n",
    "triangle"
   ]
  },
  {
   "cell_type": "code",
   "execution_count": null,
   "id": "e98f933f",
   "metadata": {},
   "outputs": [],
   "source": [
    "square = Polygon([(0, 2), (1, 2), (1, 3), (0, 3), (0, 2)])\n",
    "square"
   ]
  },
  {
   "cell_type": "code",
   "execution_count": null,
   "id": "f4683f76",
   "metadata": {},
   "outputs": [],
   "source": [
    "[o.wkt for o in nearest_points(triangle, square)]"
   ]
  },
  {
   "cell_type": "markdown",
   "id": "d1296644",
   "metadata": {},
   "source": [
    "   * <font color=Blue size=5>**shapely.ops.snap(geom1, geom2, tolerance)**: 将geom1中的顶点捕捉到geom2中的顶点。将返回捕捉的几何图形的副本，不会修改输入几何图形。"
   ]
  },
  {
   "cell_type": "code",
   "execution_count": null,
   "id": "fcb085ad",
   "metadata": {},
   "outputs": [],
   "source": [
    "from shapely.ops import snap\n",
    "\n",
    "square = Polygon([(1,1), (2, 1), (2, 2), (1, 2), (1, 1)])\n",
    "square"
   ]
  },
  {
   "cell_type": "code",
   "execution_count": null,
   "id": "d1962038",
   "metadata": {},
   "outputs": [],
   "source": [
    "line = LineString([(0,0), (0.8, 0.8), (1.8, 0.95), (2.6, 0.5)])\n",
    "line"
   ]
  },
  {
   "cell_type": "code",
   "execution_count": null,
   "id": "32051a6c",
   "metadata": {},
   "outputs": [],
   "source": [
    "result = snap(line, square, 0.5)\n",
    "result"
   ]
  },
  {
   "cell_type": "code",
   "execution_count": null,
   "id": "430f7dc3",
   "metadata": {},
   "outputs": [],
   "source": [
    "result.wkt"
   ]
  },
  {
   "cell_type": "markdown",
   "id": "7085c807",
   "metadata": {},
   "source": [
    "   * <font color=Blue size=5>**shapely.ops.shared_paths(geom1, geom2)**:    \n",
    "    当两个几何图形都为LineStrings时，查找geom1和geom2之间的共享路径。     \n",
    "    当两个几何图形为GeometryCollection时，返回两个元素。第一个元素是包含两个输入方向相同的共享路径，第二个元素是包含两个输入方向相反的共享路径。"
   ]
  },
  {
   "cell_type": "code",
   "execution_count": null,
   "id": "df72cb8e",
   "metadata": {},
   "outputs": [],
   "source": [
    "import shapely.ops\n",
    "\n",
    "g1 = LineString([(0, 0), (10, 0), (10, 5), (20, 5)])\n",
    "g2 = LineString([(5, 0), (30, 0), (30, 5), (0, 5)])\n",
    "forward, backward = shapely.ops.shared_paths(g1, g2)"
   ]
  },
  {
   "cell_type": "code",
   "execution_count": null,
   "id": "46830e94",
   "metadata": {},
   "outputs": [],
   "source": [
    "forward.wkt"
   ]
  },
  {
   "cell_type": "code",
   "execution_count": null,
   "id": "994d4cb6",
   "metadata": {},
   "outputs": [],
   "source": [
    "backward.wkt"
   ]
  },
  {
   "cell_type": "markdown",
   "id": "38819128",
   "metadata": {},
   "source": [
    "   * <font color=Blue size=5>**shapely.ops.split(geom, splitter)**:    \n",
    "    一个几何对象被另一个几何对象拆分（分割），返回拆分后的几何对象的集合GEOMETRYCOLLECTION。该方法支持：   \n",
    "    用(Multi)Point或(Multi)LineString 或(Multi)Polygon的边界拆分（分割）(Multi)LineString。\n",
    "    用LineString拆分（分割）(Multi)Polygon。"
   ]
  },
  {
   "cell_type": "code",
   "execution_count": null,
   "id": "c3e179d0",
   "metadata": {},
   "outputs": [],
   "source": [
    "from shapely.ops import split\n",
    "\n",
    "pt = Point((1, 1))\n",
    "line = LineString([(0,0), (2,2)])\n",
    "result = split(line, pt)\n",
    "result"
   ]
  },
  {
   "cell_type": "code",
   "execution_count": null,
   "id": "a0954f80",
   "metadata": {},
   "outputs": [],
   "source": [
    "result.wkt"
   ]
  },
  {
   "cell_type": "markdown",
   "id": "96d3e5b1",
   "metadata": {},
   "source": [
    "   * <font color=Blue size=5>**shapely.ops.substring(geom, start_dist, end_dist[, normalized=False])**: 返回沿线几何对象指定距离之间的线段。"
   ]
  },
  {
   "cell_type": "code",
   "execution_count": null,
   "id": "bec39a78",
   "metadata": {},
   "outputs": [],
   "source": [
    "from shapely.ops import substring\n",
    "\n",
    "line = LineString(([0, 0], [2, 0]))\n",
    "result = substring(line, 0.5, 0.6)\n",
    "result"
   ]
  },
  {
   "cell_type": "code",
   "execution_count": null,
   "id": "488b86f4",
   "metadata": {},
   "outputs": [],
   "source": [
    "result.wkt"
   ]
  },
  {
   "cell_type": "markdown",
   "id": "114f9476",
   "metadata": {},
   "source": [
    "## <font color=Blue size=5>**仿射变换**   \n",
    "\n",
    "<font color=Blue size=5>shapely.affinity模块提供了一组仿射变换函数，它们通过直接将系数提供给仿射变换矩阵，或通过使用特定的命名变换（旋转、缩放等）来返回变换后的几何图形。这些函数可以用于所有几何类型（GeometryCollection除外）。   \n",
    "\n",
    "   * <font color=Blue size=5>**shapely.affinity.affine_transform(geom, matrix)**: 使用仿射变换矩阵返回变换后的几何对象。   \n",
    "   <font color=Blue size=5>系数矩阵以列表或元组的形式提供，分别为6项或12项用于二维或三维变换。\n",
    "   <font color=Blue size=5>对应二维变换，6参数矩阵为：[a, b, d, e, xoff, yoff]，对应的仿射变换为：   \n",
    "   ![image.png](attachment:aac9219c-54df-4223-afcd-e516fff040f2.png)   \n",
    "   <font color=Blue size=5>对应三维变换，12参数矩阵为：[a, b, c, d, e, f, g, h, i, xoff, yoff, zoff]，对应的仿射变换为：   \n",
    "   ![image.png](attachment:b8ef1229-9a79-468e-83d8-cd6265cb0c76.png)    \n",
    "       \n",
    "   * <font color=Blue size=5>**shapely.affinity.rotate(geom, angle, origin='center', use_radians=False)**: 返回二维平面上旋转后的几何对象。   \n",
    "   <font color=Blue size=5>旋转角度angle参数：可以通过use_radians参数设置为度（默认）或弧度。正角度是逆时针方向，负角度是顺时针方向。    \n",
    "   <font color=Blue size=5>旋转原点origin参数：取值为“center”（默认）、“centroid”（几何体的质心）、点对象或坐标元组（x0，y0）。    \n",
    "   <font color=Blue size=5>二维旋转角度θ的仿射变换矩阵是：   \n",
    "   ![image.png](attachment:fcfef00c-2cf9-40c7-8d7d-a6ea0891f2f8.png)\n",
    "\n",
    "   ![image.png](attachment:1085d3ca-884c-40ff-94ff-e8cc5cca6c4b.png)   \n",
    "       <center><font color=Blue size=4>使用不同的原点逆时针旋转90度° </center>   \n",
    "   * <font color=Blue size=5>**shapely.affinity.scale(geom, xfact=1.0, yfact=1.0, zfact=1.0, origin='center')**: 返回缩放后的几何对象。   \n",
    "   * <font color=Blue size=5>**shapely.affinity.skew(geom, xs=0.0, ys=0.0, origin='center', use_radians=False)**: 返回一个倾斜后的几何对象。   \n",
    "   * <font color=Blue size=5>**shapely.affinity.translate(geom, xoff=0.0, yoff=0.0, zoff=0.0)**: 返回平移后的几何对象。   \n",
    "      \n",
    "<font color=Blue size=5>**其它变换**   \n",
    "   <font color=Blue size=5>Shapely支持几何对象的地图投影和任意变换。    \n",
    "\n",
    "   * <font color=Blue size=5>**shapely.ops.transform(func, geom)**   \n",
    "   将func应用于geom的所有坐标，并从变换后的坐标中返回相同类型的新几何对象。"
   ]
  },
  {
   "cell_type": "code",
   "execution_count": null,
   "id": "dc6ad25a",
   "metadata": {},
   "outputs": [],
   "source": [
    "from shapely import affinity\n",
    "line = LineString([(1, 3), (1, 1), (4, 1)])\n",
    "line"
   ]
  },
  {
   "cell_type": "code",
   "execution_count": null,
   "id": "f76376f2",
   "metadata": {},
   "outputs": [],
   "source": [
    "rotated_a = affinity.rotate(line, 90)\n",
    "rotated_a"
   ]
  },
  {
   "cell_type": "code",
   "execution_count": null,
   "id": "057bf452",
   "metadata": {},
   "outputs": [],
   "source": [
    "rotated_b = affinity.rotate(line, 90, origin='centroid')\n",
    "rotated_b"
   ]
  },
  {
   "cell_type": "code",
   "execution_count": null,
   "id": "a9186e14",
   "metadata": {},
   "outputs": [],
   "source": []
  }
 ],
 "metadata": {
  "jupytext": {
   "text_representation": {
    "extension": ".md",
    "format_name": "myst",
    "format_version": 0.13,
    "jupytext_version": "1.14.6"
   }
  },
  "kernelspec": {
   "display_name": "Python 3 (ipykernel)",
   "language": "python",
   "name": "python3"
  },
  "language_info": {
   "codemirror_mode": {
    "name": "ipython",
    "version": 3
   },
   "file_extension": ".py",
   "mimetype": "text/x-python",
   "name": "python",
   "nbconvert_exporter": "python",
   "pygments_lexer": "ipython3",
   "version": "3.7.12"
  },
  "source_map": [
   9,
   17,
   39,
   45,
   62,
   64,
   72,
   90,
   94,
   99,
   113,
   136,
   142,
   155,
   157,
   165,
   179,
   193,
   202,
   208,
   212,
   216,
   220,
   224,
   247,
   249,
   255,
   275,
   277,
   283,
   303,
   307,
   309,
   315,
   335,
   341,
   350,
   360,
   368,
   410,
   414,
   416,
   420,
   441,
   456,
   462,
   466,
   470,
   474,
   478,
   483,
   487,
   491,
   495,
   499,
   504,
   508,
   512,
   516,
   518,
   535,
   539,
   543,
   549,
   556,
   561,
   565,
   569,
   574,
   578,
   583,
   587,
   592,
   596,
   601,
   603,
   620,
   627,
   631,
   635,
   639,
   644,
   648,
   652,
   656,
   660,
   666,
   674,
   678,
   682,
   688,
   692,
   698,
   700,
   713,
   719,
   723,
   727,
   731,
   733,
   737,
   741,
   743,
   747,
   752,
   757,
   759,
   763,
   767,
   771,
   775,
   779,
   785,
   789,
   791,
   802,
   807,
   811,
   816,
   821,
   826,
   832,
   835,
   839,
   843,
   847,
   849,
   853,
   857,
   859,
   863,
   867,
   869,
   883,
   890,
   896,
   900,
   905,
   907,
   913,
   926,
   932,
   935,
   939,
   955,
   960,
   964,
   968,
   970,
   974,
   979,
   983,
   985,
   989,
   995,
   998,
   1002,
   1009,
   1013,
   1015,
   1019,
   1026,
   1031,
   1033,
   1037,
   1044,
   1049,
   1054,
   1056,
   1062,
   1070,
   1074,
   1076,
   1083,
   1092,
   1094,
   1098,
   1106,
   1108,
   1139,
   1145,
   1150,
   1155
  ]
 },
 "nbformat": 4,
 "nbformat_minor": 5
}
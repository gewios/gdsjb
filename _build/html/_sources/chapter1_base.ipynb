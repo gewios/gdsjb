{
 "cells": [
  {
   "cell_type": "markdown",
   "id": "71fce44e",
   "metadata": {},
   "source": [
    "<font color=Blue size=6><center>**第一章 Python地理空间数据科学基础**</center>"
   ]
  },
  {
   "cell_type": "markdown",
   "id": "9f892e69",
   "metadata": {
    "toc-hr-collapsed": true
   },
   "source": [
    "# <font color=Blue size=5>**开放科学与开放GIS(Open Science and Open GIS)**"
   ]
  },
  {
   "cell_type": "markdown",
   "id": "4cc99726",
   "metadata": {},
   "source": [
    "## <font color=Blue size=5>**一、科学与科学研究**   \n",
    "### <font color=Blue size=5>**1.科学及分类**   \n",
    "\n",
    "科学(Science)是通过观察、研究、实验等科研活动（科学研究）所导出的反映客观世界的运动规律的知识体系。科学的基本任务是通过回答“是 什么”、 “为什么”的问题，揭示和发现事物发展的本质和内在规律，目的在于认识客观世界。      \n",
    "技术(Technology)是根据生产实践或科学原理发展而成的各种工艺、操作方法和技能，以及相应的材料、设备、工艺流程等，是人们在实践中积累总结的用以改造自然的知识体系。技术的任务是通过回答“做什么”、“怎么做”的问题，满足社会生产和生活实际需要，目的在于改造自然。   \n",
    "按照矛盾的特殊性，客观世界的运动可分为自然（研究自然界运动规律的自然科学）、社会（研究社会运动规律的社会科学）、思维（研究思维运动规律的思维科学）三大领域，以及研究三大领域共同具有的量的关系的数学，研究三大领域最一般规律的哲学。即科学分类为：自然科学、社会科学、思维科学、数学、哲学。   \n",
    "自然科学(Natural Science)是研究自然界的物质形态、结构、性质和运动规律的科学。自然科学由基础科学、技术科学和应用科学三部分组成。基础科学主要包括数学、物理、化学、生物、天文学和地球科学六个学科。技术科学一般要按生产技术所需要解决的某些共同问题而划分，如能源科学、材料科学和自动控制理论等。应用科学一般要按物质生产部门所需要解决的应用问题而划分，如水利工程学、土木建筑学和医学等。   \n",
    "地球科学(GeoScience)是以地球系统(包括大气圈、水圈、岩石圈、生物圈和日地空间)的过程与变化及其相互作用为研究对象的基础学科。主要包括地理学(含土壤学与遥感)、地质学、地球物理学、地球化学、大气科学、海洋科学、测绘科学和空间物理学以及新的交叉学科(地球系统科学、地球信息科学)等分支学科。   \n",
    "社会科学(Social Science) 是研究各种社会现象及其发展规律。其所涵盖的学科：政治学、经济学、管理学、法学、社会学、心理学、教育学、伦理学、文学、美学、艺术学、逻辑学、语言学、史学、军事学、人类学、考古学、民俗学、新闻学、传播学等。   \n",
    "\n",
    "### <font color=Blue size=5>**2.科学研究**\n",
    "科学研究是运用严密的科学方法，从事有目的、有计划、有系统的认识客观世界，探索客观规律的活动。一般是指利用科研手段和装备，为了认识客观事物的内在本质和运动规律而进行的调查研究、实验、试制等一系列的活动。为创造发明新产品和新技术提供理论依据。   \n",
    "科学研究的基本任务就是探索、认识未知。科学研究必须在前人的基础上有所创新，可以是新发现、新理论、新方法、新工艺、新材料、新器件等。   \n",
    "科学研究的一般过程包括发现问题（提出问题、分析问题）、提出假设、制定计划与设计实验、实施计划与实验并收集数据、分析与论证评估、表达与交流合作。   \n",
    "科研方法是从事科学研究所遵循的、有效的、科学的研究方式、规则及程序，也是广大科研工作者长期积累的智慧结晶，是从事科学研究的有效工具。在科学发展历程中，不同的历史阶段有着不同的科研方法。    \n",
    "**科研范式的演变：**    \n",
    "几千年前，科学研究是用实验解释自然现象的，即科学研究第一范式，也即经验科学或实验科学，经验科学的主要研究模型是科学实验。第一范式研究方法是先观察，进而假设，再根据假设进行实验、归纳。如果实验的结果与假设不符合，则修正假设再实验。   \n",
    "几百年前，科学研究用理论模型探索科学规律，用实验验证理论，即科学研究第二范式，也即理论科学，理论科学的主要研究模型是数学模型。   \n",
    "几十年前，科学研究用计算机模拟复杂现象，探索其中的奥秘，即科学研究第三范式，也即计算科学，计算科学的主要研究模型是计算机仿真和模拟。   \n",
    "近十年来，科学研究是基于对数据的探索（大数据科学），即科学研究第四范式，也即大数据科学，大数据科学的主要研究模型是大数据挖掘、深度学习、人工智能技术等。第三范式是先提出可能的理论，再搜集数据，然后通过计算来验证；而基于大数据的第四范式，则是先有了大量的已知数据，然后通过计算得出之前未知的理论。第三范式强调因果关系分析，第四范式则强调相关关系分析。"
   ]
  },
  {
   "cell_type": "markdown",
   "id": "33bc6b12",
   "metadata": {},
   "source": [
    "## <font color=Blue size=5>**二、开放科学(Open Science)**\n",
    "科学发现是一个复杂的过程，可重现性(Reproducibility)是科学发现的基本原则，理论上任何成功的科学实验都应该可以在不同的研究主体间重复检验，即科学实验的可重复性(Replicability、Repeatability)。为了保证客观性，科学发现理应是公开的，任何人按照公开的程序和方法都能对实验进行重复性检验(有些领域如地质历史、物种进化等，不可能做可重复的试验，需要使用其它方法)。   \n",
    "随着网络信息技术的发展与普及，科学研究的开放程度日趋加大，开放科学已经成为当前国际科学研究和科学组织范式转型的新趋势和新方向，开放科学运动受到越来越多的重视并成为全球共识。   \n",
    "开放科学(Open Science) 利用信息和通信技术（ICT）工具和平台传播并转变科学研究的新方式，为科学合作提供新的工具，促进科学研究过程更加高效和透明。开放科学高度开放，任何单位和个人都可以跨越时空直接或间接参与科学研究过程；同时可以免费、开放获取科学数据、科研成果、科研方法及工具，既扩大了知识传播范围，提高了知识传播效率，也加速了知识创新。   \n",
    "开放（Openness）强调透明和无成本、不受限制地获取数据、信息、知识或技术。\n",
    "开放科学背景下，科学研究的可复制性(Replicability)、可重复性(Repeatability)、可重计算性(Recomputability)、可重用性(Reusability)和可重现性(Reproducibility)得以实现。   \n",
    "Reproducibility与Replicability的差异：   \n",
    "Reproducibility： same data + same methods = same results   \n",
    "Replicability：new data + same/similar methods = same/similar results   \n",
    "\n",
    "开放科学主要包括：开放获取(Open Access)、开放同行评审(Open Peer Review)、开放数据(Open Data)、开放源码(Open Source)、Open Hardware/Computing Platform、开放标准(Open Standards)、开放方法及工具(Open Methodology&Tools)、Open Funding、开放教育 (Open Education)等。"
   ]
  },
  {
   "cell_type": "markdown",
   "id": "7bf93ea8",
   "metadata": {},
   "source": [
    "### <font color=Blue size=5>**1.开放获取(Open Access)**\n",
    "开放获取(Open Access)是指人们自由获取公众网上经同行评审的科学文献、科学研究成果、学位论文、技术报告、科研工作进展等科研信息的一种新的学术传播方式，允许读者阅读、下载、拷贝、传播、检索这些文献。   \n",
    "开放获取文献主要分为两大类：（1）开放获取期刊（Open Access Journals），包括新创办的开放获取期刊和由原有期刊改造转变而来的开放获取期刊。与传统期刊一样，开放获取期刊对提交的论文实行严格的同行评审，从而确保期刊论文的质量。（2）信息开放获取仓库（Open Access Repository）。OA仓库不仅存放学术论文，还存放其他各种学术研究资料，包括实验数据和技术报告等。开放获取仓库包括基于学科的开放获取仓库和基于机构的开放获取仓库。OA仓库一般不实施内容方面的实质评审工作，只是要求作者提交的论文基于某一特定标准格式（如Word或PDF），并符合一定的学术规范。   \n",
    "**主要的开放获取期刊平台：**   \n",
    "国外最大的开放获取期刊平台：http://www.doaj.org/   \n",
    "Springer open journals：https://www.springeropen.com/journals   \n",
    "国家科技图书文献中心开放资源集成获取系统： http://oar.nstl.gov.cn/   \n",
    "学术搜索平台：https://sci-hub.ren/   \n",
    "搜索引擎BASE (比菲尔德学术搜索引擎)： https://www.base-search.net/   \n",
    "科学文献预印本的在线数据库：https://arxiv.org/   \n",
    "https://eartharxiv.org/   \n",
    "    \n",
    "**部分GIS开放期刊：**   \n",
    "•\tJournal of Spatial Information Science (JOSIS)  \n",
    "•\tPLOS ONE   \n",
    "•\tEPJ Data Science   \n",
    "•\tNature Scientific Reports   \n",
    "•\tGEO: Geography and the Environment   \n",
    "•\tOpen Geospatial Data, Software and Standards   \n",
    "•\tISPRS International Journal of Geo-Information (IJGI)    \n",
    "\n",
    "**主要GIS学术刊物：**   \n",
    "1.\tInternational Journal of Geographical Information Science   \n",
    "2.\tCartography and Geographic Information Systems   \n",
    "3.\tComputers and Geosciences   \n",
    "4.\tComputers, Environment, and Urban Systems   \n",
    "5.\tEarth Observation Science   \n",
    "6.\tGeographical Analysis   \n",
    "7.\tGeoinformatica   \n",
    "8.\tJournal of the Urban and Regional Information Systems Association   \n",
    "9.\tPhotogrammetric Engineering and Remote Sensing    \n",
    "10.\tTransactions in GIS    \n",
    "11.\t《地球信息科学学报》   \n",
    "12.\t《地理与地理信息科学》   \n",
    "13.\t《地理学报》   \n",
    "14.\t《地理研究》   \n",
    "15.\t《地理科学进展》   \n",
    "16.\t《测绘学报》    \n",
    "17.\t《遥感学报》   \n",
    "18.\t《武汉大学学报（信息版）》   \n",
    "19.\t《测绘科学》   \n",
    "20.\t《大地测量与地球动力学》   \n",
    "21.\t《计算机工程》   \n",
    "22.\t《计算机工程与应用》   \n",
    "23.\t《中国图形图像学报》   \n",
    " \n",
    "**GIS著名学术组织与机构：**    \n",
    "1.\tACM-- Association for Computing Machinery，http://www.acm.org/   \n",
    "2.\tACSM --The American Congress on Surveying and Mapping（美国测量与制图学会）, http://www.acsm.net/   \n",
    "3.\tAAG-GIS --Association of American Geographers，Geographic Information Science and Systems，（美国地理学家协会）GIS专业委员会，http://www.aag.org/   \n",
    "4.\tASPRS-美国摄影测量与遥感协会GIS专业委员会， American Society for Photogrammetry and Remote Sensing，http://www.asprs.org/   \n",
    "5.\tUCGIS（美国地理信息科学大学联盟）--The University Consortium for Geographic Information Science ，http://www.ucgis.org/   \n",
    "6.\tURISA-- Urban and Regional Information Systems Association，城市与区域信息系统协会）GIS专业委员会，http://www.urisa.org/   \n",
    "7.\tOGC（Open Geospatial Consortium），http://www.opengeospatial.org/   \n",
    "8.\tAssociation for Geographic Information--AGI（英国地理信息协会）, http://www.agi.org.uk/    \n",
    "9.\tthe European Umbrella Organisation for Geographic Information -- EUROGI（欧洲地理信息组织），http://www.eurogi.org/   \n",
    "10.\tAGILE（欧洲地理信息实验室协会）   \n",
    "11.\tChinese Society for Geodesy Photogrammetry and Cartography-- 中国测绘学会地图学与GIS专业委员会，http://www.csgpc.org/   \n",
    "12.\tGISRUK（英国GIS研究联合会）, GIS RESEARCH UK   \n",
    "13.\tUrban Data Management Society ——UDMS欧洲城市数据管理协会，http://www.udms.net/   \n",
    "14.\tThe International Association of Chinese Professionals In GIS -- CPGIS（中国GIS专业协会），http://www.acpgis.org/   \n",
    "15.\t中国GIS协会，China Association for Geographic Information System, http://www.cagis.org.cn/   \n",
    "16.\tISO/TC 211 Geographic information/Geomatics, http://www.isotc211.org/   \n",
    "17.\tCEN（欧洲标准化组织）,Comite Europeen de Normalisation"
   ]
  },
  {
   "cell_type": "markdown",
   "id": "b9be9885",
   "metadata": {},
   "source": [
    "### <font color=Blue size=5>**2.开放同行评审(Open Peer Review)**\n",
    "同行评审（Peer Review）已成为学术期刊稿件评审与质量控制的一种基本制度规范。同行评审体系是学术出版的核心，是目前在研究发表前，公认最可靠的研究质量评价方式。然而，过度依赖同行评审体系导致作者、编辑和第三方代理开始钻漏洞。最近已经曝光好几次的大量撤稿和同行评审造假事件，显示出目前的出版体系出现漏洞，必须重新检视。同行评审过程中的的几个主要问题包括：透明度不足、发表压力、作者推荐审稿人等。期刊编辑和出版商可以如何避免同行评审被人为操控，编辑部警觉性是避免同行评审诈欺的有效方法之一，而出版商还可以用技术功能来维持审稿的诚信，确保审稿程序的公平性。   \n",
    "在主流的学术期刊中，同行评审往往采用盲审(Blind peer review)：双盲（审稿人不知道在审谁的文章及作者不知道谁在审）或单盲的做法（作者不知道谁在审稿）。   \n",
    "开放同行评审（Open Peer Review），就是把评审专家的身份姓名透露给所评审论文的作者的方式，有的还将审者身份及其评审报告向读者公开。开放同行评审(Open Peer Review)，就是把评审专家的身份姓名透露给所评审论文的作者的方式，有的还将审者身份及其评审报告向读者公开。   \n",
    "开放评审系统要求审稿专家签名确认其审稿意见报告，该评审意见与每篇文章的发表过程历史记录包括论文提交稿版本(原稿)、评审报告和作者的修改反馈，随同发表的文章一起在网上登载。读者可以针对论文、审稿意见和作者的修改情况发表意见，指出问题与不足，作者也可以随时修改完善自己发表的论文，使文章的发表成为一个编者、审者、读者、作者互动的动态过程。   \n",
    "处理文章的编辑和审稿人信息都要公开，同时审稿意见也公开。对于编辑和审稿人而言，公开而不是匿名地评审意味着要对文章负更多的责任。   \n",
    "透明同行评审（Transparent peer-review) 不同于公开评审（open peer-review) ，审稿人仍然可以选择隐匿个人身份，期刊只是将评审人的审稿意见或作者回复信等记录与文章一起上传，以供读者下载。   \n",
    "发表后评审（post-publication review），即先发表文章，再由同行来评审这个文章是否靠谱，是否有价值，如PeerJ和F1000research。"
   ]
  },
  {
   "cell_type": "markdown",
   "id": "1d12910d",
   "metadata": {},
   "source": [
    "### <font color=Blue size=5>**3.开放数据(Open Data)**   \n",
    "数据开放共享一直是科学研究及各种应用的瓶颈问题。数据开放共享不仅要求合法，并且技术可行，真正确保数据可用、能用。   \n",
    "开放数据(Open Data)是任何人都可以自由获取、利用、再利用、再分发的数据资源。目前，开放数据主要包括开放政府数据、开放科学数据（或研究数据、科研数据）、开放机构数据（如开放企业数据）、开放个人生产的数据等。   \n",
    "开放数据的条件：   \n",
    "•\t合法：不受版权或保密限制；   \n",
    "•\t费用：不用注册或其它费用；   \n",
    "•\t可访问：易于定位，没有管理或程序上的障碍，如填表、等待批准交付；   \n",
    "•\t可用：数据表干净整洁、结构化，不需要专门软件读写；   \n",
    "•\t可理解：有元数据；   \n",
    "•\t可评价：数据的可靠性、质量可评价。   \n",
    "开放数据使用开放文件格式，不需要专门软件读写。   \n",
    "**开放文件格式(Open Formats)**   \n",
    "文件格式直接影响数据的访问和使用能力。尽可能的情况下，应该使用非专用文件格式，即使用开放文件格式存储数据，这样不需要专用软件就能使用这种格式的数据。在选择存档的文件格式时，理想的格式应该是：非专用的、未加密的、未压缩的、由研究团体共同使用的、遵循开放的、有文档记录的标准格式。\n",
    "常用的开放文件格式有：   \n",
    "容器：tar、GZIP、ZIP   \n",
    "数据库：XML、CSV   \n",
    "地理空间：GML、SHP、DBF、GeoTIFF、NetCDF   \n",
    "移动图像：MOV、MPEG、AVI、MXF   \n",
    "声音：Wave、AIFF、MP3、MXF   \n",
    "统计数据：ASCII、DTA、POR、SAS、SAV   \n",
    "静止图像：tiff、JPEG 2000、PDF、PNG、GIF、BMP   \n",
    "表格数据：CSV   \n",
    "文本：XML、PDF/A、HTML、ASCII、UTF-8"
   ]
  },
  {
   "cell_type": "markdown",
   "id": "c63ef000",
   "metadata": {},
   "source": [
    "### <font color=Blue size=5>**4.开放源码(Open Source Software)**\n",
    "开源软件是开放科学发展最成熟的领域。开放源码(Open Source) 是指遵循开放源代码授权许可，可进行自由发布、自由复制、自由修改、自由使用、自由再分发的软件。不同的开源许可规定不同开源软件具有不同的自由度。开放源码不仅仅指开放源代码软件，同时也是一种软件开放模式。使用开放源代码开放模式的软件代表就有GNU/Linux操作系统。   \n",
    "实际应用中，开放源码的许可种类较多，许多软件采用GNU颁发的通用公共许可(GNU General Public License，GPL)，又称“CopyLeft”，如Linux；还有其它许可，例如BSD许可、Apache许可、MIT许可等。   \n",
    "https://SourceForge.net，又称SF.net，是开源软件的开发者进行开发管理的集中式场所，也是全球最大开源软件开发平台和仓库。   \n",
    "https://www.osgeo.org/：开源地理空间基金会(Open Source Geospatial Foundation，简称OSGeo)为全球性非营利性组织，目标是支持全球性的合作，建立和推广高品质的空间信息开源软件。   \n",
    "foss4g.org"
   ]
  },
  {
   "cell_type": "markdown",
   "id": "a67f3b91",
   "metadata": {},
   "source": [
    "### <font color=Blue size=5>**5.Open Hardware/Computing Platform**\n",
    "开放硬件有两方面的含义：一是指开源硬件开发包，用户可以下载并为自己的设备构建数据采集或处理功能，如安装在风筝上的用于采集空气质量的传感器的硬件开发包或开源硬件Arduino (http://www.arduino.cc)。二是指随着技术的发展，某些GIS操作运算不能只限于单一计算平台或硬件设施，相反，遵循瘦客户端和胖服务器模式，地理信息可以通过多种计算平台的组合进行访问和处理，这些平台包括智能手机、iPad、Raspberry pi和客户端的传统笔记本电脑/台式机，以及局域网、工作站、大型机、以及服务器端的云计算。   \n",
    "Open GIS开放计算平台包括：开放科学网格、开放云、开放分布式处理、开放访问网络、开放系统架构等。"
   ]
  },
  {
   "cell_type": "markdown",
   "id": "e94bd7a5",
   "metadata": {},
   "source": [
    "### <font color=Blue size=5>**6.开放标准(Open Standards)**\n",
    "为了使开放数据、软件和硬件无缝地工作并实现互操作，所有相关各方必须遵循一套共同的标准。   \n",
    "“欲知平直，则必准绳；欲知方圆，则必规矩” 。要解决问题，制定好标准是关键。标准是对重复性事物和概念所做的统一规定，它以科学技术和实践经验的结合成果为基础，经有关方面协商一致，由主管机构批准，以特定形式发布作为共同遵守的准则和依据。标准的制定和类型按使用范围划分有国际标准、区域标准、国家标准、专业标准、地方标准、企业标准。   \n",
    "国际标准化组织(International Organization for Standardization，简称为ISO)是国际标准化领域中一个全球性的非政府组织，其目的和宗旨是：“在全世界范围内促进标准化工作的开展，以便于国际物资交流和服务，并扩大在知识、科学、技术和经济方面的合作。”其主要活动是制定国际标准，协调世界范围的标准化工作，组织各成员国和技术委员会进行情报交流，与其他国际组织进行合作，共同研究有关标准化问题。ISO已经发布了17000多个国际标准，如有名的ISO9000质量管理系列标准、ISO 19136 Geographic information -- Geography Markup Language (GML)等。   \n",
    "标准化对经济、技术、科学和管理等社会实践有重大意义。对于一些复杂的事物和概念，只有通过制订、发布和实施标准达到统一，才能获得最佳秩序和社会效益。伴随着经济全球化深入发展，标准化在便利经贸往来、支撑产业发展、促进科技进步、规范社会治理中的作用日益凸显。标准已成为世界“通用语言”。   \n",
    "世界需要标准协同发展，标准促进世界互联互通。   \n",
    "开放地理空间信息联盟(Open Geospatial Consortium，简称OGC，https://www.ogc.org/),是一个非盈利的国际标准组织，它制定了数据和服务的一系列标准，如GML、WMS、WFS、WCS、WPS等，GIS厂商按照这些标准进行开发可保证空间数据的互操作。"
   ]
  },
  {
   "cell_type": "markdown",
   "id": "ef2e85dd",
   "metadata": {},
   "source": [
    "### <font color=Blue size=5>**7.开放科学工具(Tools for Open Science)**\n",
    "Revision control systems: GitHub\n",
    "Computational notebooks\n",
    "\tCombining text, code, results, and software\n",
    "\tlanguages: Python, R, Bash, C, C++, Octave, ...\n",
    "\tJupyter Notebook, R Markdown (Notebook), Emacs Org-mode, ...\n",
    "\tAnaconda(Jupyter Lab, Jupyter Notebook)，Python, Spyder\n",
    "Environment to run the code: Container\n",
    "\tdependencies\n",
    "\tenvironmental settings\n",
    "\tfile structure\n",
    "\tsolutions: Docker, Vagrant, virtual machines, ..."
   ]
  },
  {
   "cell_type": "markdown",
   "id": "8db199e4",
   "metadata": {},
   "source": [
    "### <font color=Blue size=5>**8.Open Funding**\n",
    "Open funding, known as crowd funding, is based upon a very simple formula:\n",
    "little money * lot of people = power of crowd funding.\n",
    "Instead of writing proposals to request a large sum from a single funding agency, crowd/open funding uses the Internet to solicit a large number of small contributions from a crowd. Obama’s victory in 2008 demonstrated the success of open/ crowd funding in political campaigns (Lawton and Marom 2012). The initial success in arts and businesses has inspired crowdfunding for scientific projects (Wheat et al. 2012; Johnson 2013).\n",
    "In general, open funding has followed three models: (1) the donation model: contributors simply make a donation to the project they want to support without expecting compensation or recognition in return; (2) the reward model: contributors are rewarded with non-monetary recognition and appreciation; and (3) the equity model: contributors are given a fair share of the profits and returns if the project has commercial value or potentials.\n",
    "A wide variety of web-based platforms have been developed to host crowdfunding initiatives. Some are general platforms, such as Indiegogo (http://www.indiegogo.com), kickstarter (http://www.kickstarter.com), rockethub (http://www.rockethub.com). There are also quite a few platforms devoted to fund-raising for scientific research, such as Microryza (http:// www.microryza.com), Petridish (petridish.org), SciFund challenge (scifundchallenge.org).\n",
    "Open funding mechanisms for GIS-related projects are still in their infancy but, due to the growing public interest in things spatial, there is great potential for the GIS community to beef up our efforts to explore open/crowd funding as an alternative funding model to supplement the traditional funding mechanism that has dominated the scene for so long. Crowd funding will not replace government funding for research in the near future, especially in areas of basic research that are of little public interest, but it certainly offers a supplemental funding mechanism that the GIS community needs to pay attention to."
   ]
  },
  {
   "cell_type": "markdown",
   "id": "c2f79240",
   "metadata": {},
   "source": [
    "### <font color=Blue size=5>**9.开放教育 (Open Education)**\n",
    "\n",
    "\t国内外MOOC(Massive Open Online Courses)平台\n",
    "1.\tCoursera(https://www.coursera.org/)\n",
    "2.\tUdacity(https://www.udacity.com/)\n",
    "3.\tedX(https://www.edx.org/ )\n",
    "4.\tFutureLearn( https://www.futurelearn.com/ )\n",
    "5.\tOpenLearning( http://www.openlearning.edu.au/ )\n",
    "6.\t清华大学 学堂在线(http://www.xuetangx.com/)\n",
    "7.\t网易云课堂( http://study.163.com/ )\n",
    "8.\t中国大学MOOC( http://www.icourse163.org/ )\n",
    "9.\t顶你学堂(http://www.topu.com/ )\n",
    "10.\t华文慕课( http://www.chinesemooc.org/ )\n",
    "11.\t好大学在线( http://www.cnmooc.org/ )\n",
    "12.\tMOOC中国(http://www.mooc.cn/)\n",
    "13.\tMOOC学院(http://mooc.guokr.com/)\n",
    "Open GIS Education\n",
    "https://www.e-education.psu.edu/"
   ]
  },
  {
   "cell_type": "markdown",
   "id": "0756354b",
   "metadata": {},
   "source": [
    "## <font color=Blue size=5>**三、\tOpen GIS**\n",
    " \n",
    "http://www.opengeospatial.org/\n",
    "\n",
    "The Open Source Geospatial Foundation : https://www.osgeo.org/\n",
    "\n",
    "Open  Source  GIS  Desktop  Applications\n",
    "\n",
    "1.\tGRASS (Geographic Resources Analysis Support System)  \n",
    "2.\tQuantum GIS ,QGIS\n",
    "3.\tOpenJUMP \n",
    "4.\tSharpMap\n",
    "5.\tMapWindow \n",
    "6.\tgvSIG\n",
    "7.\tuDig \n",
    "\n",
    "Open  Source  Geospatial Libraries\n",
    "1.\tJTS: Java Topology Suite\n",
    "2.\tGEOS (Geometry Engine - Open Source) is a C++ port of the Java Topology Suite (JTS)\n",
    "3.\tNTS: Net Topology Suite, A C#/.NET port of JTS Topology Suite\n",
    "4.\tGeotools: The Open Source Java GIS Toolkit\n",
    "5.\tGeoAPI\n",
    "6.\tOpenMap\n",
    "7.\tGDAL: Geospatial Data Abstraction Library\n",
    "8.\tDotSpatial: for MapWindow\n",
    "9.\tFDO: Feature Data Object\n",
    "10.\tMetaCRS\n",
    "11.\tOSSIM: Open Source Software Image Map\n",
    "12.\tRasdaman: raster data manager\n",
    "Open  Source  Spatial  Database\n",
    "\n",
    "1.\tPostGIS: is a spatial extension to PostgreSQL\n",
    "2.\tMySQL Spatial: is a spatial extension to MySQL \n",
    "3.\tSpatiaLite: is a spatial extension to SQLite\n",
    "\n",
    "Open  Source  Web Mapping\n",
    "1.\tdeegree\n",
    "2.\tgeomajas\n",
    "3.\tGeoMoose\n",
    "4.\tGeoServer\n",
    "5.\tMapbender\n",
    "6.\tMapBuilder\n",
    "7.\tMapFish\n",
    "8.\tMapGuide Open Source\n",
    "9.\tMapServer\n",
    "10.\tOpenLayers\n",
    "11.\tZOO-Project"
   ]
  },
  {
   "cell_type": "code",
   "execution_count": null,
   "id": "cb1751fb",
   "metadata": {},
   "outputs": [],
   "source": []
  },
  {
   "cell_type": "markdown",
   "id": "ff84f62c",
   "metadata": {},
   "source": [
    "# <center>**空间数据基础**</center>"
   ]
  },
  {
   "cell_type": "markdown",
   "id": "93c0d584",
   "metadata": {},
   "source": [
    "## <font color=Blue size=5>**地理空间框架模型**\n",
    "\n",
    "<font color=Blue size=5>地理信息科学的研究对象是地理空间中的地理实体、地理现象。地理空间包括大气圈、水圈、生物圈、岩石圈和土壤圈 (即地球表层空间)。为了研究地球表层空间，需要建立地球表面模型和地理空间坐标系（空间参考系、坐标参考系）。"
   ]
  },
  {
   "cell_type": "markdown",
   "id": "3f0a127c",
   "metadata": {},
   "source": [
    "### <font color=Blue size=5>**地球表面模型**\n",
    "\n",
    "<font color=Blue size=5>为了深入研究地理空间，需要建立地球表面的几何模型，这是进行大地测量和地理空间表达的前提。根据大地测量学的成果，地球表面模型可以分为：\n",
    "   * <font color=Blue size=5>自然的地球表面\n",
    "   * <font color=Blue size=5>大地水准面\n",
    "   * <font color=Blue size=5>椭球体模型"
   ]
  },
  {
   "cell_type": "markdown",
   "id": "188f8468",
   "metadata": {},
   "source": [
    "#### <font color=Blue size=5>**自然的地球表面**\n",
    "\n",
    "<font color=Blue size=5>地球自然表面高低起伏不平，包括海洋底部、高山、高原等，最高点为珠穆朗玛峰高达8844.48米，最低点为马里亚纳海沟最深处在海拔以下11034米，相差近20km。固体地球表面的形态非常复杂，难以用一个简洁的数学表达式描述，所以不适合于数学建模。"
   ]
  },
  {
   "cell_type": "markdown",
   "id": "e6aa25f9",
   "metadata": {},
   "source": [
    "#### <font color=Blue size=5>**大地水准面**（geoid; mean sea level）\n",
    "\n",
    "<font color=Blue size=5>**水准面**：假设当海水处于完全静止的平衡状态时，一个从海平面延伸到所有大陆下部，且与地球重力方向处处正交的连续、闭合的曲面。   \n",
    "**大地水准面**：是指与全球平均海平面（或静止海水面）相重合的水准面。它是重力等位面，即物体沿该面运动时，重力不做功（如水在这个面上是不会流动的）。大地水准面所包围的球体称为大地体。       \n",
    "大地水准面也不是一个简单的数学曲面，大地水准面的形状反映了地球内部物质结构、密度和分布等信息。强烈地震会导致地球质心及地球自转轴的变化，进而导致一天的时间变化。   \n",
    "<font color=Blue size=5>大地水准面的特性：   \n",
    "   * <font color=Blue size=5>是正高系统的基准面； \n",
    "   * <font color=Blue size=5>是海拔高程的起算面； \n",
    "   * <font color=Blue size=5>有明确的物理意义，有一定的几何意义； \n",
    "   * <font color=Blue size=5>不能用作大地坐标系的基准面；\n",
    "   * <font color=Blue size=5>形态不规则（由于重力场不规则，导致重力等位面也不规则）；\n",
    "   * <font color=Blue size=5>是地球的物理表面；\n",
    "   * <font color=Blue size=5>不能用大地测量的方法精确测定和计算。   \n",
    "\n",
    "<font color=Blue size=5>**似大地水准面**：从地面点沿正常重力线量取正常高所得端点构成的封闭曲面。 似大地水准面严格说不是水准面，但接近于水准面，只是用于计算的辅助面。   \n",
    "**似大地水准面**是正常高系统的基准面，可精确测定；不是重力等位面，没有十分明确的物理意义；与参考椭球面之差为高程异常ξ（相对不同椭球有不同的ξ）。   \n",
    "它与大地水准面不完全吻合，差值为正常高与正高之差。在海洋面上时，似大地水准面与大地水准面重合。   \n",
    "\n",
    "<font color=Blue size=5>相对于不同性质的起算面（**大地水准面、似大地水准面、椭球面**）等所定义的高程体系：**正高、正常高、大地高**。\n",
    "   * <font color=Blue size=5>**正高**是指从一地面点沿过此点的重力线到大地水准面的距离。   \n",
    "   * <font color=Blue size=5>**正常高**是指从一地面点沿过此点的正常重力线到似大地水准面的距离。我国规定采用的高程系统是正常高系统。如果不是进行科学研究，只是一般使用，正常高系统在国内也可以称为海拔高度。    \n",
    "   * <font color=Blue size=5>**大地高**是从一地面点沿过此点的地球椭球面的法线到地球椭球面的距离。   \n",
    "\n",
    "<font color=Blue size=5>大地高与正常高的差异叫做高程异常，GPS测定的是大地高，要求正常高必须先知高程异常。在局部GPS网中巳知一些点的高程异常（它由GPS水准算得），考虑地球重力场模型，利用多面函数拟合法求定其它点的高程异常和正常高。"
   ]
  },
  {
   "cell_type": "markdown",
   "id": "63de17f4",
   "metadata": {},
   "source": [
    "#### <font color=Blue size=5>**椭球体模型**(ellipsiod)\n",
    "\n",
    "<font color=Blue size=5>**地球椭球体**：为了计算和制图方便，以大地水准面为为参照，用一个非常接近于地球大小和形状的椭圆绕地球短轴旋转所形成的规则椭球体称之为地球椭球体。\n",
    "    \n",
    "<font color=Blue size=5>地球椭球体有长半轴a和短半轴b之分，长半轴即赤道半径，短半轴即极半径。f=（a-b）/a为椭球体的扁率，表示椭球体的扁平程度。   \n",
    "我国的北京54坐标系、西安80坐标系、2000国家大地坐标系(CGCS2000)及WGS84采用的椭球体参数如下：   \n",
    "<font color=Blue size=5>   \n",
    "\n",
    "| 坐标系名称 | 椭球体模型 | 长半轴(a) | 短半轴(b) |\n",
    "| --------  | --------- | --------- | --------- | \n",
    "| 北京54坐标系 | Krassovsky |6378245|6356863.0188|\n",
    "| 西安80坐标系 | IAG 75 |6378140 |6356755.2882|\n",
    "| 2000国家大地坐标系 | CGCS2000 |6378137 |6356752.31414 |\n",
    "| WGS84坐标系 | WGS 84 |6378137 |6356752.3142 |"
   ]
  },
  {
   "cell_type": "markdown",
   "id": "4236a495",
   "metadata": {},
   "source": [
    "### **空间参考系**\n",
    "\n",
    "<font color=Blue size=5>为了确定地面点的位置，需要一个空间参照系，即地理空间坐标系。\n",
    "地理空间坐标系：地理坐标系（Geographic Coordinate System）、投影坐标系（Project Coordinate System）、垂直坐标系。   \n",
    "<font color=Blue size=5>**地理坐标系**是使用某种三维球面来定义点的位置的一种坐标系，点的位置由经、纬度定义，即(longitude，latitude)。      \n",
    "    <font color=Blue size=5>**投影坐标系**是使用二维平面定义点的位置的一种坐标系，它是基于某种地理坐标系使用某种地图投影而得到的平面坐标系。   \n",
    "    <font color=Blue size=5>**垂直坐标系**（高程系统）用于定位高度或深度，它定义了高程或深度的度量原点及度量的方向。   \n",
    "\n",
    "#### <font color=Blue size=5>**地理坐标系（大地坐标系）**\n",
    "<font color=Blue size=5>**地理坐标系**是建立在一定的**大地基准**（Datum）上的用于表达地球表面空间位置及其相对关系的数学参照系；这里所说的**大地基准**是指能够最佳拟合地球形状的**地球椭球体的参数**及**椭球定位和定向**。\n",
    "\n",
    "<font color=Blue size=5>**椭球定位**是指确定椭球中心的位置，可分为两类：**局部定位**和**地心定位**。**局部定位**要求在一定范围内椭球面与大地水准面有最佳的符合，而对椭球的中心位置无特殊要求；**地心定位**要求在全球范围内椭球面与大地水准面有最佳的符合，同时要求椭球中心与地球质心一致或最为接近。\n",
    "\n",
    "<font color=Blue size=5>**椭球定向**是指确定椭球旋转轴的方向，不论是局部定位还是地心定位，都应满足**两个平行条件**:   \n",
    "   * <font color=Blue size=5>椭球短轴平行于地球自转轴;   \n",
    "   * <font color=Blue size=5>大地起始子午面平行于天文起始子午面。   \n",
    "\n",
    "<font color=Blue size=5>**地理坐标（大地坐标，Geodetic Coordinates）**：大地测量中以地球椭球面为基准面的坐标。地面点P的位置用**大地经度L、大地纬度B和大地高H**表示。**大地经度**是通过该点的大地子午面与起始大地子午面之间的夹角，**大地纬度**是通过该点的法线与赤道面的夹角，**大地高**是地面点沿法线到参考椭球面的距离。 \n",
    "    \n",
    " ![image.png](attachment:0161acfa-9803-4518-aa0f-2c212d05c42d.png)"
   ]
  },
  {
   "cell_type": "markdown",
   "id": "ae3895b8",
   "metadata": {},
   "source": [
    "#### <font color=Blue size=5>**地图投影与投影坐标系**\n",
    "\n",
    "##### <font color=Blue size=5>**地图投影概述**\n",
    "<font color=Blue size=5>用大地经度和纬度表示的大地坐标是一种椭球面上的坐标，不能直接应用于测图及工程应用。因此，需要将它们按一定的数学规则转换为平面直角坐标。   \n",
    "<font color=Blue size=5>**地图投影**：将椭球面上各元素(包括坐标-经纬度、方向和长度)按一定的数学法则转换到地图平面上的理论和方法。   \n",
    "地图投影一般表达式：   \n",
    "    ![image.png](attachment:4b511e66-e7b8-4b64-9d05-a015b3b072e6.png)\n",
    "\n",
    "<font color=Blue size=5>式中L，B是椭球面上某点的大地坐标，而x,y是该点投影后的平面直角坐标。   \n",
    "    \n",
    "<font color=Blue size=5>椭球面是一个凸起的、不可展平的曲面。将这个曲面上的元素（距离、角度、图形）投影到平面上，就会和原来的距离、角度、图形呈现差异，这一差异称为**投影变形**。投影变形可能有：角度变形、长度变形、面积变形。为了限制投影变形，通常采用**分带投影**。   \n",
    "按投影变形的不同，地图投影的方式：   \n",
    "   * <font color=Blue size=5>**等角投影**：投影前后角度相等，但长度和面积有变形。   \n",
    "   * <font color=Blue size=5>**等距投影**：投影前后长度相等，但角度和面积有变形。   \n",
    "   * <font color=Blue size=5>**等积投影**：投影前后面积相等，但角度和长度有变形。   \n",
    "\n",
    "<font color=Blue size=5>地图投影按使用的投影面，可以划分为以下三种类型：   \n",
    "（1）**平面投影**(plane projection) ，又称方位投影，将地球表面上的经、纬线投影到与球面相切或相割的平面上去的投影方法；平面投影大都是透视投影，即以某一点为视点，将球面上的图象直接投影到投影面上去。   \n",
    "    ![image.png](attachment:9a33d4a6-3f29-441f-92b5-09a7f81761a5.png)\n",
    "    ![image.png](attachment:561d9e6b-c297-4011-b43f-bc629bb70e48.png)\n",
    "（2）**圆锥投影**(conical projection)，用一个圆锥面相切或相割于地面的纬度圈，圆锥轴与地轴重合，然后以球心为视点，将地面上的经、纬线投影到圆锥面上，再沿圆锥母线切开展成平面。地图上纬线为同心圆弧，经线为相交于地极的直线。   \n",
    "    ![image.png](attachment:b91dff9f-4f72-43d9-9704-818d993cfc94.png)\n",
    "    ![image.png](attachment:e2bc30db-470c-4591-b04b-0f68f8af0154.png)\n",
    "（3）**圆柱投影**(cylindrical projection)，用一圆柱筒套在地球上，圆柱轴通过球心，并与地球表面相切或相割将地面上的经线、纬线均匀的投影到圆柱筒上，然后沿着圆柱母线切开展平，即成为圆柱投影图网。\n",
    "    ![image.png](attachment:365cf046-452e-4ce4-b786-5759da50bc7d.png)\n",
    "    ![image.png](attachment:f330dfb8-4587-4abf-83b3-dbf8daba0c84.png)   \n",
    "<font color=Blue size=5>综上所述，地图投影类型有：\n",
    "![image.png](attachment:0209d1a5-4070-47e0-b458-e626e44d9782.png)"
   ]
  },
  {
   "cell_type": "markdown",
   "id": "8cd4a1ee",
   "metadata": {},
   "source": [
    "<font color=Blue size=5>我国的基本比例尺地形图(1:5千，1:1万，1:2.5万，1:5万，1:10万，1:25万，1:50万，1:100万)使用的地图投影：   \n",
    "   * <font color=Blue size=5>大于等于1:50万的地形图(1:5千，1:1万，1:2.5万，1:5万，1:10万，1:25万，1:50万)均采用高斯－克吕格投影(Gauss-Kruger)。   \n",
    "   * <font color=Blue size=5>小于1:50万的地形图( 1:100万)采用正轴等角割园锥投影，又叫兰勃特投影(Lambert Conformal Conic)。   \n",
    "   * <font color=Blue size=5>海上小于1:50万的地形图多用正轴等角园柱投影，又叫墨卡托投影（Mercator）。   \n",
    "\n",
    "<font color=Blue size=5>我国的GIS应用中，应该采用与我国基本比例尺地形图系列一致的地图投影系统。"
   ]
  },
  {
   "cell_type": "markdown",
   "id": "6bf7a574",
   "metadata": {},
   "source": [
    "##### <font color=Blue size=5>**高斯-克吕格投影（横轴墨卡托投影）**\n",
    "\n",
    "<font color=Blue size=5>假想有一个椭圆柱套在地球椭球的外面，并与某一子午线相切    (此子午线叫中央子午线)，椭圆柱的中心轴通过地球椭球的中心且与地球椭球的短轴正交，然后按等角条件，将中央子午线东西两侧一定经差范围的地区投影到椭圆柱面上，将柱面展成平面即可。   \n",
    "高斯投影采用分带投影，将椭球面按一定经差分带，分别进行投影，将椭球面上的元素(包括坐标-经纬度、方向和长度、图形)变换到平面上。   \n",
    "    ![image.png](attachment:80013ee8-d7cb-4c37-9469-a36e2daca3dc.png)\n",
    "    ![image.png](attachment:5ceaec47-fb2d-47ce-932e-b197361749f9.png)\n",
    "    \n",
    "<font color=Blue size=5>高斯投影的特点\n",
    "   * <font color=Blue size=5>中央子午线投影后为直线，且长度不变。   \n",
    "   * <font color=Blue size=5>除中央子午线外，其余子午线的投影均为凹向中央子午线的曲线，并以中央子午线为对称轴。投影后有长度变形。   \n",
    "   * <font color=Blue size=5>赤道线投影后为直线，但有长度变形。   \n",
    "   * <font color=Blue size=5>除赤道外的其余纬线，投影后为凸向赤道的曲线，并以赤道为对称轴。   \n",
    "   * <font color=Blue size=5>经线与纬线投影后仍然保持正交。    \n",
    "   * <font color=Blue size=5>所有长度变形的线段，其长度变形比均大于1。   \n",
    "   * <font color=Blue size=5>离中央子午线愈远，长度变形愈大。"
   ]
  },
  {
   "cell_type": "markdown",
   "id": "1a98a28e",
   "metadata": {},
   "source": [
    "##### <font color=Blue size=5>**高斯平面直角坐标系的建立**\n",
    "     \n",
    "   ![image.png](attachment:e07f9650-0bb8-4d2f-ac2e-b468d13ba1df.png)\n",
    "\n",
    "<font color=Blue size=5>高斯-克吕格投影是按分带方法各自进行投影，各带独自构成高斯平面直角坐标系。以中央经线投影为纵轴(x)，赤道投影为横轴(y)，两轴交点即为各带的坐标原点。   \n",
    "   * <font color=Blue size=5>**纵坐标以赤道为零起算**，赤道以北为正，以南为负。我国位于北半球，纵坐标均为正值。\n",
    "   * <font color=Blue size=5>**横坐标以中央经线为零起算**，中央经线以东为正，以西为负。\n",
    "   * <font color=Blue size=5>为了**避免横坐标出现负值**，国家规定将坐标纵轴西移500公里当作起始轴，即横坐标值均加500公里。由于高斯-克吕格投影每一个投影带的坐标都是本带坐标原点的相对值，所以各带的坐标完全相同，为了区别某一坐标系统属于哪一带，在横轴坐标前加上带号，如(4231898m,21655933m)，其中21即为带号。 \n",
    "\n",
    "<font color=Blue size=5>**小常识**：假设地球的半径为6378km，则地球的周长约40000km，地球表面上，1º对应的弧长约111KM（ 1分对应的弧长约1.85KM, 1秒对应的弧长约30.83M ）；地球的面积约127800000km<sup>2</sup>"
   ]
  },
  {
   "cell_type": "markdown",
   "id": "46a893bd",
   "metadata": {},
   "source": [
    "<font color=Blue size=5>**投影带的划分**    \n",
    "\n",
    "<font color=Blue size=5>我国规定按经差6º和3º进行投影分带。   \n",
    "   * <font color=Blue size=5>6º带自首子午线开始，按6º的经差自西向东分成60个带。\n",
    "   * <font color=Blue size=5>3º带自1.5º子午线开始，按3º的经差自西向东分成120个带。\n",
    "6º带与3º带中央子午线之间的关系如图：\n",
    "![image.png](attachment:7269f3f4-edce-45cb-89bb-0612460e16fe.png)   \n",
    "    <font color=Blue size=5>3º带的中央子午线与6º带中央子午线及边界子午线重合，减少了换带计算。    \n",
    "    <font color=Blue size=5>工程测量采用3º带，特殊工程可采用1.5º带或任意带。   \n",
    "\n",
    "* <font color=Blue size=5>按照6º带划分的规定，第1带中央子午线的经度为3º，其余各带中央子午线经度与带号的关系是：   \n",
    "    <font color=Blue size=5>L。=6ºN－3º      （N为6º带的带号）   \n",
    " <font color=Blue size=5>例：21带中央子午线的经度为：   \n",
    "    <font color=Blue size=5>L。＝6º× 21－3º＝123º     \n",
    "* <font color=Blue size=5>按照3º带划分的规定，第1带中央子午线的经度为3º，其余各带中央子午线经度与带号的关系是：   \n",
    "    <font color=Blue size=5>L。=3ºn      （n为3º带的带号）   \n",
    " <font color=Blue size=5>例：41带中央子午线的经度为   \n",
    "    <font color=Blue size=5>L。＝3º× 41＝123º   \n",
    "   <font color=Blue size=5>若已知某点的经度为L，则该点的6º带的带号N由下式计算：    \n",
    "    ![image.png](attachment:3c0982f1-0587-4d9f-b1e2-f256553208d6.png)         \n",
    "         \n",
    "   <font color=Blue size=5>若已知某点的经度为L，则该点所在3º带的带号按下式计算：   \n",
    "     ![image.png](attachment:e62b69eb-3e1c-4871-bc8d-61d30adeb522.png)（四舍五入）"
   ]
  },
  {
   "cell_type": "markdown",
   "id": "3e634647",
   "metadata": {},
   "source": [
    "#### <font color=Blue size=5>**坐标参考系的WKT表达**\n",
    "\n",
    "<font color=Blue size=5>WKT(Well-known text)是开放地理空间联盟OGC（Open GIS Consortium ）制定的一种文本标记语言，用于表示矢量几何对象、空间参照系统及空间参照系统之间的转换。WKB(well-known binary) 是WKT的二进制表示形式，解决了WKT表达方式冗余的问题，便于传输和在数据库中存储相同的信息。   \n",
    "\n",
    "   <font color=Blue size=5>我国2000国家大地坐标系的WKT表达如下：   \n",
    "        \n",
    "   <font color=Blue size=4>GEOGCS[\"China Geodetic Coordinate System 2000\",   \n",
    "```       ```DATUM[\"China_2000\",   \n",
    "```              ```SPHEROID[\"CGCS2000\",6378137,298.257222101, AUTHORITY[\"EPSG\",\"1024\"]],   \n",
    "```              ```AUTHORITY[\"EPSG\",\"1043\"]],   \n",
    "```       ```PRIMEM[\"Greenwich\",0, AUTHORITY[\"EPSG\",\"8901\"]],   \n",
    "```       ```UNIT[\"degree\",0.0174532925199433, AUTHORITY[\"EPSG\",\"9122\"]],   \n",
    "```       ```AUTHORITY[\"EPSG\",\"4490\"]]    \n",
    "    \n",
    "   <font color=Blue size=5>Gauss-Kruger 6度带第20带投影坐标系（中央子午线117E）的WKT表达如下：   \n",
    "    \n",
    "   <font color=Blue size=4>PROJCS[\"CGCS2000 / Gauss-Kruger CM 117E\",   \n",
    "```      ```GEOGCS[\"China Geodetic Coordinate System 2000\",   \n",
    "```               ```DATUM[\"China_2000\",   \n",
    "```                   ```SPHEROID[\"CGCS2000\",6378137,298.257222101, AUTHORITY[\"EPSG\",\"1024\"]],   \n",
    "```                   ```AUTHORITY[\"EPSG\",\"1043\"]],   \n",
    "```               ```PRIMEM[\"Greenwich\",0, AUTHORITY[\"EPSG\",\"8901\"]],   \n",
    "```               ```UNIT[\"degree\",0.0174532925199433, AUTHORITY[\"EPSG\",\"9122\"]],   \n",
    "```               ```AUTHORITY[\"EPSG\",\"4490\"]],   \n",
    "```      ```PROJECTION[\"Transverse_Mercator\"],   \n",
    "```      ```PARAMETER[\"latitude_of_origin\",0],   \n",
    "```      ```PARAMETER[\"central_meridian\",117],   \n",
    "```      ```PARAMETER[\"scale_factor\",1],   \n",
    "```      ```PARAMETER[\"false_easting\",500000],   \n",
    "```      ```PARAMETER[\"false_northing\",0],  \n",
    "```      ```UNIT[\"metre\",1, AUTHORITY[\"EPSG\",\"9001\"]],   \n",
    "```      ```AUTHORITY[\"EPSG\",\"4509\"]]   \n",
    "    \n",
    "   <font color=Blue size=5>Gauss-Kruger 3度带第38带投影坐标系（中央子午线114E）的WKT表达如下：  \n",
    "    \n",
    "   <font color=Blue size=4>PROJCS[\"CGCS2000 / 3-degree Gauss-Kruger CM 114E\",   \n",
    "```      ```GEOGCS[\"China Geodetic Coordinate System 2000\",   \n",
    "```              ```DATUM[\"China_2000\",   \n",
    "```                    ```SPHEROID[\"CGCS2000\",6378137,298.257222101,AUTHORITY[\"EPSG\",\"1024\"]],   \n",
    "```                    ```AUTHORITY[\"EPSG\",\"1043\"]],   \n",
    "```              ```PRIMEM[\"Greenwich\",0, AUTHORITY[\"EPSG\",\"8901\"]],   \n",
    "```              ```UNIT[\"degree\",0.0174532925199433, AUTHORITY[\"EPSG\",\"9122\"]],   \n",
    "```              ```AUTHORITY[\"EPSG\",\"4490\"]],   \n",
    "```      ```PROJECTION[\"Transverse_Mercator\"],   \n",
    "```      ```PARAMETER[\"latitude_of_origin\",0],   \n",
    "```      ```PARAMETER[\"central_meridian\",114],   \n",
    "```      ```PARAMETER[\"scale_factor\",1],   \n",
    "```      ```PARAMETER[\"false_easting\",500000],   \n",
    "```      ```PARAMETER[\"false_northing\",0],   \n",
    "```      ```UNIT[\"metre\",1, AUTHORITY[\"EPSG\",\"9001\"]],   \n",
    "```      ```AUTHORITY[\"EPSG\",\"4547\"]]"
   ]
  },
  {
   "cell_type": "markdown",
   "id": "75ff00aa",
   "metadata": {
    "toc-hr-collapsed": true
   },
   "source": [
    "## **地理空间表达概述**   \n",
    "\n",
    "<font color=Blue size=5>地理空间的表达是地理信息科学首先要解决的关键问题，地理空间的表达是空间数据组织、存储、运算、分析的基础。   \n",
    "地理空间中地理实体、地理现象的表达主要有基于对象(要素)的**矢量（Vector）表达**和基于场的连续空间的铺盖表达。基于场的连续空间铺盖表达主要有规则格网即**栅格（Raster）表达**、三角网表达、多边形连续铺盖表达(如Voronoi图表达)。   \n",
    "\n",
    "![image.png](attachment:a64feeb2-6720-4663-9663-97bf962d6b30.png)   \n",
    "<center><font color=Blue size=4>图 矢量表达与栅格表达示意图</center>\n",
    "\n",
    "<font color=Blue size=5>**矢量表达**是用一系列有序的特征点的X、Y (、Z)坐标来精确表达点、线、面等地理实体和地理现象。   \n",
    "    地理空间中的**点状要素**(一般指那些占面积较小，不能按比例尺表示，又要定位的要素)用0维矢量来表达；0维矢量在欧氏空间中用(x，y)或(x，y，z)来表示；有时，面状要素和点状要素的界限并不严格，如居民点，在大、中比例尺地图上被表示为面状要素，在小比例尺地图上则被表示为点状要素。   \n",
    "    地理空间中的**线状要素**或者空间对象之间的边界用一维矢量表达，一维矢量用一系列有序特征点的(x1，y1(，z1))，(x2，y2(，z2))，…，(xn，yn(，zn))坐标来精确表达；对于地理空间中呈线状或带状的要素，如交通线、河流、境界线、构造线等，均用一维矢量来表示其空间位置；对于线状和面状实体的区分，也和地图的比例尺有很大的关系，如河流，在小比例尺的地图上，被表示成线状要素，而在大比例尺的地图上，则被表示成面状要素。   \n",
    "    地理空间中的**面状要素**用二维矢量来表达，即用一系列有序特征点的(x1，y1(，z1))，(x2，y2(，z2))，…，(xn，yn(，zn))，(x1，y1(，z1))坐标来精确表达，要求首尾点一致；在三维欧氏空间中表达的二维矢量为空间曲面；面状分布的地理要素有连续分布的，如气温、土壤等，有不连续分布的，如森林、油田、农作物等。   \n",
    "    \n",
    "<font color=Blue size=5>**栅格表达**是以规则的像元阵列来表示地理实体或现象的分布；它将研究区域按一定分辨率作行和列方向的规则划分，形成由网格单元组成的矩阵，每个网格单元称为像素或像元(Cell或Pixel)。栅格中的每个像元是栅格数据中最基本的信息存储单元，其坐标位置可以用行号和列号来确定，像元的值表示地理实体或现象的属性特征。地理空间中的点实体用它所在的像元来表示；地理空间中的线实体表示为在一定方向上连接成串的相邻像元的集合；地理空间中的面实体表示为聚集在一起的相邻像元的集合。   \n",
    "   \n",
    "<font color=Blue size=5>栅格数据集是采用规则格网来表示地理实体、地理现象的，每个格网单元（像元）都具有一个值，表示该处地理实体、地理现象的某种属性，如类别、量级、高程或光谱值等；类别则可以是草地、森林或道路等土地利用类型；量级可以表示重力、噪声污染或降雨；高程表示平均海平面以上的表面高程，可以用来派生出坡度、坡向和流域属性；光谱值可以是各种传感器影像中表示光反射系数和颜色。   \n",
    "    \n",
    "<font color=Blue size=5>栅格数据的表达与像元的大小(即栅格的分辨率)有关：分辨率越高(即像元越小)表达的地理实体、地理现象越精细，表达的误差越小，表达的数据量也越大；分辨率越低(即像元越大)表达的地理实体、地理现象越粗糙，表达的误差越大，表达的数据量越小。   \n",
    "<font color=Blue size=5>一些栅格数据具有单波段或单图层(单个特征的量度)的数据，另一些栅格数据具有多个波段。一般情况下，单波段栅格数据用一个像元值矩阵表示，多个波段的栅格则用多个像元值矩阵表示。数字高程模型(DEM)是一个单波段栅格数据集的示例。DEM中的每个像元只包含一个表示表面高程的值。还有一种有时被称为全色图像或灰度图像的单波段正射影像。多数卫星影像都具有多个波段，通常包含电磁光谱某个范围或波段内的值。   \n",
    "<font color=Blue size=5>为了改善大栅格数据的显示性能，通常采用影像金字塔技术。   \n",
    " \n",
    "<font color=Blue size=5>矢量、栅格表达各有优缺点。\n",
    "   * <font color=Blue size=5>**矢量表达**是面向地理实体的，容易定义和操作单个地理实体；能完整地表达地理实体之间的拓扑关系；表达地理实体的精度较高；图形输出精确美观；具有严密的数据结构，数据量小；但矢量表达时，空间叠置分析(线与线、线与多边形、多边形与多边形)算法较为复杂。\n",
    "   * <font color=Blue size=5>**栅格表达**直接记录每个栅格所代表的地理实体的属性，根据行列号可以计算栅格单元的空间坐标，即所谓的属性明显，定位隐含；栅格数据结构简单；栅格表达时，空间叠置分析简单(只需判断同一栅格位置不同数据层的属性即可)；栅格表达不是面向地理实体的，要找到属于同一地理实体的所有栅格，需要遍历整个栅格数据结构；栅格表达不能表达地理实体之间的拓扑关系；栅格表达时，当分辨率低时，表达的误差大，计算面积、距离等误差大，且地图输出不精美；当分辨率高时，数据量大，通常需要压缩编码，如四叉树数据结构、二维行程编码数据结构等。\n",
    "\n",
    "<font color=Blue size=5>对于连续空间的地理表达，除了栅格表达外，还有三角网表达、Voronoi多边形表达等方法。   \n",
    "    <font color=Blue size=5>**三角网表达**是将某一表面（如地面）一系列离散点，按照一定的规则和条件连接成互不交叉的三角网。最常用的三角网为Delaunay三角网，其构建条件为：确保没有任何一个顶点位于三角网中任意一个三角形的外接圆内。   \n",
    "\n",
    "<font color=Blue size=5>Delaunay三角网中，三角形每条边的垂直平分线相交形成的多边形称为Voronoi多边形，所有Voronoi多边形组成的图形称为Voronoi图。   \n",
    "        \n",
    "![image.png](attachment:d030b1a7-ea6e-45bc-8373-0595c961b46f.png)    \n",
    "<center><font color=Blue size=4>图 Delaunay三角网和Voronoi图</center>    \n",
    "        \n",
    "<font color=Blue size=5>地理空间表达中，面向特定应用专题，还有特定的表达方式，如对于地理网络，使用网络模型来表达，网络模型分为定向网络和非定向网络，城市供电、供气、供水网络是典型的定向网络，交通网络是典型的非定向网络；对于沿线要素定位的应用，可采用线性参考及动态分段模型进行表达。对于根据地址(如门牌号)进行定位的应用中，可采用地理编码(Geocoding)模型进行表达。"
   ]
  },
  {
   "cell_type": "markdown",
   "id": "d4079688",
   "metadata": {},
   "source": [
    "## **空间数据存储格式**  \n",
    "\n",
    "### <font color=Blue size=5>**矢量数据文件格式**   \n",
    "\n",
    "#### <font color=Blue size=5>**普通的文本文件格式（.csv 和 .txt）**   \n",
    "\n",
    "<font color=Blue size=5>表格数据是以行/列格式存储的数据。列（有时是行）通常由标题头标识。表格数据可以以多种不同的文件格式存储。电子表格格式包括.xls和xlsx，可以直接在Microsoft Excel中打开。空间表格数据常用的文件存储格式有:.csv 和 .txt格式。\n",
    "    \n",
    "   * <font color=Blue size=5>**.csv**：逗号分隔值（Comma Separated Values，CSV），此文件的每一列都用逗号分隔。    \n",
    "   * <font color=Blue size=5>**.txt**：一个基本的文本文件。在txt文件中，分隔符可以是制表符（tabs）、逗号（commas）或1到多个空格（1 or more spaces），换行符定义每一行。"
   ]
  },
  {
   "cell_type": "markdown",
   "id": "e835368d",
   "metadata": {},
   "source": [
    "#### <font color=Blue size=5>**基于标记的文件格式**   \n",
    "    \n",
    "<font color=Blue size=5>XML是典型的基于标记语言的文本格式。它们还包括其他结构化文本格式，如Well-Known Text (WKT)格式，用于表达坐标参考系和矢量几何对象。\n",
    "    \n",
    "<font color=Blue size=5>XML格式包括Keyhole Markup Language (KML)、OpenStreetMap（OSM）格式和GPS数据的Garmin-GPX格式。开放地理空间联盟（OGC）的地理标记语言（GML）标准是最古老、使用最广泛的基于XML的地理格式之一。它也是用于Web应用程序的OGC Web要素服务（WFS）标准的基础。然而，GML在很大程度上已经被KML和GeoJSON格式所取代。\n",
    "\n",
    "<font color=Blue size=5>XML格式通常不仅仅包含几何图形，还包含属性和渲染说明，例如颜色、样式和符号。Google的KML格式已经成为完全支持的OGC标准。以下是KML的示例，显示了一个简单的地点标记：   \n",
    "    \n",
    "<font color=Blue size=4>```<?xml version=\"1.0\" encoding=\"utf-8\"?>```  \n",
    "```<kml xmlns=\"http://www.opengis.net/kml/2.2\">```   \n",
    "```   <Placemark>```   \n",
    "```      <name>Mockingbird Cafe</name>```   \n",
    "```      <description>Coffee Shop</description>```    \n",
    "```      <Point>```   \n",
    "```         <coordinates>-89.329160,30.310964</coordinates>```   \n",
    "```      </Point>```   \n",
    "```   </Placemark>```   \n",
    "```</kml>```"
   ]
  },
  {
   "cell_type": "markdown",
   "id": "5c7a8aba",
   "metadata": {},
   "source": [
    "#### <font color=Blue size=5>**GeoJSON**   \n",
    "\n",
    "<font color=Blue size=5>GeoJSON 是一种开放标准的地理空间数据交换格式，以JSON（JavaScript Object Notation）格式表达简单地理要素的空间及非空间属性。GeoJSON对象可以表示几何、要素或者要素集合。GeoJSON支持几何类型有：Point（点）、MultiPoint（多点）、LineString（线）、MultiLineString（多线）、Polygon（面）、MultiPolygon（多面）、GeometryCollection（几何集合）。GeoJSON中的要素包含一个几何对象和其他属性，要素集合表示一系列要素。GeoJSON主要优点之一是将所有地理要相关数据存储在一个文本文件中。      \n",
    "\n",
    "<font color=Blue size=5>GeoJSON以名称/值对（name/value pair）的方式表达地理要素及其属性，名称为字符串类型，值可以是字符串、数字、对象、数组，或\"true\",\"false\"和\"null\"。\n",
    "\n",
    "<font color=Blue size=5>GeoJSON对象必须有一个名字为\"type\"的属性，其值是由GeoJSON对象的类型所确定的字符串。\"type\"的值可以是：\"Point\", \"MultiPoint\", \"LineString\", \"MultiLineString\", \"Polygon\", \"MultiPolygon\", \"GeometryCollection\", \"Feature\", 或者 \"FeatureCollection\"。\n",
    "GeoJSON对象可能有一个可选的\"crs\"属性，它的值必须是一个坐标参考系统的对象。\n",
    "GeoJSON对象可能有一个\"bbox\"成员，它的值必须是边界框数组。\n",
    "\n",
    "<font color=Blue size=5>以下是一个简单的FeatureCollection示例，其中包括点、线和多边形几何对象和其它属性：\n",
    "\n",
    "  <font color=Blue size=5>{ \"type\": \"FeatureCollection\",   \n",
    "```    ```\"features\": [   \n",
    "```      ```{ \"type\": \"Feature\",   \n",
    "```        ```\"geometry\": {\"type\": \"Point\", \"coordinates\": [113.0, 25.5]},   \n",
    "```        ```\"properties\": {\"name\": \"control_point\"}   \n",
    "```        ```},   \n",
    "```      ```{ \"type\": \"Feature\",   \n",
    "```        ```\"geometry\": {   \n",
    "```          ```\"type\": \"LineString\",   \n",
    "```          ```\"coordinates\": [   \n",
    "```            ```[113.0, 24.6], [113.5, 25.7], [114.0, 26.2], [114.5, 26.5]   \n",
    "```            ```]   \n",
    "```          ```},   \n",
    "```        ```\"properties\": {   \n",
    "```          ```\"name\": \"HongqiRoad\",      \n",
    "```          ```\"lanes\": 4   \n",
    "```          ```}   \n",
    "```        ```},   \n",
    "```      ```{ \"type\": \"Feature\",   \n",
    "```         ```\"geometry\": {   \n",
    "```           ```\"type\": \"Polygon\",   \n",
    "```           ```\"coordinates\": [   \n",
    "```             ```[ [114.0, 24.2], [115.0, 24.3], [115.0, 25.2],   \n",
    "```               ```[114.0, 25.2], [114.0, 24.2] ]   \n",
    "```             ```]   \n",
    "```         ```},   \n",
    "```         ```\"properties\": {   \n",
    "```           ```\"name\": \"HUangjinSquare\",   \n",
    "```           ```\"owner\": \"GIS\"   \n",
    "```           ```}   \n",
    "```         ```}   \n",
    "```       ```]   \n",
    "```     ```}"
   ]
  },
  {
   "cell_type": "markdown",
   "id": "9bb9cb3d",
   "metadata": {},
   "source": [
    "#### <font color=Blue size=5>**GeoPackage**   \n",
    "\n",
    "<font color=Blue size=5>GeoPackage 是由 OGC 制定的存储地理信息的开放数据格式，存储形式是独立于平台的 SQLite 数据库文件，扩展名是*.gpkg。GeoPackage 既可存储矢量数据、栅格数据、地图切片数据、属性数据和其他数据。   \n",
    "GeoPackage中可以存储多个图层，便于拷贝和数据加载，属性的数据修改，可以直接用数据库工具进行操作修改，不需要中间格式转换。"
   ]
  },
  {
   "cell_type": "markdown",
   "id": "c118fe71",
   "metadata": {},
   "source": [
    "#### <font color=Blue size=5>**DXF**   \n",
    "    \n",
    "<font color=Blue size=5>DXF是AutoCAD(Drawing Exchange Format) 绘图交换文件格式，一种开放的矢量数据格式，用于AutoCAD与其它软件之间进行CAD数据交换的文件格式。   \n",
    "\n",
    "<font color=Blue size=5>DXF可以分为两类：ASCII格式和二进制格式；ASCII具有可读性好的特点，但占用的空间较大；二进制格式则占用的空间小、读取速度快。由于AutoCAD是最流行的CAD系统，DXF也被广泛使用，成为事实上的标准。绝大多数CAD系统都能读入或输出DXF文件。"
   ]
  },
  {
   "cell_type": "markdown",
   "id": "e19d6297",
   "metadata": {},
   "source": [
    "#### <font color=Blue size=5>**Shapefile**   \n",
    "\n",
    "<font color=Blue size=5>Shapefile是ESRI公司20世纪90年代推出的针对微机的ArcView GIS的本原数据格式。Shapefile是一种用于存储地理要素的几何位置和属性信息的非拓扑简单格式。Shapefile中的地理要素可通过点、线或面（区域）来表示。Shapefile的工作空间还可以包含dBASE表，它们用于存储可连接到Shapefile的要素的附加属性。Shapefile表达简单要素类，用点、线、多边形存储要素的形状，却不能存储拓扑关系，具有简单、快速显示的优点。一个Shapefile是由若干文件组成，空间信息和属性信息分离存储。   \n",
    "<font color=Blue size=5>每个Shapefile都至少由三个文件组成，这些文件是：   \n",
    "   * <font color=Blue size=5>.shp：用于存储要素几何的主文件；必需文件。\n",
    "   * <font color=Blue size=5>.shx：用于存储要素几何索引(MBR)；必需文件。\n",
    "   * <font color=Blue size=5>.dbf：用于存储要素属性信息的dBASE表；必需文件。几何与属性是一对一关系，这种关系基于记录编号。dBASE文件中的属性记录必须与主文件中的记录采用相同的顺序。\n",
    "<font color=Blue size=5>以上三个文件是一个Shapefile的基本文件，还有其他一些可选文件。      \n",
    "    \n",
    "   * <font color=Blue size=5>.prj 如果shapefile定义了坐标系统，那么它的空间参考信息将会存储在*.prj文件中。   \n",
    "\n",
    "   * <font color=Blue size=5>.shp.xml 这是对shapefile进行元数据浏览后生成的xml元数据文件。   \n",
    "\n",
    "   * <font color=Blue size=5>.sbn和*.sbx 这两个存储的是shapefile的空间索引，它能加速空间数据的读取。      \n",
    "    \n",
    "<font color=Blue size=5>一个Shapefile的所有组成文件必须位于同一工作空间内，且所有文件必须具有相同的前缀，例如，roads.shp、roads.shx 和 roads.dbf。   \n",
    "组成Shapefile的每个文件均被限制为不超过2 GB。因此，.dbf文件不能超过2 GB，.shp文件也不能超过2 GB（只有这两个文件的容量会很大）。所有组成文件的总大小可以超过2 GB。"
   ]
  },
  {
   "cell_type": "markdown",
   "id": "664a307d",
   "metadata": {},
   "source": [
    "#### <font color=Blue size=5>**File Geodatabase**\n",
    "\n",
    "<font color=Blue size=5>Geodatabase模型是ESRI公司在ArcGIS系列产品中推出的一种新型的面向对象的空间数据模型，它采用面向对象技术将地理空间抽象为由若干对象类组成的数据模型，每个对象类有其属性、行为和规则，对象类间又有一定的联系；它在统一的模型框架下存储管理各种不同类型的空间数据。   \n",
    "Geodatabase是ArcGIS中的主要数据存储形式，它是存储在通用文件系统文件夹（File Geodatabase）、Microsoft Access数据库（Personal Geodatabase）或多用户对象关系DBMS(如Oracle、Microsoft SQL Server、PostgreSQL、IBM DB2或Informix，ArcSDE Geodatabase)中的各种类型地理数据集的集合。   \n",
    "Geodatabase是ArcGIS系列产品的本原数据结构，是空间数据存储管理的主要数据格式；Geodatabase具有全面的信息模型，包括属性表、要素类和栅格数据集3种基本数据集，还有具有GIS行为的高级数据对象、空间完整性的规则、以及空间数据处理工具；通过ArcGIS或SQL可以访问 Geodatabase中的地理数据；Geodatabase软件逻辑贯穿ArcGIS系列产品；ArcSDE Geodatabase具有用于管理GIS数据工作流的事务模型，如Geodatabase的长事务处理模型。   \n",
    "File Geodatabase以文件系统中的文件夹存储管理各种类型数据集，如表、对象类、要素类、要素数据集、关系类、子类型、属性域、拓扑关系、宗地结构、地形数据集、栅格数据集等。每个数据集以一个文件的形式存储。"
   ]
  },
  {
   "cell_type": "markdown",
   "id": "e98e68f7",
   "metadata": {},
   "source": [
    "### <font color=Blue size=5>**栅格数据文件格式**   \n",
    "\n",
    "<font color=Blue size=5>栅格数据模型使用单元格或像素数组来表示真实世界的对象。栅格数据集是组织成一个或多个波段的任何有效的栅格格式。每个波段由一系列像素(像元)组成，每个像素都有一个值。栅格数据集至少有一个波段。大多数影像数据和栅格数据(例如正射像片或规则格网DEM)均作为栅格数据集提供。栅格数据集通常用于表示和管理图像、地表温度、数字高程模型和许多其他实体。GIS领域使用的栅格数据文件格式很多，这里简述几种常用的栅格数据格式。   \n",
    "\n",
    "#### <font color=Blue size=5>**JPEG, GIF, BMP和PNG格式**  \n",
    "    \n",
    "<font color=Blue size=5>**JPEG、GIF、BMP和PNG格式**是通用的常见图像格式，但也可以用于基本的地理空间数据存储。通常情况下，这些格式依赖于随附的用于支持地理参考信息的文本文件，以便使其与GIS软件（如WKT、.prj或world文件）兼容。\n",
    "\n",
    "<font color=Blue size=5>JPEG格式对于地理空间数据也是相当常见的。JPEG有一个内置的元数据标记系统，类似于tiff，称为EXIF。除了栅格GIS图层外，JPEG通常用于附有地理标记照片。位图（BMP）图像用于桌面应用程序和文档图形。但是，JPEG、GIF和PNG是web地图应用程序中使用的格式，特别是用于通过滑动地图快速访问的预生成服务器地图瓦片的格式。"
   ]
  },
  {
   "cell_type": "markdown",
   "id": "132680ea",
   "metadata": {
    "toc-hr-collapsed": true
   },
   "source": [
    "#### <font color=Blue size=5>**GeoTiff文件格式**  \n",
    "\n",
    "<font color=Blue size=5>**GeoTIFF**是一种基于TIFF（Tag Image File Format）的地理空间栅格数据存储格式。TIFF 是一种广泛应用的图像格式，其文件由一系列标签 (tag) 组成。其分级的文件结构由文件头 (File Header)、文件目录 (Image File Directories, IFDs)和文件数据 (Data)三部分组成。TIFF支持256色、24位色、32位色、48位色等多种色彩位。GeoTIFF 作为TIFF 的一种扩展, 在TIFF 的基础上定义了一些GeoTag (地理标签) , 来对各种卫星成像系统、坐标系统、椭球基准、投影信息、各种影像及数字高程模型等进行定义和存储, 使图像数据和地理参考信息存储在同一图像文件中。"
   ]
  },
  {
   "cell_type": "markdown",
   "id": "c6f34337",
   "metadata": {},
   "source": [
    "#### <font color=Blue size=5>**Landsat数据**   \n",
    "    \n",
    "美国NASA的陆地卫星(Landsat)计划从1972年7月23日以来，已发射8颗（第6颗发射失败）。Landsat1—5均相继退役、失效。Landsat7于1999年4月15日发射升空。Landsat8于2013年2月11日发射，Landsat-8卫星上携带两个传感器，分别是OLI陆地成像仪(Operational Land Imager)和TIRS热红外传感器(Thermal Infrared Sensor)。 \n",
    "　　Landsat8共有11个波段，波段1-7，9的空间分辨率为30米，波段8为15米分辨率的全色波段，波段10-11的空间分辨率为100米，卫星每16天可以实现一次全球覆盖。OLI陆地成像仪有9个波段，成像宽幅为185 x 185km。与Landsat-7上的ETM传感器相比，OLI陆地成像仪做了以下调整：1) Band 5的波段范围调整为0.845–0.885 μm，排除了0.825μm处水汽吸收的影响; 2) Band 8全色波段范围较窄，从而可以更好区分植被和非植被区域; 3) 新增两个波段。Band 1蓝色波段 (0.433–0.453 μm) 主要应用于海岸带观测，Band 9短波红外波段(1.360–1.390 μm) 应用于云检测。LandSat-8上携带的TIRS热红外传感器，主要用于地表温度反演、火灾检测、土壤湿度评价、夜间成像。Landsat波段信息如下表所示。      \n",
    "    \n",
    "**<center> Landsat波段信息表 </center>**         \n",
    "<style>\n",
    "table th:first-of-type {\n",
    "    width: 40%;\n",
    "}\n",
    "table th:nth-of-type(2) {\n",
    "    width: 15%;\n",
    "}\n",
    "table th:nth-of-type(3) {\n",
    "    width: 15%;\n",
    "table th:nth-of-type(4) {\n",
    "    width: 40%;\n",
    "}\n",
    "</style>    \n",
    "\n",
    "| 波段 |波长范围(μm)| 空间分辨率(m)|  主要用途               |      \n",
    "|---------------------------------------|:-----------:|:-------------:|------------------------|    \n",
    "| Band 1 - coastal aerosol              |0.43-0.45  |30           |海岸带环境监测           |      \n",
    "| Band 2 - blue                         |0.45-0.51  |30           |用于地物识别等|\n",
    "| Band 3 - green                        |0.53-0.59  |30           |用于地物识别等|          \n",
    "| Band 4 - red                          |0.64-0.67  |30           |用于地物识别等|        \n",
    "| Band 5 - Near Infrared (NIR)          |0.85-0.88  |30           |植被信息提取  |        \n",
    "| Band 6 - Short-wave Infrared (SWIR) 1 |1.57-1.65  |30           |植被旱情监测、强火监测、部分矿物信息提取|        \n",
    "| Band 7 - Short-wave Infrared (SWIR) 2 |2.11-2.29  |30           |植被旱情监测、强火监测、部分矿物信息提取|        \n",
    "| Band 8 - Panchromatic                 |0.50-0.68  |15           |地物识别，数据融合|        \n",
    "| Band 9 - Cirrus                       |1.36-1.38  |30           |卷云检测，数据质量评价|        \n",
    "| Band 10 - TIRS 1                      |10.60-11.19  |100        |地表温度反演、火灾检测、土壤湿度评价、夜间成像|        \n",
    "| Band 11 - TIRS 2                      |11.50-12.51  |100        |地表温度反演、火灾检测、土壤湿度评价、夜间成像|        \n",
    "\n",
    "![image.png](attachment:e38a6cd0-bd4b-4c16-8d07-618efaffe8d3.png)       \n",
    "<center>Landsat 7 (下)、Landsat 8 (上)波段比较</center>\n",
    "  \n",
    "在实际应用过程中，常用的Landsat8波段组合如下表所示。     \n",
    "<center>常用的Landsat8波段组合表</center>    \n",
    "\n",
    "| 波段组合 | 主要用途   |      \n",
    "|:-----------:|-------------------|\n",
    "|4 3 2 |真彩色，接近地物真实色彩  |    \n",
    "|5 4 3 |标准假彩色图，有利于植被（红色）分类|   \n",
    "|7 6 4 |假彩色（ False Color (urban))|   \n",
    "|5 4 3 |红外彩色（ Color Infrared (vegetation) ）|   \n",
    "|6 5 2 |农业（ Agriculture ）|   \n",
    "|7 6 5 |大气渗透（ Atmospheric Penetration ）|   \n",
    "|5 6 2 |健康植被（ Healthy Vegetation ）|    \n",
    "|5 6 4 |陆地 / 水体（ Land/Water ）|   \n",
    "|7 5 3 |大气去除（ Natural With Atmospheric Removal ）|     \n",
    "|7 5 4 |短波红外（ Shortwave Infrared ）|   \n",
    "|6 5 4 |植被分析（ Vegetation Analysis ）|    \n",
    "\n",
    "**Landsat数据文件命名规则：**       \n",
    "\n",
    "Landsat数据一般由目录和波段数据文件组成，其命名形如：   \n",
    "LXSS_LLLL_PPPRRR_YYYYMMDD_yyyymmdd_CC_TX\n",
    "具体含义如下：\n",
    "L = Landsat\n",
    "X = 传感器Sensor (“C”=OLI/TIRS combined, “O”=OLI-only, “T”=TIRS-only, “E”=ETM+, “T”=TM, “M”=MSS)\n",
    "SS = 卫星Satellite (”07”=Landsat 7, “08”=Landsat 8)\n",
    "LLLL = 处理校正级别(L1TP：L1级别精确地形校正；L1GT：L1级别系统地形校正；L1GS：L1级别系统几何校正)\n",
    "PPP = WRS(Worldwide Reference System) path，条带号\n",
    "RRR = WRS row，行编号\n",
    "YYYYMMDD = 数据获取的年月日   \n",
    "yyyymmdd = 数据处理的年月日   \n",
    "CC = 数据集编号 (01, 02, …)   \n",
    "TX = 数据集类别 (“RT”=实时-Real-Time, “T1”=层1-Tier 1, “T2”=层2-Tier 2)      \n",
    "样例:  LC08_L1GT_029030_20151209_20160131_01_RT   \n",
    "含义: Landsat 8; OLI/TIRS组合传感器; 处理校正级别为L1GT; path 029; row 030; 数据获取日期：20151209; 数据处理日期20160131; 数据集编号：01; 数据集类别：RT(Real-Time)   \n",
    "    \n",
    "波段文件命名：在上述命名的基础上+\"_B波段序号+.扩展名\"，如LC08_L1GT_029030_20151209_20160131_01_RT_B1.TIF、LC08_L1GT_029030_20151209_20160131_01_RT_B11.TIF"
   ]
  },
  {
   "cell_type": "markdown",
   "id": "12e84456",
   "metadata": {},
   "source": [
    "#### <font color=Blue size=5>**HDF文件格式**    \n",
    "\n",
    "普通的图像文件格式如 GIF、JPG、TIFF等，存在结构太简单，不能存储影像之外的其他有用信息，如遥感影像的坐标、参数等都无法在其中保存。HDF(Hierarchical Data Format)是美国国家高级计算应用中心(National Center for Supercomputing Application,NCSA)研发的一种用于存储和分发科学数据的自我描述、多对象文件格式，支持海量、复杂、异构数据。HDF文件使用类似于“文件目录”结构以多种不同的结构化方式组织文件中的数据，HDF文件还允许嵌入元数据，使它们具有自我描述功能。  \n",
    "    \n",
    "地球数据科学中，广泛使用的HDF文件格式有：   \n",
    "- **HDF4**: MODIS数据产品采用的文件格式；   \n",
    "- **HDF5**: NASA提供的多种数据产品文件格式，是HDF4的改进版；与HDF5相比，HDF4是一种较老的分层数据格式，虽然许多遥感产品已转向HDF5，但HDF4仍然是NASA发布的MODIS数据产品的主要数据格式。   \n",
    "- **NetCDF**: 气象数据文件格式。   \n",
    "\n",
    "HDF文件格式具有以下优势：   \n",
    "\n",
    "- **自我描述(Self Describing)**：对于HDF文件中的每个数据对象，有关于该数据的描述性信息（元数据）。这允许用户有效地提取元数据，而不需要额外的元数据文档。   \n",
    "- **支持异构数据类型**：在一个HDF文件中可以包含多个不同类型的数据集，如同时包含温度、降雨量等。   \n",
    "- **支持数据切片(Data Slicing)**：数据切片(或根据分析需要提取数据集的子集)仅读取数据集子集到计算机内存，而不是将整个大文件完全读入计算机内存。   \n",
    "- **开放格式、广泛支持**：HDF开放格式已得到许多编程语言和工具的支持，包括**Python**开源语言、QGIS开源GIS工具。    \n",
    "- **跨平台性**：HDF是一个与平台无关的文件格式。HDF文件无需任何转换就可以在不同平台上使用。"
   ]
  },
  {
   "cell_type": "markdown",
   "id": "e5d57d84",
   "metadata": {},
   "source": [
    "#### <font color=Blue size=5>**MODIS数据**\n",
    "    \n",
    "MODIS(Moderate-resolution Imaging Spectroradiometer，中分辨率成像光谱仪)是美国宇航局研制大型空间遥感仪器，搭载在Terra和Aqua卫星上。MODIS共有36个离散光谱波段，光谱范围从0.4µm（可见光）到14.4µm（热红外）；具有不同的空间分辨率，第1-2波段分辨率为250m，3-7波段分辨率为500m，其他29个波段分辨率为1000m。MODIS的多波段数据可以同时提供反映陆地表面状况、云边界、云特性、海洋水色、浮游植物、生物地理、化学、大气中水汽、气溶胶、地表温度、云顶温度、大气温度、臭氧和云顶高度等特征的信息。可用于对地表、生物圈、固态地球、大气和海洋进行长期全球观测。   \n",
    "    \n",
    "   \n",
    "| 波段号 |波长范围(μm)| 空间分辨率(m)|  主要应用       |      \n",
    "|:--------------:|:-----------:|:-------------:|---------------|    \n",
    "|1-red |0.620-0.670 |250 |植被叶绿素吸收|\n",
    "|2- near infrared| 0.841-0.876 |250 |云和植被覆盖变换 |\n",
    "|3- blue/green |0.459-0.479 |500| 土壤植被差异 |\n",
    "|4- green | 0.545-0.565 |500 |绿色植被  |\n",
    "|5- near infrared |1.230-0-1.250 |500 |叶面/树冠差异 |\n",
    "|6- mid-infrared | 1.628-1.652 |500 |雪/云差异  |\n",
    "|7- mid-infrared |2.105-2.155 |500 |陆地和云的性质 |\n",
    "|8 |0.405-0.420 |1000|叶绿素  |\n",
    "|9 |0.438-0.448|1000|叶绿素 |\n",
    "|10 |0.483-0.49|1000|叶绿素  |\n",
    "|11|0.526-0.536|1000|叶绿素 |\n",
    "|12 |0.546-0.556 |1000 |沉淀物 |\n",
    "|13 |0.662-0.672 |1000 |沉淀物，大气层 |\n",
    "| 14 |0.673-0.683 |1000  |叶绿素荧光  |\n",
    "|15| 0.743-0.753|1000|气溶胶性质|\n",
    "|16|0.862-0.877|1000|气溶胶/大气层性质|\n",
    "|17|0.890-0.920|1000|云/大气层性质|\n",
    "|18|0.931-0.941|1000|云/大气层性质|\n",
    "|19| 0.915-0.965|1000|云/大气层性质\n",
    "|20|3.660-3.840|1000|洋面温度||\n",
    "|21|3.929-3.989|1000|森林火灾/火山|\n",
    "|22|3.929-3.989|1000|云/地表温度|\n",
    "|23|4.020-4.080|1000|云/地表温度|\n",
    "|24|4.433-4.498|1000|对流层温度/云片|\n",
    "|25|4.482-4.549|1000|对流层温度/云片|\n",
    "|26|1.360-1.390|1000|红外云探测|\n",
    "|27|6.535-6.895|1000|对流层中层湿度|\n",
    "|28|7.175-7.475|1000|对流层中层湿度|\n",
    "|29|8.400-8.700|1000|表面温度|\n",
    "|30|9.580-9.880|1000|臭氧总量|\n",
    "|31|10.780-11.280|1000|云/表面温度|\n",
    "|32|11.770-12.270|1000|云高和表面温度|\n",
    "|33|13.185-13.485|1000|云高和云片|\n",
    "|34|13.485-13.785|1000|云高和云片|\n",
    "|35|13.785-14.085|1000|云高和云片|\n",
    "|36|18.085-14.385|1000|云高和云片|\n",
    "\n",
    "  \n",
    "MODIS数据产品概述：       \n",
    "按处理级别划分，可以分为以下5种：\n",
    "- 0级产品：也称原始数据;\n",
    "- 1级产品：指L1A数据，已经被赋予定标参数;\n",
    "- 2级产品：经过定标定位后数据，本级别产品是国际标准的EOS-HDF格式。包含所有波段数据，是应用比较广泛的一类数据。;\n",
    "- 3级产品：在1B数据的基础上，对由遥感器成像过程产生的边缘畸变(Bowtie效应)进行校正，产生L3级产品;\n",
    "- 4级产品：由参数文件提供的参数，对图像进行几何纠正，辐射校正，使图像的每一点都有精确的地理编码、反射率和辐射率。L4级产品的MODIS图像进行不同时相的匹配时，误差小于1个像元。该级产品是应用级产品不可缺少的基础;\n",
    "- 5级及以上产品：根据各种应用模型开发L5级产品。   \n",
    "\n",
    "按专题分为标定产品、大气产品、陆地产品、冰雪产品、海洋产品。    \n",
    "- 标定产品：产品名称为MOD01、MOD02、MOD03；   \n",
    "- 大气产品：产品名称为MOD04-MOD08，MOD35；   \n",
    "- 陆地产品：产品名称为MOD09，MOD11-MOD17，MOD43，MOD44；   \n",
    "- 冰雪产品：产品名称为MOD10，MOD29；\n",
    "- 海洋产品：产品名称为MOD18-MOD28，MOD36，MOD37,MOD39。   \n",
    "MODIS文件名的命名遵循一定的规则，通过文件名，可以获得很多关于此文件的详细信息，比如：文件名 MOD09A1.A2006001.h08v05.005.2006012234657.hdf \n",
    "具体含义如下：\n",
    "- MOD09A1：产品缩写\n",
    "- A2006001：数据获得时间(A-YYYYDDD)\n",
    "- h08v05：分片标示(水平XX，垂直YY)\n",
    "- 005：数据集版本号\n",
    "- 2006012234567：产品生产时间(YYYYDDDHHMMSS)\n",
    "- hdf – 数据格式(HDF-EOS)"
   ]
  },
  {
   "cell_type": "markdown",
   "id": "91439371",
   "metadata": {},
   "source": [
    "#### <font color=Blue size=5>**NetCDF数据**   \n",
    "    \n",
    "NetCDF(network Common Data Form，网络通用数据格式)是由美国大学大气研究协会（University Corporation for Atmospheric Research，UCAR)的Unidata项目科学家针对科学数据的特点开发的，是一种面向多维数组并适于网络共享的数据描述和编码标准，可以对网络数据进行高效存储、管理、获取和分发等操作。目前，NetCDF广泛应用于大气科学、水文、海洋学、环境模拟、地球物理等诸多领域。   \n",
    "\n",
    "从数学上来说，NetCDF存储的数据就是一个多自变量的单值函数，用公式来说就是f(x,y,z,...)=value，函数的自变量x,y,z,...在NetCDF中称为维(dimension)或坐标轴(axis)，函数值value在NetCDF中叫做变量(Variables)。而自变量和函数值在物理学上的一些性质，比如计量单位(量纲)、物理学名称等在NetCDF中就叫属性(Attributes)。   \n",
    "    \n",
    "NetCDF文件后缀为.nc，文件中的数据结构包含维度(dimensions)、变量(variables)和属性(attributes)三种描述类型，每种类型都会被分配一个名字和一个ID。　  \n",
    "    \n",
    "- **变量(Variables)**   \n",
    "\n",
    "变量对应着真实的物理数据，如某点的温度或湿度，是一个以位置(经纬度或xy坐标)、时间(t)为自变量的单值函数(三维单值函数)，三维分别是经纬度或xy坐标、时间(t)，函数值为温度或湿度。即NetCDF中的变量就是一个N维数组，数组的维数就是实际问题中的自变量个数，数组的值就是观测得到的物理值。   \n",
    "\n",
    "- **维度(Dimensions)**      \n",
    "\n",
    "一个维度对应着函数中的某个自变量，或者说函数图象中的一个坐标轴，在线性代数中就是一个N维向量的一个分量。在NetCDF中，一个维度具有一个名字和范围（定义域，可以是离散的点集合或者连续的区间）。   \n",
    "\n",
    "- **属性(Attributes)**   \n",
    "\n",
    "属性对变量值和维度的具体物理含义的注释或者说解释，即NetCDF的元数据(meta)。"
   ]
  },
  {
   "cell_type": "code",
   "execution_count": null,
   "id": "d6a92d27",
   "metadata": {},
   "outputs": [],
   "source": []
  },
  {
   "cell_type": "markdown",
   "id": "fb1bc567",
   "metadata": {},
   "source": [
    "#### <font color=Blue size=5>**ERDAS Imagine文件格式**  \n",
    "\n",
    "<font color=Blue size=5>ERDAS IMAGINE使用.img文件存储栅格数据。.img文件使用ERDAS IMAGINE层次文件格式（Hierarchical File Format，HFA）结构，存储包括文件信息、控制点信息、传感器信息、波段图层信息、投影信息、金字塔信息等不同数据对象。.img文件的内容不是固定的。此外，由于文件格式的开放性，其他开发人员可能会创建新类型项并将其添加到文件中。.img文件有时会附带一个.xml文件，该文件通常存储有关栅格层的元数据信息。"
   ]
  },
  {
   "cell_type": "markdown",
   "id": "8b4eaa6c",
   "metadata": {},
   "source": [
    "#### <font color=Blue size=5>**压缩格式**  \n",
    "\n",
    "<font color=Blue size=5>由于地理空间栅格往往非常大，它们通常使用先进的压缩技术进行存储。开放标准jpeg2000格式是JPEG格式的升级，包括小波压缩和其他一些特性，如地理参考数据。多分辨率无缝图像数据库（Multi-resolution Seamless Image Database，MrSID）和增强压缩小波（Enhanced Compression Wavelet，ECW）是地理空间文献中常见的两种专有小波压缩格式。   \n",
    "  \n",
    "<font color=Blue size=5>ECW（增强压缩小波）：ECW是一种压缩图像格式，通常用于航空和卫星图像。这种GIS文件类型以其高压缩比而闻名，同时仍然保持图像的质量对比。文件扩展名为.ECW。   \n",
    "\n",
    "<font color=Blue size=5>JPEG2000：一种开源的压缩栅格格式，允许有损和无损压缩。JPEG2000通常具有JP2文件扩展名。JPEG2000可以实现20:1的压缩比，这与MrSID格式类似。   \n",
    "\n",
    "<font color=Blue size=5>MrSID（多分辨率无缝图像数据库）：一种压缩的小波格式，允许有损和无损压缩。LizardTech专有的MrSID格式通常用于需要压缩的正射影像。MrSID图像的扩展名为.sid，并附带一个文件扩展名为.sdm的world文件。"
   ]
  },
  {
   "cell_type": "markdown",
   "id": "d3786085",
   "metadata": {},
   "source": [
    "#### <font color=Blue size=5>**Esri Grid文件格式**  \n",
    "\n",
    "<font color=Blue size=5>**Grid**是 Esri 栅格数据的原生存储格式。通常包含以下两种类型的格网：整型和浮点型。整型格网多用于表示离散数据，浮点型格网则多用于表示连续数据。\n",
    "\n",
    "<font color=Blue size=5>整型格网的属性存储在它的值属性表 (VAT) 中。格网中的每个唯一值对应于表中的一条 VAT 记录。该记录存储了这个唯一值（VALUE 是表示特定类或像元分组的整数）和它所表示的格网像元数 (COUNT)。例如，如果栅格中共有 50 个代表森林的值是 1 的像元，则在 VAT 中，这些像元将显示为一条 VALUE = 1 和 COUNT = 50 的记录。\n",
    "<font color=Blue size=5>浮点型格网没有 VAT，因为格网中的像元可以是给定范围的任意值。此格网类型中的像元不能整齐地落在各个离散类别中。像元值用于描述其所在位置的属性。例如，在使用米作为单位的表示高程的高程数据格网中，像元值 10.1662 代表其所在位置高于海平面大约 10 米。\n",
    "   \n",
    "<font color=Blue size=5>**ASCII Grid**是Esri发布的用于交换的栅格格式，采用可读的文本方式存储栅格数据。文件内容表示网格中每个单元格的度量值，任何坐标系都可以用来定义网格。文件以定义栅格属性的标题信息开始，如行数和列数、单元格大小以及栅格原点的坐标；数值按行中的列排序。在每行中，值由空格分隔，行由回车分隔。整数或浮点数可用于单个数据值。栅格的空间位置由左下单元的位置以及左下单元的中心或左下单元的左下角指定。**ASCII Grid**文件格式如下：\n",
    "    \n",
    "   <font color=Blue size=4>```<NCOLS xxx>```   \n",
    "   ```<NROWS xxx>```   \n",
    "   ```<XLLCENTER xxx | XLLCORNER xxx>```   \n",
    "   ```<YLLCENTER xxx | YLLCORNER xxx>```   \n",
    "   ```<CELLSIZE xxx>```   \n",
    "   {NODATA_VALUE xxx}   \n",
    "   row 1   \n",
    "   row 2   \n",
    "   .   \n",
    "   .   \n",
    "   .   \n",
    "   row n"
   ]
  },
  {
   "cell_type": "markdown",
   "id": "b9b70590",
   "metadata": {},
   "source": [
    "#### <font color=Blue size=5>**栅格DEM数据格式**  \n",
    "\n",
    "<font color=Blue size=5>常见的DEM数据有两种文件组织方式：**NSDTF-DEM**和**USGS-DEM**。\n",
    "\n",
    "   * <font color=Blue size=5>**NSDTF-DEM**：是一种明码的中国国家标准空间数据交换格式，遵从国家标准GB/T 17798-2007《地理空间数据交换格式—DEM格式》中的栅格数据组织规范。\n",
    "\n",
    "   * <font color=Blue size=5>**USGS-DEM**：是一种由美国地质调查局所定义的公开的DEM数据格式标准。   \n",
    "\n",
    "<font color=Blue size=5>NSDTF-DEM和USGS-DEM都是明码的数据交换格式，理论上，二者间的对应转换只需要将NSDTF中的头文件数据按USGS的格式重新组织。   \n",
    "\n",
    "<font color=Blue size=5>NSDTF-DEM头文件说明：   \n",
    "\n",
    "   * <font color=Blue size=5>DataMark：中国地球空间数据交换格式-格网数据交换格式(CNSDTF-RAS或CNSDTF-DEM)的标志。      \n",
    "   * <font color=Blue size=5>Version：该空间数据交换格式的版本号,如1.0。    \n",
    "   * <font color=Blue size=5>Unit：坐标单位，K表示公里，M表示米，D表示以度为单位的经纬度，S表示以度分秒表示的经纬度(此时坐标格式为DDD MM SS.SSSS, DDD为度, MM为分, SS.SSSS为秒)。   \n",
    "   * <font color=Blue size=5>Alpha：方向角。    \n",
    "   * <font color=Blue size=5>Compress：压缩方法。0表示不压缩，1表示游程编码。    \n",
    "   * <font color=Blue size=5>Xo：左上角原点X坐标。    \n",
    "   * <font color=Blue size=5>Yo：左上角原点Y坐标。   \n",
    "   * <font color=Blue size=5>DX：X方向的间距。 \n",
    "   * <font color=Blue size=5>DY：Y方向的间距。    \n",
    "   * <font color=Blue size=5>Row：行数。   \n",
    "   * <font color=Blue size=5>Col：列数。 \n",
    "   * <font color=Blue size=5>HZoom：高程放大倍率。设置高程的放大倍率，使高程数据可以整数存贮，如高程精度精确到厘米，高程的放大倍率为100。如果不是DEM则HZoom为1。   \n",
    "   ![image.png](attachment:c6fa88f6-876d-4dc1-80e6-ddb82a95a418.png)\n",
    "\n",
    "<font color=Blue size=5>USGS-DEM的头文件与上述的**Esri ASCII Grid**格式相同。"
   ]
  },
  {
   "cell_type": "code",
   "execution_count": 1,
   "id": "8749dcfc",
   "metadata": {},
   "outputs": [
    {
     "ename": "ModuleNotFoundError",
     "evalue": "No module named 'fiona'",
     "output_type": "error",
     "traceback": [
      "\u001b[1;31m---------------------------------------------------------------------------\u001b[0m",
      "\u001b[1;31mModuleNotFoundError\u001b[0m                       Traceback (most recent call last)",
      "\u001b[1;32m~\\AppData\\Local\\Temp\\ipykernel_7708\\3864655291.py\u001b[0m in \u001b[0;36m<module>\u001b[1;34m\u001b[0m\n\u001b[1;32m----> 1\u001b[1;33m \u001b[1;32mimport\u001b[0m \u001b[0mfiona\u001b[0m\u001b[1;33m\u001b[0m\u001b[1;33m\u001b[0m\u001b[0m\n\u001b[0m\u001b[0;32m      2\u001b[0m \u001b[0mfiona\u001b[0m\u001b[1;33m.\u001b[0m\u001b[0msupported_drivers\u001b[0m\u001b[1;33m\u001b[0m\u001b[1;33m\u001b[0m\u001b[0m\n",
      "\u001b[1;31mModuleNotFoundError\u001b[0m: No module named 'fiona'"
     ]
    }
   ],
   "source": [
    "import fiona\n",
    "fiona.supported_drivers "
   ]
  },
  {
   "cell_type": "markdown",
   "id": "1b018c32",
   "metadata": {},
   "source": [
    "# <center>**Python开发环境**</center>"
   ]
  },
  {
   "cell_type": "markdown",
   "id": "29a59131",
   "metadata": {
    "slideshow": {
     "slide_type": "slide"
    }
   },
   "source": [
    "## <center>**为什么选择Python**</center>    \n",
    "\n",
    "<font color=Blue size=5>\n",
    "Python 是一种开源的面向对象的解释型编程语言，它功能强大且简单易学，因而得到了广泛应用和支持。"
   ]
  },
  {
   "cell_type": "markdown",
   "id": "5f06a66c",
   "metadata": {
    "slideshow": {
     "slide_type": "slide"
    }
   },
   "source": [
    "### <font color=Blue size=5>**Python语言的特点**   \n",
    "   * <font color=Blue size=5>**简单易学**：与其他高度结构化编程语言（如C++）相比，Python语法很简单，更容易学习。这让用户有更多的时间专注于解决问题，而不是学习语言本身。   \n",
    "   * <font color=Blue size=5>**免费开源**：Python是免费开源的。可以免费分发软件副本、阅读源代码、对其进行修改，并在新的免费程序中使用。Python工作如此出色的原因之一，它是由一个活跃而专注的用户社区创建，并不断改进。   \n",
    "   * <font color=Blue size=5>**跨平台**：Python支持Windows、macOS和Linux平台。Python程序几乎不用或很少的修改，就可以在任一平台上运行。Python用户规模庞大，它的跨平台特性是一个重要原因。   \n",
    "   * <font color=Blue size=5>**解释性语言**：许多编程语言需要相应的语言编译器将程序源代码（如C++、C#）转换成计算机能够理解的二进制代码。Python是一种解释性语言，在程序运行之前不需要编译成二进制代码。只需直接从源代码运行程序，这使得Python比其他编程语言更易于使用和移植。   \n",
    "   * <font color=Blue size=5>**面向对象**：Python是一种面向对象编程（OOP）语言。与传统的任务列表不同，面向对象程序包含一组交互对象。许多现代编程语言支持面向对象编程。\n",
    "\n",
    "<font color=Blue size=5>Python的以上特性使之成为目前最流行的编程语言之一，越来越多的开发人员转向Python编程，越来越多的第三方提供各种各样功能丰富的Python包。Python已成为高校计算机程序设计入门课教学中广泛使用的语言。Python的流行也意味着有越来越多资源可以学习使用。"
   ]
  },
  {
   "cell_type": "markdown",
   "id": "a9e2d936",
   "metadata": {
    "slideshow": {
     "slide_type": "slide"
    }
   },
   "source": [
    "### <font color=Blue size=5>**脚本语言与编程语言**   \n",
    "\n",
    "<font color=Blue size=5>虽然Python是一种编程语言，但它通常被称为“脚本语言”。一般来说，脚本语言指的是在另一个程序中自动实现某些功能，而编程语言则涉及开发更复杂的多功能应用程序。脚本是一项编程任务，它允许开发人员连接各种现有组件，以完成新的相关任务。   \n",
    "<font color=Blue size=5>脚本是一种“粘合剂”，允许开发人员将各种现有元素组合在一起。另一方面，编程允许开发人员从头开始构建组件，以及包含这些组件的应用程序。脚本语言使用内置的高级函数，并屏蔽编程语言管理的一些细节。脚本语言的例子包括Python、Perl、PHP、R和Ruby。   \n",
    "<font color=Blue size=5>Python的一个优点是它既是脚本语言又是编程语言，尽管它没有像C++那样的深度。开发人员可以将它用于相对简单的脚本以及更高级的编程任务。"
   ]
  },
  {
   "cell_type": "markdown",
   "id": "08f7bfb7",
   "metadata": {
    "slideshow": {
     "slide_type": "slide"
    }
   },
   "source": [
    "### <font color=Blue size=5>**GIS开发为什么选择Python**\n",
    "\n",
    "<font color=Blue size=5>Python是GIS应用开发非常有用的语言，是**开发科学和开放GIS**的最佳选择，主要理由如下：      \n",
    "   * <font color=Blue size=5>**Python语言特点**：简单易学、免费开源、跨平台、面向对象，非常适合初学者，也特别适合专家使用。   \n",
    "    \n",
    "   * <font color=Blue size=5>**不依赖于特定的GIS专业软件**：对于矢量、栅格数据的处理与分析，通常需要特定的GIS专业软件，如ArcGIS、ENVI等。免费开源Python包，提供了矢量、栅格数据处理与分析等常规功能，不需要购买昂贵的GIS专业软件。   \n",
    "    \n",
    "   * <font color=Blue size=5>**丰富的GIS功能Python库（包）**：Python社区提供了丰富的各种功能的GIS库（包），包括矢量的、栅格的，二维的、三维的，地理计算的、空间统计的，桌面的、Web的，人工智能的、大数据分析的，绘图的，等等，详见**“常用的Python包概述”**。   \n",
    "    \n",
    "   * <font color=Blue size=5>**日趋成熟的开放科学工具**：可重现性(Reproducibility)是科学发现、科学研究的基本原则，开放科学工具能够高效实现科学研究的可重现性。近年来，开放科学工具诸如版本管理工具GitHub、Python包和环境管理工具Anaconda、Python开发环境Juypter Notebook和Juypter Lab等日趋成熟，并得到广泛应用，为**开发科学和开发GIS**提供了快速实现途径。   \n",
    "    \n",
    "   * <font color=Blue size=5>**Python社区规模大、资源丰富**：Python官网（https://www.python.org/ ）、 Stack Overflow（https://stackoverflow.com） 、GitHub、Python各类中文社区等提供了Python教程、文档、代码、资源、技术问答等相关内容，方便用户学习、交流。"
   ]
  },
  {
   "cell_type": "markdown",
   "id": "a28f4222",
   "metadata": {
    "slideshow": {
     "slide_type": "slide"
    }
   },
   "source": [
    "## <center>**Python开发环境概述**</center>   \n",
    "\n",
    "<font color=Blue size=5> Python是一种开源的面向对象的解释型计算机程序设计语言，其编写的代码可以跨平台（Linux、macOS、Windows）运行。此外，Python的强大之处在于它的应用广泛，遍及人工智能、科学计算、Web开发、系统运维、大数据及云计算、金融等领域。实现其强大功能的前提，就是Python具有数量庞大且功能相对完善的标准库（包）和第三方库（包），通过对库（包）的引用，能够实现不同领域的业务开发。**然而，正是由于库的数量庞大以及库之间的依赖，管理维护这些库成为既重要又复杂的问题。**为解决Python开发中的这一问题，Anaconda等开源工具应运而生。</font>\n",
    "\n",
    " * <font color=Blue size=5>**Anaconda**\n",
    " * <font color=Blue size=5>**Jupyter Lab与Jupyter Notebook**\n",
    " * <font color=Blue size=5>**Spyder**"
   ]
  },
  {
   "cell_type": "markdown",
   "id": "ca011b8a",
   "metadata": {
    "slideshow": {
     "slide_type": "slide"
    }
   },
   "source": [
    "### **Anaconda简介**\n",
    "\n",
    "<font color=Blue size=5>**Anaconda**是各类Python工具的集成平台，包含**conda**和**Anaconda Navigator**，以及某个版本的Python和数百个科学软件包。**Anaconda**主要提供了**包管理**和**环境管理**功能，可以方便地解决**多版本Python并存、切换以及各种第三方包安装问题**。</font>   \n",
    "\n",
    "<font color=Blue size=5>**Anaconda**通过管理Python包、开发环境、Python版本，大大简化了Python开发的工作流程。不仅可以方便地安装、更新、卸载Python包，而且安装时能**自动安装相应的依赖包**，同时还能**使用不同的虚拟环境隔离不同要求的项目**。</font>\n",
    "\n",
    "<font color=Blue size=5>**conda**在命令行界面上工作，比如Windows上的Anaconda Prompt和macOS和Linux上的终端。</font> \n",
    "\n",
    "<font color=Blue size=5>**Anaconda Navigator**是一个桌面图形用户界面，允许用户启动应用程序并轻松管理conda包、环境和频道，而无需使用命令行命令。</font>"
   ]
  },
  {
   "cell_type": "markdown",
   "id": "41e8e5da",
   "metadata": {
    "slideshow": {
     "slide_type": "slide"
    }
   },
   "source": [
    "<font color=Blue size=5>Anaconda集成工具可从Anaconda官网（https://www.anaconda.com/ ）直接下载并安装，本课程选择的是Windows下的64-Bit Graphical Installer，Python版本为3.8。</font>  \n",
    "\n",
    "![image.png](attachment:image.png)"
   ]
  },
  {
   "cell_type": "markdown",
   "id": "dfd1631e",
   "metadata": {
    "slideshow": {
     "slide_type": "slide"
    }
   },
   "source": [
    "<font color=Blue size=5>Anaconda安装完成后，可以从Windows“开始”->\"Anaconda3(64-bit)\"程序组中看到Anaconda集成工具包括：</font>\n",
    "\n",
    "- <font color=Blue size=5>Anaconda Navigator\n",
    "\n",
    "- <font color=Blue size=5>Anaconda Prompt\n",
    "\n",
    "- <font color=Blue size=5>Jupyter Notebook\n",
    "\n",
    "- <font color=Blue size=5>Reset Spyder Settings\n",
    "\n",
    "- <font color=Blue size=5>Spyder"
   ]
  },
  {
   "cell_type": "markdown",
   "id": "b54f9680",
   "metadata": {
    "slideshow": {
     "slide_type": "subslide"
    }
   },
   "source": [
    "#### **Anaconda Navigator**\n",
    "\n",
    "<font color=Blue size=5>**Anaconda Navigtor**用于管理工具包和环境的图形用户界面，可以启动应用程序并轻松管理conda程序包(packages)、环境(environments)和通道(channels)，而无需使用命令行命令。 </font>   \n",
    "\n",
    "<font color=Blue size=5>启动Anaconda Navigator有以下两种方法：  </font>   \n",
    "<font color=Blue size=5>1. 鼠标点击Anaconda Navigator菜单栏启动</font> \n",
    "\n",
    "<font color=Blue size=5>2. 打开\"Anaconda Prompt\"并键入命令anaconda-navigator    </font>"
   ]
  },
  {
   "cell_type": "markdown",
   "id": "101bfcc5",
   "metadata": {
    "slideshow": {
     "slide_type": "subslide"
    }
   },
   "source": [
    "<font color=Blue size=5>启动Anaconda Navigator后，通过Navigator的**Home属性页**可以安装、启动以下应用程序：</font>\n",
    "<br /><center> <font color=Blue size=5>Navigator的**Home属性页** </center>   \n",
    "\n",
    "![Navigator的Home属性页](attachment:image.png)"
   ]
  },
  {
   "cell_type": "markdown",
   "id": "558a0f08",
   "metadata": {},
   "source": [
    "   * Jupyter Notebook：基于Web的交互式计算环境，允许用户将说明文本、公式、图片、代码及代码运行结果等内容全部组合到一个易于共享的文档中。\n",
    "   * Jupyter Lab：基于web的集成工作环境，除了Jupyter Notebook的功能外，还具有命令行(Console)、文本编辑(Text File)、终端(Terminal)、Markdown文档(Markdown File)等功能。\n",
    "   * Anaconda Prompt：Anaconda包管理、环境管理的命令行功能。\n",
    "   * Powershell Prompt：Anaconda的Windows PowerShell功能。 \n",
    "   * Orange App：机器学习、数据分析及可视化工具。\n",
    "   * QTConsole：Qt控制台应用程序，用于处理Jupyter内核，支持富媒体输出、会话导出等。\n",
    "   * Glueviz：跨文件的多维数据可视化，用于探索相关数据集内部和之间的关系，\n",
    "   * Spyder：Python集成开发环境。\n",
    "   * RStudio：R语言的集成开发环境。\n",
    "   * VS code：一个轻量级但功能强大的源代码编辑器，内置了对JavaScript，TypeScript和Node.js的支持，并为其他语言（如C++，C＃，Java，Python，PHP，Go）和运行时（如.NET和Unity）提供了丰富的扩展生态系统。"
   ]
  },
  {
   "cell_type": "markdown",
   "id": "d097a87f",
   "metadata": {
    "slideshow": {
     "slide_type": "subslide"
    }
   },
   "source": [
    "<font color=Blue size=5>通过Navigator的Environments属性页可以创建（Create）、克隆（Clone）、导入（Import）、删除（Remove）、切换Python环境（Environments）。Navigator可以从 Anaconda Cloud或者本地Anaconda仓库搜索所需要的packages（**若查找不到，则需要使用conda命令行安装**），同时，**在相应的环境中可以添加、更新所需要的包**。  </font>\n",
    " <br /><center><font color=Blue size=5>Navigator的**Environments属性页**</center>    \n",
    " \n",
    "  ![Navigator的Environments属性页](attachment:image-2.png)"
   ]
  },
  {
   "cell_type": "markdown",
   "id": "03f8bab5",
   "metadata": {
    "slideshow": {
     "slide_type": "subslide"
    }
   },
   "source": [
    "<font color=Blue size=5>通过Navigator的Learning属性页可以查看相关主题的文献资料、文档等。   </font>\n",
    "<br /><center><font color=Blue size=5>Navigator的**Learning属性页**</center>   \n",
    "\n",
    "  ![Navigator的Learning属性页](attachment:image-3.png)"
   ]
  },
  {
   "cell_type": "markdown",
   "id": "b7954e25",
   "metadata": {
    "slideshow": {
     "slide_type": "subslide"
    }
   },
   "source": [
    "<font color=Blue size=5>通过Navigator的Community属性页可以了解相关社团的会议、博客等信息。   </font>  \n",
    "<br /><center><font color=Blue size=5>Navigator的**Community属性页**</center> \n",
    "\n",
    "![Navigator的Community属性页](attachment:image-4.png)"
   ]
  },
  {
   "cell_type": "markdown",
   "id": "1e4f01eb",
   "metadata": {
    "slideshow": {
     "slide_type": "subslide"
    }
   },
   "source": [
    "#### <font color=Blue size=5>**conda**\n",
    "\n",
    "<font color=Blue size=5>**conda**是**Anaconda Prompt**命令行环境下的**包管理器**和**环境管理器**。conda 是一个Python项目，但是它支持许多语言，如：Python、 R、 Ruby、Lua、Scala、Java、JavaScript、 C/ C++、 FORTRAN等。 </font>\n",
    "\n",
    "<font color=Blue size=5>**conda**的主要功能：</font>\n",
    "* <font color=Blue size=5>启动conda\n",
    "* <font color=Blue size=5>管理conda\n",
    "* <font color=Blue size=5>管理环境\n",
    "* <font color=Blue size=5>管理包"
   ]
  },
  {
   "cell_type": "markdown",
   "id": "e8cdf2ac",
   "metadata": {
    "slideshow": {
     "slide_type": "subslide"
    }
   },
   "source": [
    "##### <font color=Blue size=5>**启动conda**\n",
    "\n",
    "<font color=Blue size=5>从Windows的“开始”-> \"Anaconda3(64-bit)\"程序组中点击\"Anaconda Prompt\"启动conda。\n",
    "![image.png](attachment:image.png)   \n",
    "    \n",
    "![image.png](attachment:1246d961-1e68-4cc2-be35-bb8e3b1e8a2b.png)"
   ]
  },
  {
   "cell_type": "markdown",
   "id": "f4f65712",
   "metadata": {
    "slideshow": {
     "slide_type": "subslide"
    }
   },
   "source": [
    "##### <font color=Blue size=5>**管理conda**\n",
    "\n",
    "   * <font color=Blue size=5>**查看conda版本**（同时核查有没有安装conda）,在\"Anaconda Prompt\"命令行窗口当前提示符下输入以下命令：    \n",
    "conda --version    \n",
    "   * <font color=Blue size=5>**更新conda**    \n",
    "conda update conda    \n",
    "   * <font color=Blue size=5>**查看conda帮助信息**   \n",
    "conda --help"
   ]
  },
  {
   "cell_type": "markdown",
   "id": "b7388963",
   "metadata": {
    "slideshow": {
     "slide_type": "subslide"
    }
   },
   "source": [
    "##### <font color=Blue size=5>**管理环境**    \n",
    "   * <font color=Blue size=5>**查看环境帮助信息**    \n",
    "conda env --help   \n",
    "   * <font color=Blue size=5>**查看现有的环境**   \n",
    "conda env list    或   conda info --envs    \n",
    "   * <font color=Blue size=5>**创建新环境**   \n",
    "conda create --name `<env_name>`    或  conda create -n `<env_name>`   \n",
    "<font color=Blue size=5>如果要在创建环境时指定包内容，可以用   \n",
    "conda create -n `<env_name>` python=3.8   \n",
    "<font color=Blue size=5>如果要指定多个包 可以用   \n",
    "conda create -n `<env_name>` python=3.8 numpy pandas geopandas   \n",
    "<font color=Blue size=5>`<env_name>`为要创建的环境名。建议以英文命名，且不加空格，名称两边不加尖括号“<>”。   \n",
    "conda env create -f `<yml_name>`.yml   根据yml或yaml文件创建环境。   \n",
    "conda env update -f `<yml_name>`.yml   对yml文件修改后更新环境"
   ]
  },
  {
   "cell_type": "markdown",
   "id": "54cf4004",
   "metadata": {
    "slideshow": {
     "slide_type": "subslide"
    }
   },
   "source": [
    "   * <font color=Blue size=5>**激活或切换环境**   \n",
    "conda activate `<env_name>`   或    activate `<env_name>`   \n",
    "   * <font color=Blue size=5>**退出当前环境**   \n",
    "conda deactivate   \n",
    "   * <font color=Blue size=5>**复制环境**   \n",
    "conda create --name `<new_env_name>` --clone <copied_env_name>    \n",
    "   * <font color=Blue size=5>**导出环境**   \n",
    "conda env export > `<yml_name>`.yml    或   conda env export  -f `<yml_name>`.yml    \n",
    "   * <font color=Blue size=5>**删除环境**   \n",
    "conda remove --name `<env_name>` --all"
   ]
  },
  {
   "cell_type": "markdown",
   "id": "45e2dc38",
   "metadata": {
    "slideshow": {
     "slide_type": "subslide"
    }
   },
   "source": [
    "##### <font color=Blue size=5>**管理包**    \n",
    "   * <font color=Blue size=5>**列出当前环境下的所有包**   \n",
    "conda list    \n",
    "   * <font color=Blue size=5>**列出某个特定名称包**   \n",
    "conda list `<package_name>`    \n",
    "   * <font color=Blue size=5>**搜索某个包**   \n",
    "conda search `<package_name>`    \n",
    "   * <font color=Blue size=5>**安装包**   \n",
    "      * <font color=Blue size=5>**在指定环境中安装包**   \n",
    "      conda install --name `<env_name> <package_name>`         \n",
    "      * <font color=Blue size=5>**在当前环境中安装包**   \n",
    "      conda install `<package_name>`   \n",
    "      conda install -c conda-forge geopandas  在指定通道中安装包"
   ]
  },
  {
   "cell_type": "markdown",
   "id": "8f0eadf3",
   "metadata": {
    "slideshow": {
     "slide_type": "subslide"
    }
   },
   "source": [
    "   * <font color=Blue size=5>**删除包**   \n",
    "conda remove `<package_name>`  `删除当前环境某个包`    \n",
    "conda remove -n `<env_name>  <package_name>`  `删除某环境中的某包`   \n",
    "   * <font color=Blue size=5>**更新包**   \n",
    "conda update `<package_name>`  `更新当前环境某包`    \n",
    "conda update -n `<env_name> <package_name>`  `更新某特定环境某包`    \n",
    "conda update --all  `更新所有包`    \n",
    "  <font color=Blue size=5>以上的update也可使用upgrade。\n",
    "\n",
    "<font color=Blue size=5>**另外，还可以使用pip包管理工具管理Python包。**"
   ]
  },
  {
   "cell_type": "markdown",
   "id": "ea03de45",
   "metadata": {
    "slideshow": {
     "slide_type": "subslide"
    }
   },
   "source": [
    "#### <font color=Blue size=5>**Jupyter Lab与Jupyter Notebook**    \n",
    "\n",
    "<font color=Blue size=5>Jupyter Lab与Jupyter Notebook是基于Web的Python交互式开发环境，在一个Notebook文档中可以同时包含**说明文本、公式、图片、程序代码及代码运行结果等**内容，是开放科学、开放研究的重要工具，**仅需文件共享**，他人就能很方便地重现你的研究结果。</font>\n",
    "\n",
    "<font color=Blue size=5>安装Anaconda会自动安装**Jupyter Lab**和**Jupyter Notebook**，可以从**Anaconda Navigtor**中启动**Jupyter Lab**和**Jupyter Notebook**。另外还可以通过Anaconda Prompt命令行安装、启动**Jupyter Lab**和**Jupyter Notebook**。\n",
    "\n",
    "<font color=Blue size=5>安装**Jupyter Notebook**: conda install jupyter notebook    \n",
    "<font color=Blue size=5>安装**Jupyter Lab**:  conda install jupyter lab"
   ]
  },
  {
   "cell_type": "markdown",
   "id": "e8191f95",
   "metadata": {
    "slideshow": {
     "slide_type": "subslide"
    }
   },
   "source": [
    "<font color=Blue size=5>Anaconda Prompt命令行中，可以从指定目录启动**Jupyter Lab**和**Jupyter Notebook**：\n",
    "* <font color=Blue size=5>在Anaconda Prompt命令行中，CD到指定目录，如d: -> cd \\gisdata \n",
    "*<font color=Blue size=5> 激活Python工作环境，如：conda activate some-env\n",
    "* <font color=Blue size=5>启动jupyter notebook或Jupyter Lab，即在Anaconda Prompt命令行中直接输入：jupyter notebook   或  jupyter lab\n",
    "\n",
    "<font color=Blue size=5>启动后，默认的服务器的运行地址是 http://localhost:8888 (每新增一个服务，端口号+1，即8889、8890......)。 只要服务器仍在运行，随时可以在浏览器中输入 http://localhost:8888 返回到 web 页面中。"
   ]
  },
  {
   "cell_type": "markdown",
   "id": "72e6653c",
   "metadata": {
    "slideshow": {
     "slide_type": "subslide"
    }
   },
   "source": [
    "##### <font color=Blue size=5> **Jupyter Lab**\n",
    "<font color=Blue size=5>Jupyter Lab是基于web的集成工作环境，在这个集成环境中可以编辑Notebook文档(.ipynb)、文本文件(.txt)、Markdown文档(.md)，另外还具有命令行(Console)、终端(Terminal，如Windows PowerShell)等功能。</font>\n",
    "\n",
    "<br /><center> <font color=Blue size=5>从指定目录启动后的Jupyter Lab主页 </center>   \n",
    "\n",
    "![从指定目录启动后的Jupyter Lab主页](attachment:image.png)"
   ]
  },
  {
   "cell_type": "markdown",
   "id": "baa211bf",
   "metadata": {
    "slideshow": {
     "slide_type": "subslide"
    }
   },
   "source": [
    "<br /><center> <font color=Blue size=5>Jupyter Lab中的多个Tab页 </center> \n",
    "\n",
    "![image-2.png](attachment:image-2.png)"
   ]
  },
  {
   "cell_type": "markdown",
   "id": "cc31d3ac",
   "metadata": {
    "slideshow": {
     "slide_type": "subslide"
    }
   },
   "source": [
    "<font color=Blue size=5>**Jupyter Lab扩展**\n",
    "\n",
    "<font color=Blue size=5>JupyterLab扩展有两种类型：\n",
    "* <font color=Blue size=5>a **source extension** (which requires a rebuild of JupyterLab when installed)，Rebuilding JupyterLab requires Node.js to be installed.\n",
    "* <font color=Blue size=5>a **prebuilt extension** (which does not require a rebuild of JupyterLab). \n",
    "\n",
    "<font color=Blue size=5>Installing Node.js\n",
    "\n",
    "<font color=Blue size=5>***conda install -c conda-forge nodejs***"
   ]
  },
  {
   "cell_type": "markdown",
   "id": "c8dfd94a",
   "metadata": {
    "slideshow": {
     "slide_type": "subslide"
    }
   },
   "source": [
    "<font color=Blue size=5>**通过jupyter labextension管理扩展**\n",
    "\n",
    "* <font color=Blue size=5>Installing and Uninstalling Source Extensions   \n",
    "   <font color=Blue size=5>***jupyter labextension install my-extension my-other-extension***\n",
    "\n",
    "   <font color=Blue size=5>***jupyter labextension uninstall my-extension my-other-extension***\n",
    "\n",
    "   <font color=Blue size=5>***jupyter lab build***\n",
    "\n",
    "* <font color=Blue size=5>Listing installed extensions\n",
    "\n",
    "   <font color=Blue size=5>***jupyter labextension list***\n",
    "\n",
    "* <font color=Blue size=5>Enabling and Disabling Extensions\n",
    "\n",
    "   <font color=Blue size=5>***jupyter labextension disable my-extension***\n",
    " \n",
    "   <font color=Blue size=5>***jupyter labextension enable my-extension***"
   ]
  },
  {
   "cell_type": "markdown",
   "id": "ae6137bd",
   "metadata": {
    "slideshow": {
     "slide_type": "subslide"
    }
   },
   "source": [
    "<font color=Blue size=5>通过JupyterLab Extension Manager管理扩展\n",
    "\n",
    "![JupyterLab Extension Manager](attachment:image-3.png)"
   ]
  },
  {
   "cell_type": "markdown",
   "id": "29078496",
   "metadata": {
    "slideshow": {
     "slide_type": "subslide"
    }
   },
   "source": [
    "##### <font color=Blue size=5>**Jupyter Notebook**   \n",
    "<font color=Blue size=5>**Jupyter Notebook简介**\n",
    "<font color=Blue size=5>Jupyter Notebook是基于Web的交互式开发环境，支持运行数十种编程语言。一个Notebook文档(.ipynb)集说明文本、公式、图片、代码及代码运行结果等于一体，特别适合开放数据科学。</font>  \n",
    "<br /><center> <font color=Blue size=5>从指定目录启动后的Jupyter Notebook主页 </center>       \n",
    "\n",
    "![从指定目录启动后的Jupyter Notebook主页](attachment:image.png)"
   ]
  },
  {
   "cell_type": "markdown",
   "id": "1356ec06",
   "metadata": {
    "slideshow": {
     "slide_type": "subslide"
    }
   },
   "source": [
    "<br /><center> <font color=Blue size=5>从Jupyter Notebook主页打开或新建一个Notebook文档 </center>   \n",
    "![从Jupyter Notebook主页打开或新建一个Notebook文档](attachment:image-2.png)"
   ]
  },
  {
   "cell_type": "markdown",
   "id": "3f9cfc57",
   "metadata": {},
   "source": [
    "<font color=Blue size=5>**Jupyter Notebook扩展**\n",
    "\n",
    "<font color=Blue size=5>普通版本的Jupyter Notebook不够完美，需要安装一些扩展插件，才能使Jupyter Notebook的性能更佳。**Jupyter Notebook扩展**是一系列JavaScript代码，该代码在后台中运行，并扩展Notebook的功能。一个扩展负责一个特定的功能，可根据需要安装或删除。\n",
    "\n",
    "* <font color=Blue size=5>安装Jupyter Notebook扩展\n",
    "\n",
    "   <font color=Blue size=5>***conda install -c conda-forge jupyter_contrib_nbextensions***\n",
    "\n",
    "* <font color=Blue size=5>安装javascript和css文件   \n",
    "\n",
    "   <font color=Blue size=5>***jupyter contrib nbextension install***\n",
    "\n",
    "    <font color=Blue size=5>jupyter contrib nbextension install选项：\n",
    "\n",
    "   <font color=Blue size=5>（1）--user：安装到用户的主jupyter目录中    \n",
    "   <font color=Blue size=5>（2）--system：在系统范围的jupyter目录中执行安装    \n",
    "   <font color=Blue size=5>（3）--sys-prefix：安装到python的sys-prefix，例如在虚拟环境中非常有用。     \n",
    "   <font color=Blue size=5>（4）--symlink：链接nbextensions，而不是复制每个文件。    \n",
    "   <font color=Blue size=5>（5）--debug：更详细的输出。"
   ]
  },
  {
   "cell_type": "markdown",
   "id": "21e8b072",
   "metadata": {},
   "source": [
    "<br /><center> <font color=Blue size=5>Jupyter Notebook扩展 </center>   \n",
    "\n",
    "![Jupyter Notebook扩展](attachment:image.png)"
   ]
  },
  {
   "cell_type": "markdown",
   "id": "8a00abeb",
   "metadata": {},
   "source": [
    "Jupyter Notebook主要扩展如下：\n",
    "* (some) LaTeX environments for Jupyter : 支持更多的Latex元素\n",
    "* 2to3 Converter : 将Python2代码转换为Python3代码的工具\n",
    "* Addbefore : 在当前单元格前加入空单元格的功能\n",
    "* Autopep8 : 代码格式化的工具(需要安装autopep8包)\n",
    "* Autosavetime : 可设置自动保存的时间间隔\n",
    "* Autoscroll : 设置屏幕自动滚动阈值的工具\n",
    "* Cell Filter : 依据标签过滤单元格的工具\n",
    "* Code Font Size : 设置代码字体大小的工具\n",
    "* Code preffify : 代码美化的工具(需要安装yapf包)\n",
    "* Codefolding : 增加折叠代码的功能(包括Python依据缩进折叠、其他代码依据方括号折叠、依据注释折叠)\n",
    "* Codefolding in Editor :\n",
    "* CodeMirror mode extensions :\n",
    "* Collapsible Headings : 存储markdown标题的折叠情况(在下一次打开的时候重新加载这点状态)\n",
    "* Comment/Uncomment Hotkey : # 增加注释/取消注释的热键\n",
    "* contrib_nbextensions_help_item : 添加帮助菜单\n",
    "* datestamper : 将当前日期和时间粘贴到单元格中的工具\n",
    "* Equation Auto Numbering : 公式自动编号工具\n",
    "* ExecuteTime : 记录上一次运行代码单元的时间以及运行花费的时间\n",
    "* Execution Dependencies : 记录单元格之间依赖关系的工具\n",
    "* Exercise : 隐藏/显示单元格的功能(可以与Exercise2同时使用)\n",
    "* Exercise2 : 隐藏/显示单元格的功能(可以与Exercise同时使用)\n",
    "* Export Embedded HTML : 将notebook导出为HTML文件的工具\n",
    "* Freeze : 提供单元格锁定、只读相关功能\n",
    "* Gist-it : 一键发布Github的gist功能\n",
    "* Help panel : 在工具栏中增加显示帮助说明的按钮\n",
    "* Hide Header : 增加隐藏标题栏、菜单栏和工具栏的功能\n",
    "* Hide input : 在工具栏中增加隐藏指定代码单元的功能\n",
    "* Hide input all : 在工具栏中增加隐藏所有代码单元的功能\n",
    "* Highlight selected word : 高亮显示被选中的对象以及所有代码单元中该对象的所有实例\n",
    "* hightlighter : 在工具栏中增加荧光笔功能，可以高亮显示框选的内容\n",
    "* Hinterland : 自动补全功能\n",
    "* Initialization cells : 在工具栏中增加运行所有被框选为“初始化代码单元”的代码单元\n",
    "* insort formatter : 排序代码单元中导入的包(需要安装isort包)\n",
    "* jupyter-js-widgets/extension :\n",
    "* Keyboard shortcut editor : 创建/修改/删除Jupyter的快捷键\n",
    "* Launch QTConsole : 使用QTConsole内核\n",
    "* Limit Output : 显示代码单元输出的文本或HTML的字符数\n",
    "* Move selected cells: 在工具栏中增加上下移动单元格的功能\n",
    "* Navigation-Hotkeys : 增加用于导航的快捷键\n",
    "* nb Translate : 在工具栏中增加语言翻译工具\n",
    "* Notify : 增加在Jupyter内核空闲时的通知提示功能(适合运行很耗时的情况)\n",
    "* Printview : 在工具栏中增加将当前notebook输出为html或pdf的功能\n",
    "* Python Markdown : 允许使用{{x}}的方法来直接输出结果\n",
    "* Rubberband : 允许进行多个单元的选择\n",
    "* Ruler : 增加标尺功能\n",
    "* Runtools : 在工具栏中增加了更多运行各个单元的方法\n",
    "* Scratchpad : 增加便笺式单元，可以针对当前内核执行代码，而无需修改notebook中的内容\n",
    "* ScrollDown : 自动在选中单元格时向下滚动\n",
    "* Select CodeMirror Keymap : 使用CodeMirror获取键盘映射，可以禁用非Jupyter的其他浏览器快捷键\n",
    "* SKILL Syntax : CodeMirror的Skill模块\n",
    "* Skip-Traceback : 跳过报错的路径追踪，只显示错误名称和类型的摘要\n",
    "* Snippets : 在工具栏中增加添加指定代码单元的功能\n",
    "* Snippets Menu : 在菜单栏中增加可自定义的菜单栏，用以插入代码片段\n",
    "* spellchecker : 拼写检查，高亮显示拼写错误的单词\n",
    "* Split Cells Notebook : 增加拆分单元格的命令\n",
    "* Table of Contents(2) : 增加浮动目录功能\n",
    "* table_beautifier : 美化输出的单元格\n",
    "* Toggle all line numbers : 在工具栏中增加一个控制所有单元格行号是否显示的工具\n",
    "* Tree Filter : 在Jupyter笔记本文件树页面中增加按文件名过滤的功能\n",
    "* Variable Inspector : 在工具栏中增加变量检查的功能\n",
    "* zenmode : 增加Zenmode功能扩展"
   ]
  },
  {
   "cell_type": "markdown",
   "id": "542620f8",
   "metadata": {
    "slideshow": {
     "slide_type": "subslide"
    }
   },
   "source": [
    "##### <font color=Blue size=5>**Jupyter Notebook文档基本结构**\n",
    "\n",
    "<font color=Blue size=5>Jupyter Notebook文档由基本的单元格组成，单元格有代码单元格(Code)、Markdown单元格两种基本类型，新建单元格的默认类型为代码格式。每个单元格在编辑状态下可以任意的输入代码和注释说明(Markdown)。单元格绿色代表内容可编辑状态（比如输入代码），蓝色代表单元格可操作状态（比如删除单元格，必须回到蓝色），而蓝色与绿色之间可以用Esc 和 Enter 来切换。</font>"
   ]
  },
  {
   "cell_type": "markdown",
   "id": "c74efaff",
   "metadata": {
    "slideshow": {
     "slide_type": "subslide"
    }
   },
   "source": [
    "<br /><center> <font color=Blue size=5> Jupyter Notebook文档基本结构 </center>   \n",
    "\n",
    "![Jupyter Notebook文档基本结构](attachment:image.png)"
   ]
  },
  {
   "cell_type": "markdown",
   "id": "1c3030a3",
   "metadata": {},
   "source": [
    "#### <font color=Blue size=5>***Markdown基本语法***\n",
    "\n",
    "<font color=Blue size=5>Markdown 是一种轻量级标记语言，它允许人们使用易读易写的纯文本格式编写文档。    \n",
    "Markdown 编写的文档可以导出 HTML 、Word、图像、PDF、Epub 等多种格式的文档。    \n",
    "Markdown 编写的文档后缀为 .md, .markdown。   \n",
    "Markdown 能被使用来撰写电子书，如：Gitbook。当前许多网站都广泛使用 Markdown 来撰写帮助文档或是用于论坛上发表消息。    </font>"
   ]
  },
  {
   "cell_type": "markdown",
   "id": "f61a6b80",
   "metadata": {
    "toc-hr-collapsed": true
   },
   "source": [
    "##### <font color=Blue size=5>**标题**\n",
    "<font color=Blue size=5>使用#号可表示 1-6 级标题，一级标题对应一个 # 号，二级标题对应两个 # 号，以此类推。\n",
    "\n",
    "<font color=Blue size=5>使用#号标记标题语法格式：# 后跟空格\n",
    "\n",
    "`# <font color=Blue size=5>一级标题\n",
    "\n",
    "`## <font color=Blue size=4>二级标题\n",
    "\n",
    "`### <font color=Blue size=3>三级标题\n",
    "\n",
    "`#### <font color=Blue size=2>四级标题\n",
    "\n",
    "`##### <font color=Blue size=2>五级标题\n",
    "\n",
    "`###### <font color=Blue size=2>六级标题\n",
    "\n",
    "\n",
    "##### <font color=Blue size=5>**列表(Lists)**\n",
    "* <font color=Blue size=5>**无序列表**   \n",
    "<font color=Blue size=5>无序列表用*、-、+任何一种都可以，后跟空格\n",
    "\n",
    "<font color=Blue size=5>```* 这是一个一级无序列表示例1```   \n",
    "* <font color=Blue size=5>这是一个一级无序列表示例1Item1    \n",
    "* <font color=Blue size=5>这是一个一级无序列表示例1Item2    \n",
    "    \n",
    "<font color=Blue size=5>```- 这是一个一级无序列表示例2```   \n",
    "- <font color=Blue size=5>这是一个一级无序列表示例2    \n",
    "\n",
    "<font color=Blue size=5>```+ 这是一个一级无序列表示例3```   \n",
    "+ <font color=Blue size=5>这是一个一级无序列表示例3    \n",
    "    \n",
    "* <font color=Blue size=5>**有序列表**\n",
    "<font color=Blue size=5>数字加点，后跟空格\n",
    "\n",
    "1. <font color=Blue size=5>This is a list item1\n",
    "2. <font color=Blue size=5>This is a list item2\n",
    "3. <font color=Blue size=5>This is a list item3\n",
    "4. <font color=Blue size=5>This is a list item4"
   ]
  },
  {
   "cell_type": "markdown",
   "id": "d4fbb756",
   "metadata": {},
   "source": [
    "* <font color=Blue size=5>**列表嵌套**    \n",
    "<font color=Blue size=5>上一级和下一级之间敲**三个空格**即可。\n",
    "\n",
    "* <font color=Blue size=5>一级无序列表内容\n",
    "\n",
    "   * <font color=Blue size=5>二级无序列表内容\n",
    "   * <font color=Blue size=5>二级无序列表内容\n",
    "   * <font color=Blue size=5>二级无序列表内容\n",
    "* <font color=Blue size=5>一级无序列表内容\n",
    "\n",
    "   1. <font color=Blue size=5>二级有序列表内容\n",
    "   2. <font color=Blue size=5>二级有序列表内容\n",
    "   3. <font color=Blue size=5>二级有序列表内容"
   ]
  },
  {
   "cell_type": "markdown",
   "id": "3da59e74",
   "metadata": {},
   "source": [
    "##### <font color=Blue size=5>**字体**\n",
    "\n",
    "* <font color=Blue size=5>粗体、斜体\n",
    "\n",
    "<font color=Blue size=5>粗体、斜体首尾使用*或_\n",
    "\n",
    "<font color=Blue size=5>`*斜体文字*`    *斜体文字* \n",
    "\n",
    "<font color=Blue size=5>`**粗体文字**`  **粗体文字**\n",
    "\n",
    "<font color=Blue size=5>`***粗斜体文字***`   ***粗斜体文字***\n",
    "\n",
    "* <font color=Blue size=5>**删除线**\n",
    "\n",
    "<font color=Blue size=5>删除线首尾使用两个~~\n",
    "\n",
    "~~这是加删除线的文字~~"
   ]
  },
  {
   "cell_type": "markdown",
   "id": "60d7b354",
   "metadata": {},
   "source": [
    "* <font color=Blue size=5>**上下标**\n",
    "\n",
    "<font color=Blue size=5>使用HTML中上下标的语法:    \n",
    "<font color=Blue size=5>上标：`a<sup>上标</sup>`  a<sup>上标</sup>      \n",
    "<font color=Blue size=5>下标：`a<sub>下标</sub>`  a<sub>下标</sub>     \n",
    "<font color=Blue size=5>sup指的是superscript上标，sub指的是subscript下标    \n",
    "<font color=Blue size=5>HTML上下标示例：    \n",
    "\n",
    "<font color=Blue size=5>`H<sub>2</sub>O`=H<sub>2</sub>O , `CO<sub>2`=CO<sub>2</sub>      \n",
    "<font color=Blue size=5>`QGIS<sup>TM</sup>`=QGIS<sup>TM</sup>"
   ]
  },
  {
   "cell_type": "markdown",
   "id": "786ee4b7",
   "metadata": {
    "slideshow": {
     "slide_type": "subslide"
    }
   },
   "source": [
    "##### <font color=Blue size=5>**分隔线**\n",
    "\n",
    "<font color=Blue size=5>可以在一行中用三个以上的星号*、减号-、下划线_来建立一个分隔线，行内不能有其他内容，也可以在星号或减号间插入空格。\n",
    "\n",
    "*** \n",
    "*斜体文字*\n",
    "* * *\n",
    "**粗体文字**\n",
    "******\n",
    "***粗斜体文字***\n",
    "- - -\n",
    "___粗斜体文字___    \n",
    "\n",
    "------"
   ]
  },
  {
   "cell_type": "markdown",
   "id": "910f443a",
   "metadata": {
    "slideshow": {
     "slide_type": "subslide"
    }
   },
   "source": [
    "##### <font color=Blue size=5>**超链接**\n",
    "\n",
    "<font color=Blue size=5>语法：   \n",
    "\n",
    "<font color=Blue size=5>```[超链接名](超链接地址 \"超链接title\")```    \n",
    "    \n",
    "   <font color=Blue size=5>\"超链接title\"可选  \n",
    "\n",
    "<font color=Blue size=5>示例：\n",
    "\n",
    "<font color=Blue size=5>`[江西理工大学](https://www.jxust.edu.cn/)`  [江西理工大学](https://www.jxust.edu.cn/)\n",
    "\n",
    "<font color=Blue size=5>另外可以使用HTML的超链接：\n",
    "\n",
    "<font color=Blue size=5>`<a href=\"https://www.jxust.edu.cn/\" target=\"_blank\">江西理工大学</a>`\n",
    "<a href=\"https://www.jxust.edu.cn/\" target=\"_blank\">江西理工大学</a>"
   ]
  },
  {
   "cell_type": "markdown",
   "id": "4224bf91",
   "metadata": {
    "slideshow": {
     "slide_type": "subslide"
    }
   },
   "source": [
    "##### <font color=Blue size=5>**表格**\n",
    "\n",
    "<font color=Blue size=5>语法如下：\n",
    "\n",
    "<font color=Blue size=5>`| 表头1 | 表头2 | 表头3 |`  \n",
    "<font color=Blue size=5>`| ---- | ---- | ---- |`  \n",
    "<font color=Blue size=5>`| 内容1 | 内容2 | 内容3 |`  \n",
    "<font color=Blue size=5>`| 内容1 | 内容2 | 内容3 |`  \n",
    "\n",
    "<font color=Blue size=5>说明：\n",
    "\n",
    "* <font color=Blue size=5>单元格使用 | 来分隔，为了阅读更清晰，建议最前和最后都使用 |\n",
    "* <font color=Blue size=5>单元格和 | 之间的空格会被移除\n",
    "* <font color=Blue size=5>表头与其他行使用 --- 来分隔\n",
    "* <font color=Blue size=5>表格对齐格式如下   \n",
    "  - <font color=Blue size=5>左对齐（默认）： :----\n",
    "  - <font color=Blue size=5>右对齐： ----:\n",
    "  - <font color=Blue size=5>居中对齐： :----:"
   ]
  },
  {
   "cell_type": "markdown",
   "id": "eb5df1ef",
   "metadata": {
    "slideshow": {
     "slide_type": "subslide"
    }
   },
   "source": [
    "<font color=Blue size=5>示例：\n",
    "\n",
    "| Python库 | 官方网站 |\n",
    "| -- | -- |\n",
    "| numpy | http://numpy.org/ |\n",
    "| pandas | https://pandas.pydata.org/ |\n",
    "| matplotlib | https://matplotlib.org/ |\n",
    "| scipy | https://www.scipy.org/ |\n",
    "| scikit-learn | https://scikit-learn.org/stable/ |\n",
    "| statsmodels | https://www.statsmodels.org/stable/index.html |"
   ]
  },
  {
   "cell_type": "markdown",
   "id": "ab034bc4",
   "metadata": {
    "slideshow": {
     "slide_type": "subslide"
    }
   },
   "source": [
    "##### <font color=Blue size=5>**插入图片**\n",
    "   \n",
    "<font color=Blue size=5>语法：\n",
    "\n",
    "<font color=Blue size=5>```![图片替代文字](图片地址 \"可选的图片提示\")```\n",
    "    \n",
    "```![image.png](attachment:867546e9-aa2f-4584-84e6-2946ed6fad3b.png)```    \n",
    "![image.png](attachment:867546e9-aa2f-4584-84e6-2946ed6fad3b.png)    \n",
    "    \n",
    "<font color=Blue size=5>说明：\n",
    "\n",
    "1. <font color=Blue size=5>图片替代文字在图片无法正常显示时使用，正常情况下可以为空\n",
    "2. <font color=Blue size=5>图片地址可以是本地图片的路径也可以是网络图片的地址\n",
    "3. <font color=Blue size=5>本地图片支持相对路径和绝对路径两种方式\n",
    "4. <font color=Blue size=5>\"可选的图片提示\"，当鼠标移到图片上时显示的内容。"
   ]
  },
  {
   "cell_type": "markdown",
   "id": "3f72ec7e",
   "metadata": {
    "slideshow": {
     "slide_type": "subslide"
    }
   },
   "source": [
    "<font color=Blue size=5>插入图片示例： \n",
    "\n",
    "<font color=Blue size=5>`![JupyterLab扩展界面](attachment:image.png)`  ![JupyterLab扩展界面](attachment:image.png)"
   ]
  },
  {
   "cell_type": "markdown",
   "id": "03e67a75",
   "metadata": {
    "slideshow": {
     "slide_type": "subslide"
    }
   },
   "source": [
    "<font color=Blue size=5>`<img src=\"jupyterlab1.jpg\" width=700 height=700>`       \n",
    "<img src=\"jupyterlab1.jpg\" width=700 height=700>"
   ]
  },
  {
   "cell_type": "markdown",
   "id": "61244b3e",
   "metadata": {
    "slideshow": {
     "slide_type": "subslide"
    }
   },
   "source": [
    "<font color=Blue size=5>`<img src=\"jupyterlab1.jpg\" width=700>`      \n",
    "<img src=\"jupyterlab1.jpg\" width=700>"
   ]
  },
  {
   "cell_type": "markdown",
   "id": "626587ff",
   "metadata": {
    "slideshow": {
     "slide_type": "subslide"
    }
   },
   "source": [
    "<font color=Blue size=5>`<img src=\"jupyterlab1.jpg\" width=\"50%\">`    \n",
    "<img src=\"jupyterlab1.jpg\" width=\"50%\">"
   ]
  },
  {
   "cell_type": "markdown",
   "id": "2a54e32a",
   "metadata": {
    "slideshow": {
     "slide_type": "subslide"
    }
   },
   "source": [
    "##### <font color=Blue size=5>**公式**\n",
    "\n",
    "* <font color=Blue size=5>公式标记\n",
    "\n",
    "<font color=Blue size=5>Markdown两种输入公式的方法：\n",
    "* <font color=Blue size=5>一是行内公式（inline），用一对美元符号“$”包裹。\n",
    "* <font color=Blue size=5>二是整行公式（displayed），用一对紧挨的两个美元符号“ $$ ”包裹。"
   ]
  },
  {
   "cell_type": "markdown",
   "id": "d66b1bd2",
   "metadata": {
    "slideshow": {
     "slide_type": "subslide"
    }
   },
   "source": [
    "* <font color=Blue size=5>**上标/下标**</font>   \n",
    "\n",
    "<font color=Blue size=5>上标和下标分别使用**^**和_来实现。例如:    \n",
    "   ```$x_i^2$```= $x_i^2$   \n",
    "   ```$log_2^x$```= $log_2^x$     \n",
    "\n",
    "<font color=Blue size=5>示例：</font>    \n",
    "    <font color=Blue size=5>这是一个行内公式：$x_i^2$   \n",
    "    这是一个行内公式：$log_2^x$       \n",
    "    这是一个行内公式：$(W_1−W_2)x+b_1−b_2=0$   \n",
    "    这是一个整行公式：$$(W_1−W_2)x+b_1−b_2=0$$"
   ]
  },
  {
   "cell_type": "markdown",
   "id": "cdb826ef",
   "metadata": {
    "slideshow": {
     "slide_type": "subslide"
    }
   },
   "source": [
    "* <font color=Blue size=5>求和/积分</font>\n",
    "\n",
    "<font color=Blue size=5>\\sum用来表示求和符号，其下标表示求和下限，上标表示上限。如```$\\sum_1^nx_i$``` = $\\sum_1^nx_i$；```$\\sum_{i=0}^n x_i$``` = $\\sum_{i=0}^n x_i$\n",
    "\n",
    "<font color=Blue size=5>\\int用来表示积分符号，其上下标表示积分的上下限。如```$\\int_1^\\infty f(x)$``` = $\\int_1^\\infty f(x)$\n",
    "\n",
    "<font color=Blue size=5>与此类似的符号还有：\n",
    "```$\\prod$``` = $\\prod$   \n",
    "\n",
    "```$\\bigcup$``` = $\\bigcup$   \n",
    "\n",
    "```$\\bigcap$``` = $\\bigcap$   \n",
    "\n",
    "```$\\iint$``` = $\\iint$"
   ]
  },
  {
   "cell_type": "markdown",
   "id": "e0defcaa",
   "metadata": {
    "slideshow": {
     "slide_type": "subslide"
    }
   },
   "source": [
    "*  <font color=Blue size=5>分式/根式\n",
    "\n",
    "<font color=Blue size=5>**分式**有两种表示方法：   \n",
    "\n",
    "* <font color=Blue size=5>第一种：使用```$\\frac ab$```，结果为 $\\frac ab$。如果分子或分母不是单个字符，需要使用{}来分组。\n",
    "* <font color=Blue size=5>第二种：使用\\over来分隔一个组的前后两部分，如```${a+1\\over b+1}$``` =${a+1\\over b+1}$。\n",
    "\n",
    "<font color=Blue size=5>**根式**使用```$\\sqrt[a]b$```即$\\sqrt[a]b$来表示，其中，方括号内的值用来表示开几次方，省略方括号则表示开方。\n",
    "如：```$\\sqrt[4]{\\frac xy}$```为$\\sqrt[4]{\\frac xy}$，```$\\sqrt{x^3}$```为$\\sqrt{x^3}$"
   ]
  },
  {
   "cell_type": "markdown",
   "id": "23961b24",
   "metadata": {
    "slideshow": {
     "slide_type": "subslide"
    }
   },
   "source": [
    "### <font color=Blue size=5>**Spyder** \n",
    "\n",
    "<font color=Blue size=5>**Spyder**是用Python编写的免费开源Python集成开发环境，由科学家、工程师和数据分析人员设计。**Spyder**是主流Python集成开发环境（IDE）之一，它综合了开发工具的高级编辑、分析、调试和分析功能，以及科学软件包的数据探索、交互式执行、深度检查和可视化功能。\n",
    "\n",
    "![Spyder IDE](attachment:image-2.png)"
   ]
  },
  {
   "cell_type": "markdown",
   "id": "1b1719da",
   "metadata": {
    "slideshow": {
     "slide_type": "slide"
    }
   },
   "source": [
    "#### Spyder的notebook插件\n",
    "\n",
    "<font color=Blue size=5>Spyder的notebook插件，用于在Spyder中使用Jupyter notebook。目前，它支持创建新notebook、打开文件系统中的任何notebook以及在任何位置保存notebook等基本功能。\n",
    "\n",
    "<font color=Blue size=5>还可以使用Spyder的文件切换器在notebook之间轻松切换，并打开连接到notebook内核的IPython控制台，在变量资源管理器中检查其变量。"
   ]
  },
  {
   "cell_type": "markdown",
   "id": "0f62fde8",
   "metadata": {
    "toc-hr-collapsed": true
   },
   "source": [
    "# <font color=Blue size=5><center>**Python语言基础**</center>"
   ]
  },
  {
   "cell_type": "markdown",
   "id": "60585bd7",
   "metadata": {
    "toc-hr-collapsed": true
   },
   "source": [
    "## **注释**\n",
    "<font color=Blue size=5>注释可以帮助阅读程序，通常用于概括算法、确认变量的用途或者阐明难以理解的代码段。随着程序越来越大、越来越复杂，就应在其中添加说明，对我们解决问题的方法进行大致阐述。在Python程序中有两种类型的注释，分别是单行注释和多行注释。\n",
    "\n",
    "### **单行注释**\n",
    "<font color=Blue size=5>单行注释是只在一行中显示注释内容，Python中单行注释以井号（#）开头，井号（#）后面的内容都会被Python解释器忽略。</font>"
   ]
  },
  {
   "cell_type": "code",
   "execution_count": null,
   "id": "39b01a73",
   "metadata": {},
   "outputs": [],
   "source": [
    "# 向大家问好         \n",
    "print('Hello Python Student!')"
   ]
  },
  {
   "cell_type": "markdown",
   "id": "ceb9a152",
   "metadata": {},
   "source": [
    "### **多行注释**\n",
    "<font color=Blue size=5>多行注释也称为成对注释，这类注释的标记是成对出现的。在Python语言中，有两种实现多行注释的方法。\n",
    "* <font color=Blue size=5>第一种：用3个单引号’’'将注释括起来。"
   ]
  },
  {
   "cell_type": "code",
   "execution_count": null,
   "id": "e52c9def",
   "metadata": {},
   "outputs": [],
   "source": [
    "'''\n",
    "print('nei hou')\n",
    "print('nei hou')\n",
    "print('nei hou')\n",
    "'''\n",
    "print('这是多行注释，用3个单引号')"
   ]
  },
  {
   "cell_type": "markdown",
   "id": "96049e3f",
   "metadata": {},
   "source": [
    "* <font color=Blue size=5>第二种：用3个双引号\"\"\"将注释括起来。"
   ]
  },
  {
   "cell_type": "code",
   "execution_count": null,
   "id": "8f5c2c00",
   "metadata": {},
   "outputs": [],
   "source": [
    "\"\"\"\n",
    "print('nei hou')   \n",
    "print('nei hou')   \n",
    "print('nei hou')   \n",
    "\"\"\"\n",
    "print('这是多行注释，用3个双引号')        "
   ]
  },
  {
   "cell_type": "markdown",
   "id": "19f44a0a",
   "metadata": {
    "toc-hr-collapsed": true
   },
   "source": [
    "## **标识符**    \n",
    "<font color=Blue size=5>标识符是用来标识某个实体的一个符号。在编程语言中，标识符是计算机语言中作为名字的有效字符串集合。标识符是用户编程时使用的名字，变量、常量、函数、语句块也有名字，它们的名字称为标识符。\n",
    "\n",
    "### <font color=Blue size=5>**1、合法的标识符**    \n",
    "<font color=Blue size=5>在Python语言中，所有标识符可以包括英文、数字以及下划线，但要符合以下规则：\n",
    "\n",
    "   (1). <font color=Blue size=5>标识符开头必须是字母或下划线，剩下的字符可以是字母和数字或下划线。   \n",
    "   (2). <font color=Blue size=5>标识符中不能包含空格、@、% 以及 $ 等特殊字符。   \n",
    "   (3). <font color=Blue size=5>标识符区分大小写的。   \n",
    "   (4). <font color=Blue size=5>标识符不能使用关键字。   \n",
    "   (5). <font color=Blue size=5>标识符不能和 Python 中内置函数和内置对象相同。       \n",
    "<font color=Blue size=5>在Python环境下，可以通过`dir(__builtins__)`查看所有内置函数和内置对象。"
   ]
  },
  {
   "cell_type": "code",
   "execution_count": null,
   "id": "dc357555",
   "metadata": {},
   "outputs": [],
   "source": [
    "dir(__builtins__)"
   ]
  },
  {
   "cell_type": "markdown",
   "id": "2a804e6b",
   "metadata": {},
   "source": [
    "<font color=Blue size=5>**2、下划线标识符**    \n",
    "<font color=Blue size=5>以下划线开头的标识符具有特殊意义。\n",
    "\n",
    "<font color=Blue size=5>以**单下划线开头**(_xxx)的标识符代表不能直接访问的类属性，需要通过类提供的接口进行访问，不能用“from xxx import x” 导入。     \n",
    "<font color=Blue size=5>以**双下划线开头**(__xxx)的标识符代表类的私有成员。   \n",
    "以**双下划线开头和结尾**(`__xxx__`)的标识符代表Python中特殊方法专用的标识，如`__init__`代表类的构造函数。"
   ]
  },
  {
   "cell_type": "markdown",
   "id": "3ac90356",
   "metadata": {
    "toc-hr-collapsed": true
   },
   "source": [
    "## **关键字**\n",
    "\n",
    "<font color=Blue size=5>在Python中，关键字作为语言的保留标识符，不能用于其它用途，否则会引起语法错误。可以导入keyword模块关键字查看所有Python关键字。"
   ]
  },
  {
   "cell_type": "code",
   "execution_count": null,
   "id": "225cd965",
   "metadata": {},
   "outputs": [],
   "source": [
    "import keyword\n",
    "print(keyword.kwlist)"
   ]
  },
  {
   "cell_type": "markdown",
   "id": "ba83525e",
   "metadata": {},
   "source": [
    "<font color=Blue size=5>关键字解释如下：   \n",
    "and：用于表达式运算，表示逻辑与操作   \n",
    "as：用于类型转换   \n",
    "assert：断言，用于判断变量或条件表达式的值是否为真   \n",
    "break：中断循环语句的执行   \n",
    "class：用于定义类   \n",
    "continue：继续执行下一次循环   \n",
    "def：删除变量或者序列的值   \n",
    "elif：条件语句，与if else结合使用   \n",
    "else：条件语句，与if else结合使用,也可用于异常和循环"
   ]
  },
  {
   "cell_type": "markdown",
   "id": "60e929f7",
   "metadata": {},
   "source": [
    "<font color=Blue size=5>except：包括捕获异常后的操作代码，与try和finally结合使用   \n",
    "finally：用于异常语句，出现异常后，始终要执行finally包含的代码块，与try、except结合使用   \n",
    "for：循环语句   \n",
    "from：用于导入模块，与import结合使用   \n",
    "global：定义全局变量   \n",
    "if：条件语句，与else、elif结合使用   \n",
    "import：用于导入模块，与from结合使用   \n",
    "in：判断变量是否存在序列中   \n",
    "is：判断变量是否为某个类的实例   \n",
    "lambda：定义匿名函数"
   ]
  },
  {
   "cell_type": "markdown",
   "id": "46595f47",
   "metadata": {},
   "source": [
    "<font color=Blue size=5>nonlocal：用于表示外部作用域的变量   \n",
    "not：用于表达式运算，表示逻辑非操作   \n",
    "or：用于表达式运算，表示逻辑或操作   \n",
    "pass：空的类、函数、方法的占位符   \n",
    "raise：异常抛出操作   \n",
    "return：用于从函数返回计算结果   \n",
    "try：包含可能会出现异常的语句，与except、finally结合使用   \n",
    "while：循环语句   \n",
    "with：简化Python的语句   \n",
    "yield：用于从函数依次返回值   \n",
    "<font color=Blue size=5>注意：None是一个特殊的Python对象，和False不同，不是0，也不是空字符串、空列表等。None有自己的数据类型NoneType，None和任何其他数据类型进行是否相等比较结果返回永远是False。可以将None赋值给任何变量，但是不能创建其他NoneType对象。"
   ]
  },
  {
   "cell_type": "markdown",
   "id": "4a2e0ebc",
   "metadata": {},
   "source": [
    "## **变量**\n",
    "\n",
    "<font color=Blue size=5>变量用于表示可变数据，通过变量名访问，不同变量通过变量名相互区分。Python变量名的命名规则：\n",
    "\n",
    "   * <font color=Blue size=5>变量名只能包含字母、数字和下划线，但不能用数字开头。\n",
    "\n",
    "   * <font color=Blue size=5>变量名不能包含空格，但可使用下划线来分隔其中的单词。\n",
    "\n",
    "   * <font color=Blue size=5>不要将Python关键字和函数名用作变量名。\n",
    "\n",
    "   * <font color=Blue size=5>除了下划线之外，其他符号不能作为变量名使用。\n",
    "\n",
    "   * <font color=Blue size=5>变量名应既简短又具有描述性。"
   ]
  },
  {
   "cell_type": "code",
   "execution_count": null,
   "id": "2a2110f4",
   "metadata": {},
   "outputs": [],
   "source": [
    "message = 'Hello Python world!'\n",
    "print(message)\n",
    "\n",
    "# 同时赋予多个变量\n",
    "x,y = 1,2\n",
    "print('x:%s,y:%s'%(x,y))"
   ]
  },
  {
   "cell_type": "markdown",
   "id": "e8d2766c",
   "metadata": {},
   "source": [
    "## **数据类型**\n",
    "\n",
    "<font color=Blue size=5>Python语言中提供了几种数据类型，如数值（int、float、complex）、布尔（bool）、字符串（str）、列表（list）、元组（tuple）、字典（dict）、集合（set）等。   \n",
    "* <font color=Blue size=5>**整数型int**   \n",
    "<font color=Blue size=5>整数是没有小数部分的数值，分为正整数、0和负整数。例如下列值都是合法的整数：100 、 0、 -100   \n",
    "* <font color=Blue size=5>**浮点型float**   \n",
    "<font color=Blue size=5>浮点数是包含小数点的数或科学计数法表示的数。例如下列值都是浮点数：-56 、 0.19 、 10.0 、 5.12e2 、 3.14e-1 、22.1E-10   \n",
    "* <font color=Blue size=5>**复数型complex**   \n",
    "<font color=Blue size=5>复数由实数部分和虚数部分构成，复数形式为：实部+虚部 j 或者complex(a,b)3.14j 、 5.213e-11j 、 -0.987+0j"
   ]
  },
  {
   "cell_type": "markdown",
   "id": "38a22acd",
   "metadata": {},
   "source": [
    "* <font color=Blue size=5>**布尔型**   \n",
    "<font color=Blue size=5>布尔型是一种表示逻辑值的简单类型，它的值只能是真或假中的一个，即True和Flase."
   ]
  },
  {
   "cell_type": "code",
   "execution_count": null,
   "id": "d8285e29",
   "metadata": {},
   "outputs": [],
   "source": [
    "10>8"
   ]
  },
  {
   "cell_type": "code",
   "execution_count": null,
   "id": "b72bbd20",
   "metadata": {},
   "outputs": [],
   "source": [
    "1+2==2+1"
   ]
  },
  {
   "cell_type": "code",
   "execution_count": null,
   "id": "458f25b8",
   "metadata": {},
   "outputs": [],
   "source": [
    "True and False"
   ]
  },
  {
   "cell_type": "markdown",
   "id": "482a5c7e",
   "metadata": {},
   "source": [
    "* <font color=Blue size=5>**字符串str**   \n",
    "<font color=Blue size=5>可以使用单引号、双引号、三引号来创建字符串。'Hello'、 \"Python\"、 '''Jupyter'''。\n",
    "  字符串的基本操作：   \n",
    "    strname[index]：使用index访问对应的字符，**index从0起算**。index可以是正数（表示从前往后的顺序），也可以是负数（表示从后往前的顺序）。     \n",
    "    strname[start : end : step]   \n",
    "       start：表示要截取的第一个字符所在的索引（截取时包含该字符）。如果不指定，默认为 0，也就是从字符串的开头截取；\n",
    "       end：表示要截取的最后一个字符所在的索引（截取时不包含该字符）。如果不指定，默认为字符串的长度；\n",
    "       step：指的是从 start 索引处的字符开始，每 step 个距离获取一个字符，直至 end 索引出的字符。step 默认值为 1，当省略该值时，最后一个冒号也可以省略。\n",
    "  字符串的数据类型为str，可使用 dir(str) 来查看该类型包含哪些方法，例如："
   ]
  },
  {
   "cell_type": "code",
   "execution_count": null,
   "id": "140c025c",
   "metadata": {},
   "outputs": [],
   "source": [
    "# dir(str)"
   ]
  },
  {
   "cell_type": "markdown",
   "id": "3aa40aec",
   "metadata": {},
   "source": [
    "<font color=Blue size=5>str的主要方法有：['capitalize', 'casefold', 'center', 'count', 'encode', 'endswith', 'expandtabs',  'find', 'format', 'format_map', 'index', 'isalnum', 'isalpha', 'isascii', 'isdecimal', 'isdigit', 'isidentifier', 'islower', 'isnumeric', 'isprintable', 'isspace', 'istitle', 'isupper', 'join', 'ljust', 'lower', 'lstrip', 'maketrans', 'partition', 'replace', 'rfind', 'rindex', 'rjust', 'rpartition', 'rsplit', 'rstrip', 'split', 'splitlines', 'startswith', 'strip', 'swapcase', 'title', 'translate', 'upper', 'zfill']]"
   ]
  },
  {
   "cell_type": "markdown",
   "id": "6a3e0d7e",
   "metadata": {},
   "source": [
    "* <font color=Blue size=5>**列表list**\n",
    "<font color=Blue size=5>列表用方括号“[”和“]”将列表中的元素括起来，元素间用逗号分隔。[1,2,3] 、 ['apple','pear','orange']   \n",
    "<font color=Blue size=5>列表是 Python 序列的一种，可以使用索引（Index）访问列表中的某个元素（得到的是一个元素的值），也可以使用切片访问列表中的一组元素（得到的是一个新的子列表）。   \n",
    "   * <font color=Blue size=5>使用索引访问列表元素的格式为：<font color=Black size=5>*listname[i]*   \n",
    "<font color=Blue size=5>其中，listname 表示列表名字，i 表示索引值。列表的索引可以是正数（表示从前往后的顺序），也可以是负数（表示从后往前的顺序）。   \n",
    "   * <font color=Blue size=5>使用切片访问列表元素的格式为：<font color=Black size=5>*listname[start : end : step]*   \n",
    "<font color=Blue size=5>其中，listname表示列表名字，start表示起始索引，end表示结束索引，step 表示步长。\n",
    "   * <font color=Blue size=5>添加列表元素    \n",
    "<font color=Blue size=5>使用append()方法在列表的末尾追加元素，该方法的语法格式如下：<font color=Black size=5>*listname.append(obj)*   \n",
    "<font color=Blue size=5>其中，listname 表示要添加元素的列表；obj 表示到添加到列表末尾的数据，它可以是单个元素，也可以是列表、元组等。   \n",
    "<font color=Blue size=5>使用 insert() 方法在列表中间某个位置插入元素，语法格式如下：<font color=Black size=5>listname.insert(index , obj)   \n",
    "<font color=Blue size=5>其中，index 表示指定位置的索引值。insert() 会将 obj 插入到 listname 列表第 index 个元素的位置。   \n",
    "   * <font color=Blue size=5>删除列表元素        \n",
    "<font color=Blue size=5>删除列表元素，主要方法：\n",
    "      * 根据目标元素所在位置的索引进行删除，可以使用 del 关键字或者 pop() 方法；如：del listname[index]，del listname[start : end]，listname.pop(index)\n",
    "      * 根据元素本身的值进行删除，可使用列表（list类型）提供的 remove() 方法；如：listname.remove(某个值) \n",
    "      * 将列表中所有元素全部删除，可使用列表（list类型）提供的 clear() 方法；如：listname.clear()\n",
    "    * <font color=Blue size=5>查找列表元素\n",
    "<font color=Blue size=5>index()方法用来查找某个元素在列表中出现的位置（也就是索引），如果该元素不存在，则会导致 ValueError 错误.    \n",
    "    <font color=Black size=5>*listname.index(obj, start, end)*    \n",
    "       <font color=Blue size=5>其中，listname 表示列表名称，obj 表示要查找的元素，start 表示起始位置，end 表示结束位置。   \n",
    "    * <font color=Blue size=5>删除列表    \n",
    "      <font color=Black size=5>*del listname*"
   ]
  },
  {
   "cell_type": "markdown",
   "id": "63cc00cc",
   "metadata": {},
   "source": [
    "* <font color=Blue size=5>**元组tuple**   \n",
    "<font color=Blue size=5>元组用“(”和“)”作为边界将元素括起来，元素间用逗号分隔。从存储内容上看，元组可以存储整数、实数、字符串、列表、元组等任何类型的数据，并且在同一个元组中，元素的类型可以不同。如：(1,2,3)、 ('apple','pear','orange')、(1,'a',3)、(\"github.com\",1, [2,'a'],(\"abc\",3.0))   \n",
    "    <font color=Blue size=5>和列表类似，元组也是由一系列按特定顺序排序的元素组成。元组和列表（list）的不同之处在于：\n",
    "   * 列表的元素是可以更改的，包括修改元素值，删除和插入元素，所以列表是可变序列；\n",
    "   * 而元组一旦被创建，它的元素就不可更改了，所以元组是不可变序列。   \n",
    "    \n",
    "   和列表一样，可以使用索引（Index）访问元组中的某个元素（得到的是一个元素的值），也可以使用切片访问元组中的一组元素（得到的是一个新的子元组）。如：tuplename[i]、tuplename[start : end : step]。   \n",
    "   删除元组：del tuplename"
   ]
  },
  {
   "cell_type": "markdown",
   "id": "ac3ce5db",
   "metadata": {},
   "source": [
    "* <font color=Blue size=5>**字典dict**   \n",
    "<font color=Blue size=5>Python 字典（dict）是一种无序的、可变的序列，它的元素以“键值对（key-value）”的形式存储。字典类型是 Python 中唯一的映射类型，是键值对的映射。字典中每个元素都包含键和值两部分。字典用大括号{ }来表示，键和值间用冒号分隔，元素之间用逗号分隔。如：**scores = {'语文':122,'数学':110,'英语':125}**，访问字典元素：**scores['语文']**    \n",
    "    字典的主要特征：\n",
    "   * 通过键而不是通过索引来读取元素：字典通过键将一系列的值联系起来的，可以通过键从字典中获取指定项，但不能通过索引来获取。\n",
    "   * 字典是任意数据类型的无序集合：和列表、元组不同，通常会将索引值 0 对应的元素称为第一个元素，而字典中的元素是无序的。\n",
    "   * 字典是可变的，并且可以任意嵌套：字典可以在原处增长或者缩短（无需生成一个副本），并且它支持任意深度的嵌套，即字典存储的值也可以是列表或其它的字典。\n",
    "   * 字典中的键必须唯一：字典中，不支持同一个键出现多次，否则只会保留最后一个键值对。\n",
    "   * 字典中的键必须不可变：字典中每个键是不可变的，不能被修改键（key）的名字，只能修改其值（value）。"
   ]
  },
  {
   "cell_type": "markdown",
   "id": "ceaff641",
   "metadata": {},
   "source": [
    "<font color=Blue size=5>字典的数据类型为 dict，可使用 dir(dict) 来查看该类型包含哪些方法，例如："
   ]
  },
  {
   "cell_type": "code",
   "execution_count": null,
   "id": "606597b0",
   "metadata": {},
   "outputs": [],
   "source": [
    "# dir(dict) "
   ]
  },
  {
   "cell_type": "markdown",
   "id": "6e231a0a",
   "metadata": {},
   "source": [
    "<font color=Blue size=5>dict主要方法有：['clear', 'copy', 'fromkeys', 'get', 'items', 'keys', 'pop', 'popitem', 'setdefault', 'update', 'values']。\n",
    "   * <font color=Blue size=5>keys() 方法用于返回字典中的所有键（key）；\n",
    "   * <font color=Blue size=5>values() 方法用于返回字典中所有键对应的值（value）；\n",
    "   * <font color=Blue size=5>items() 用于返回字典中所有的键值对（key-value）；\n",
    "   * <font color=Blue size=5>copy() 方法返回一个字典的拷贝，也即返回一个具有相同键值对的新字典；\n",
    "   * <font color=Blue size=5>update() 方法可以使用一个字典所包含的键值对来更新己有的字典；\n",
    "   * <font color=Blue size=5>pop() 和 popitem() 都用来删除字典中的键值对，不同的是，pop(key) 用来删除指定的键值对，而 popitem() 用来随机删除一个键值对。"
   ]
  },
  {
   "cell_type": "code",
   "execution_count": null,
   "id": "2a6b2379",
   "metadata": {},
   "outputs": [],
   "source": [
    "data = {'city': 'San Francisco', 'population': 881549, 'coordinates': (-122.4194, 37.7749) }\n",
    "\n",
    "for x, y in data.items():\n",
    "    print(x, y)"
   ]
  },
  {
   "cell_type": "markdown",
   "id": "d953d97e",
   "metadata": {},
   "source": [
    "* <font color=Blue size=5>**集合set**   \n",
    "<font color=Blue size=5>集合由各种不可变类型元素组成，但元素之间没有任何顺序，并且元素不能重复。Python 集合将所有元素放在一对大括号 {} 中，相邻元素之间用“,”分隔，如：{element1,element2,...,elementn}，sa = {1,'c',(1,2,3)}\n",
    "    <font color=Blue size=5>由于集合中的元素是无序的，因此无法象列表那样使用索引访问元素。Python中，访问集合元素最常用的方法是使用循环结构，将集合中的数据逐一读取出来。如：   \n",
    "    for ele in sa:\n",
    "        print(ele)"
   ]
  },
  {
   "cell_type": "code",
   "execution_count": null,
   "id": "26127126",
   "metadata": {},
   "outputs": [],
   "source": [
    "# dir(set) "
   ]
  },
  {
   "cell_type": "markdown",
   "id": "d6b1fc58",
   "metadata": {},
   "source": [
    "<font color=Blue size=5>**set主要方法有**：['add', 'clear', 'copy', 'difference', 'difference_update', 'discard', 'intersection', 'intersection_update', 'isdisjoint', 'issubset', 'issuperset', 'pop', 'remove', 'symmetric_difference', 'symmetric_difference_update', 'union', 'update']   \n",
    "    \n",
    "   <font color=Blue size=5>如：setname.add(element)、setname.remove(element)   \n",
    "    集合的交集（&，intersection）、并集（|，union）、差集（-，difference）以及对称差集（^，symmetric_difference）运算：设set1={1,2,3} ， set2={3,4,5}   \n",
    "    set1 & set2 == {3}，set1.intersection(set2)   \n",
    "    set1 | set2 == {1,2,3,4,5}，set1.union(set2)   \n",
    "    set1 - set2 == {1,2}，set1.difference(set2)， set2 - set1 == {4,5}   \n",
    "    set1 ^ set2 == {1,2,4,5}，set1.symmetric_difference(set2)"
   ]
  },
  {
   "cell_type": "markdown",
   "id": "ae860955",
   "metadata": {},
   "source": [
    "## <font color=Blue size=5>**运算符**    \n",
    "    \n",
    "<font color=Blue size=5>常用运算符有：算术运算符、比较运算符、测试运算符、逻辑运算符、位运算符。\n",
    "* <font color=Blue size=5>**算术运算符**   \n",
    "<font color=Blue size=5>用于实现数学运算功能。常用运算符功能如下：   \n",
    "<font color=Red size=5>加+：<font color=Blue size=5>实现两个对象相加   \n",
    "<font color=Red size=5>减-：<font color=Blue size=5>得到负数或表示一个数减去另一个数   \n",
    "<font color=Red size=5>乘*：<font color=Blue size=5>实现两个数相乘，或一个字符串重复n次   \n",
    "<font color=Red size=5>除/：<font color=Blue size=5>实现一个数除以另一个数   \n",
    "<font color=Red size=5>取模%：<font color=Blue size=5>返回除法的余数   \n",
    "<font color=Red size=5>取整除//：<font color=Blue size=5>返回商的整数部分，不包含余数   \n",
    "<font color=Red size=5>幂**：<font color=Blue size=5>返回x的y次幂"
   ]
  },
  {
   "cell_type": "markdown",
   "id": "5746261c",
   "metadata": {},
   "source": [
    "* <font color=Blue size=5>**比较运算符**   \n",
    "<font color=Blue size=5>也称为关系运算符，表示两个变量或常量之间的关系，可用来比较两个数字的大小。常用比较运算符功能如下：     \n",
    "<font color=Red size=5>大于>：<font color=Blue size=5>如x>y，用于返回x是否大于y       \n",
    "<font color=Red size=5>小于<：<font color=Blue size=5>如x<y，用于返回x是否小于y    \n",
    "<font color=Red size=5>大于等于>=：<font color=Blue size=5>如x>=y，用于返回x是否大于等于y    \n",
    "<font color=Red size=5>小于等于<=：<font color=Blue size=5>如x<=y，用于返回x是否小于等于y    \n",
    "<font color=Red size=5>等于==：<font color=Blue size=5>用于比较对象是否相等   \n",
    "<font color=Red size=5>不等于!=：<font color=Blue size=5>用于比较对象是否不相等   \n",
    "\n",
    "* <font color=Blue size=5>**测试运算符**   \n",
    "<font color=Red size=5>也称为成员运算符，测试实例中包含的一系列成员，包括字符串、列表或元组。常用测试运算符功能如下：     \n",
    "<font color=Red size=5>in：<font color=Blue size=5>如果在指定序列中找到值则返回True;否则，返回False        \n",
    "<font color=Red size=5>not in：<font color=Blue size=5>如果在指定序列中没有找到值则返回True;否则，返回False"
   ]
  },
  {
   "cell_type": "markdown",
   "id": "8c201412",
   "metadata": {},
   "source": [
    "* <font color=Blue size=5>**逻辑运算符**   \n",
    "<font color=Blue size=5>对两个变量或对象进行逻辑运算，结果返回True或False。常用逻辑运算符功能如下：     \n",
    "<font color=Red size=5>逻辑与and：<font color=Blue size=5>a and b，当 a 和 b 两个表达式都为真时，a and b 的结果才为真，否则为假。   \n",
    "<font color=Red size=5>逻辑或or：<font color=Blue size=5>a or b，当 a 和 b 两个表达式都为假时，a or b 的结果才是假，否则为真。   \n",
    "<font color=Red size=5>逻辑非not：<font color=Blue size=5>not a，如果 a 为真，那么 not a 的结果为假；如果 a 为假，那么 not a 的结果为真。相当于对 a 取反。"
   ]
  },
  {
   "cell_type": "markdown",
   "id": "29dd2eeb",
   "metadata": {},
   "source": [
    "* <font color=Blue size=5>**位运算符**   \n",
    "<font color=Blue size=5>按位运算符是把数字看作二进制来进行计算的。按位运算法则如下（设变量 a 为 60，b 为 13）：   \n",
    "<font color=Red size=5>按位与&：<font color=Blue size=5>参与运算的两个值，如果两个相应位都为1，则该位的结果为1，否则为0。(a & b) 输出结果12，即二进制：0000 1100   \n",
    "<font color=Red size=5>按位或|：<font color=Blue size=5>只要对应的二个二进位有一个为1时，结果位就为1。(a | b) 输出结果61，即二进制：0011 1101   \n",
    "<font color=Red size=5>按位异或^：<font color=Blue size=5>当两对应的二进位相异时，结果为1。(a ^ b) 输出结果49，即二进制：0011 0001   \n",
    "<font color=Red size=5>按位取反```~```：<font color=Blue size=5>对数据的每个二进制位取反，即把1变为0，把0变为1。(~a ) 输出结果的二进制为：1100 0011   \n",
    "<font color=Red size=5>左移位<<：<font color=Blue size=5>运算数的各二进位全部左移若干位，<< 右边的数字指定了移动的位数，高位丢弃，低位补0。\ta << 2 输出结果240，即二进制：1111 0000   \n",
    "<font color=Red size=5>右移位>>：<font color=Blue size=5>运算数的各二进位全部右移若干位，>>右边的数字指定了移动的位数。a >> 2 输出结果15，即二进制：0000 1111"
   ]
  },
  {
   "cell_type": "code",
   "execution_count": null,
   "id": "d9e79607",
   "metadata": {},
   "outputs": [],
   "source": [
    "# 位运算示例\n",
    "a = 60            # 60 = 0011 1100 \n",
    "b = 13            # 13 = 0000 1101 \n",
    "c = 0\n",
    " \n",
    "c = a & b;        # 12 = 0000 1100\n",
    "print(\"a & b的结果为：\",c) \n",
    " \n",
    "c = a | b;        # 61 = 0011 1101 \n",
    "print(\"a | b的结果为：\",c) \n",
    " \n",
    "c = a ^ b;        # 49 = 0011 0001\n",
    "print(\"a ^ b的结果为：\",c) \n",
    " \n",
    "c = ~a;           # -61 = 1100 0011\n",
    "print(\"~a的结果为：\",c) \n",
    " \n",
    "c = a << 2;       # 240 = 1111 0000\n",
    "print(\"a << 2的结果为：\",c) \n",
    " \n",
    "c = a >> 2;       # 15 = 0000 1111\n",
    "print(\"a >> 2的结果为：\",c) "
   ]
  },
  {
   "cell_type": "markdown",
   "id": "2c198403",
   "metadata": {},
   "source": [
    "## **流程控制** \n",
    "<font color=Blue size=5>和其它编程语言一样，按照执行流程划分，Python 程序也可分为 3 大结构，即顺序结构、选择（分支）结构和循环结构：   \n",
    "* <font color=Red size=5>顺序结构：<font color=Blue size=5>程序按照从头到尾的顺序依次执行每一条 Python 代码，不重复执行任何代码，也不跳过任何代码。\n",
    "* <font color=Red size=5>选择结构（分支结构）：<font color=Blue size=5>依据条件，有选择性的执行代码；即条件满足时，执行相应的程序代码，否则，执行其它代码。\n",
    "* <font color=Red size=5>循环结构：<font color=Blue size=5>条件满足时，不断地重复执行同一段代码，直到条件不满足为止。   \n",
    "<br><font color=Blue size=5>这里主要介绍选择结构和循环结构。"
   ]
  },
  {
   "cell_type": "markdown",
   "id": "f063201f",
   "metadata": {},
   "source": [
    "### **选择结构（分支结构）-- if else条件语句**\n",
    "\n",
    "<font color=Blue size=5>在 Python 中，可以使用 if else 语句对条件进行判断，然后根据不同的结果执行不同的代码。Python 中的 if else 语句可以细分为三种形式，分别是 if 语句、if else 语句和 if elif else 语句，它们的语法:\n",
    "\n",
    "<font color=Blue size=5>if 表达式：   \n",
    "`  `代码块   \n",
    "    \n",
    "<font color=Blue size=5>if 表达式：   \n",
    "`  `代码块1   \n",
    "else：   \n",
    "`  `代码块2   \n",
    "    \n",
    "<font color=Blue size=5>if 表达式1：   \n",
    "`  `代码块1   \n",
    "elif 表达式2：   \n",
    "`  `代码块2   \n",
    "elif 表达式3：   \n",
    "`  `代码块3   \n",
    "...//其它elif语句   \n",
    "else：   \n",
    "`  `代码块n     \n",
    "    \n",
    " <font color=Red size=5>注意：“代码块”由具由相同缩进量的若干条语句组成；if、elif、else 语句的最后都有冒号:\n",
    "     \n",
    " <font color=Blue size=5>在if else条件语句中，可以使用**pass空语句**，表示程序执行跳过此处。"
   ]
  },
  {
   "cell_type": "markdown",
   "id": "e884d379",
   "metadata": {},
   "source": [
    "* <font color=Blue size=5>**if语句嵌套**    \n",
    "\n",
    "<font color=Blue size=5>if 语句中嵌套 if else 语句，形式如下：   \n",
    "<font color=Blue size=5>if 表达式1：   \n",
    "`  `if 表示式2：   \n",
    "`      `代码块1   \n",
    "`  `else：   \n",
    "`      `代码块2   \n",
    "        \n",
    "<font color=Blue size=5>if else 语句中嵌套 if else 语句，形式如下：   \n",
    "<font color=Blue size=5>if 表示式 1：   \n",
    "`  `if 表达式 2：   \n",
    "`      `代码块 1   \n",
    "`  `else：   \n",
    "`      `代码块 2   \n",
    "else：   \n",
    "`  `if 表达式 3：   \n",
    "`      `代码块 3   \n",
    "`  `else：   \n",
    "`      `代码块 4"
   ]
  },
  {
   "cell_type": "markdown",
   "id": "fb138b0e",
   "metadata": {},
   "source": [
    "### **循环语句**\n",
    "\n",
    "* <font color=Blue size=5>while循环   \n",
    "<font color=Blue size=5>while语句的语法格式如下：       \n",
    "<font color=Blue size=5>while 条件表达式：   \n",
    "`  `代码块    \n",
    "\n",
    "<font color=Blue size=5>这里的代码块，即循环体，指的是缩进格式相同的多行代码。\n",
    "<font color=Blue size=5>while 语句执行的具体流程为：首先判断条件表达式的值，其值为真（True）时，则执行代码块中的语句，当执行完毕后，再回过头来重新判断条件表达式的值是否为真，若仍为真，则继续重新执行代码块...如此循环，直到条件表达式的值为假（False），才终止循环。\n",
    "* <font color=Blue size=5>for循环   \n",
    "<font color=Blue size=5>for循环的语法格式如下：   \n",
    "<font color=Blue size=5>for 迭代变量 in 字符串|列表|元组|字典|集合：   \n",
    "`  `代码块   \n",
    "\n",
    "<font color=Blue size=5>迭代变量从序列类型变量中读取元素，读完为止。   \n",
    "    \n",
    "<font color=Blue size=5>for、while循环可以嵌套使用。"
   ]
  },
  {
   "cell_type": "markdown",
   "id": "49b01081",
   "metadata": {},
   "source": [
    "#### **循环语句中的break、continue语句**\n",
    "<font color=Blue size=5>在执行 while 循环或者 for 循环时，只要循环条件满足，程序将会一直执行循环体。但在某些场景，我们可能希望在循环结束前就强制结束循环，Python 提供了 2 种强制离开当前循环体的方法：\n",
    "* <font color=Blue size=5>break语句    \n",
    "    break语句立即终止当前循环的执行，跳出当前所在的循环结构，完全终止循环。   \n",
    "* <font color=Blue size=5>continue语句   \n",
    "    continue语句终止执行本次循环中剩下的代码，继续执行后续循环。"
   ]
  },
  {
   "cell_type": "code",
   "execution_count": null,
   "id": "9161be78",
   "metadata": {},
   "outputs": [],
   "source": [
    "cities = ['San Francisco', 'Los Angeles', 'New York', 'Atlanta']\n",
    "cities_population = {\n",
    "    'San Francisco': 881549,\n",
    "    'Los Angeles': 3792621,\n",
    "    'New York': 8175133,\n",
    "    'Atlanta':498044\n",
    "}\n",
    "\n",
    "for city, population in cities_population.items():\n",
    "    if population < 1000000:\n",
    "        print('{} is a small city'.format(city))\n",
    "    elif population > 1000000 and population < 5000000:\n",
    "        print('{} is a big city'.format(city))\n",
    "    else:\n",
    "        print('{} is a mega city'.format(city))"
   ]
  },
  {
   "cell_type": "code",
   "execution_count": null,
   "id": "4b558f6c",
   "metadata": {},
   "outputs": [],
   "source": [
    "for city in cities:\n",
    "    print(city)\n",
    "    if city == 'Los Angeles':\n",
    "        print('I found Los Angeles')\n",
    "        break"
   ]
  },
  {
   "cell_type": "code",
   "execution_count": null,
   "id": "f4abce3d",
   "metadata": {},
   "outputs": [],
   "source": [
    "for city in cities:\n",
    "    if city == 'Los Angeles':\n",
    "        continue\n",
    "    print(city)"
   ]
  },
  {
   "cell_type": "code",
   "execution_count": null,
   "id": "928b77f0",
   "metadata": {},
   "outputs": [],
   "source": [
    "for city in cities:\n",
    "    if city == 'Los Angeles':\n",
    "        pass\n",
    "    else:\n",
    "        print(city)"
   ]
  },
  {
   "cell_type": "markdown",
   "id": "f74daab0",
   "metadata": {},
   "source": [
    "## Python函数\n",
    "\n",
    "<font color=Blue size=5>除了可以直接使用内置函数外，Python还支持自定义函数，即将一段有规律的、可重复使用的代码定义成函数，从而达到一次编写、多次调用的目的。   \n",
    "* <font color=Blue size=5>**Python函数定义**    \n",
    "<font color=Blue size=5>定义函数使用**def**关键字，具体的语法格式如下：    \n",
    "\n",
    "<font color=Blue size=5>def 函数名(参数列表):    \n",
    "```    ```    //实现特定功能的多行代码    \n",
    "```    [return [返回值]]```    \n",
    "\n",
    "<font color=Blue size=5>其中，用```[]```括起来的为可选择部分，即可以使用，也可以省略。  \n",
    "    <font color=Red size=5>注意：函数体代码须缩进。   \n",
    "    <font color=Blue size=5>函数定义中各部分的含义如下：   \n",
    "   * <font color=Blue size=5>函数名：符合Python语法的标识符，函数名最好能够体现出该函数的功能。   \n",
    "   * <font color=Blue size=5>参数列表：函数可以接收多少个参数，参数之间用逗号（,）分隔。函数也可以没有参数，这时一对空的“()”还必须保留。   \n",
    "   * <font color=Blue size=5>```[return [返回值] ]```：可选部分，用于设置函数的返回值。一个函数，可以有返回值，也可以没有返回值，视实际情况而定。   \n",
    "\n",
    "* <font color=Blue size=5>**Python函数调用**    \n",
    "\n",
    "<font color=Blue size=5>调用函数也就是执行函数，基本语法格式如下：   \n",
    "```[返回值变量] = 函数名([参数值])```"
   ]
  },
  {
   "cell_type": "code",
   "execution_count": null,
   "id": "db6d3115",
   "metadata": {},
   "outputs": [],
   "source": [
    "import builtins\n",
    "import sys\n",
    "\n",
    "#dir(builtins)\n",
    "#sys.modules\n",
    "import requests\n",
    "\n",
    "response = requests.get('https://www.spatialthoughts.com')\n",
    "\n",
    "print(response.status_code)"
   ]
  },
  {
   "cell_type": "code",
   "execution_count": null,
   "id": "1feab0c8",
   "metadata": {},
   "outputs": [],
   "source": [
    "# 计算两点之间的球面距离： haversine formula--半正矢公式\n",
    "\n",
    "import math\n",
    "\n",
    "san_francisco = (37.7749, -122.4194)\n",
    "new_york = (40.661, -73.944)\n",
    "\n",
    "def haversine_distance(origin, destination):\n",
    "  lat1, lon1 = origin\n",
    "  lat2, lon2 = destination\n",
    "  radius = 6371\n",
    "  dlat = math.radians(lat2-lat1)\n",
    "  dlon = math.radians(lon2-lon1)\n",
    "  a = math.sin(dlat/2) * math.sin(dlat/2) + math.cos(math.radians(lat1)) \\\n",
    "    * math.cos(math.radians(lat2)) * math.sin(dlon/2) * math.sin(dlon/2)\n",
    "  c = 2 * math.atan2(math.sqrt(a), math.sqrt(1-a))\n",
    "  distance = radius * c\n",
    "  return distance\n",
    "\n",
    "distance = haversine_distance(san_francisco, new_york)\n",
    "print(distance, 'km')"
   ]
  },
  {
   "cell_type": "markdown",
   "id": "e2a7335e",
   "metadata": {},
   "source": [
    "<font color=Blue size=5>使用geopy包计算球面距离、椭球面距离\n",
    "\n",
    "   <font color=Blue size=5>geopy.distance模块提供了计算两点之间球面距离、椭球面距离的方法：   \n",
    "   <font color=Blue size=5>distance.great_circle(): 使用haversine公式计算球面距离。   \n",
    "   <font color=Blue size=5>distance.geodesic(): 使用vincenty公式计算椭球面距离。"
   ]
  },
  {
   "cell_type": "code",
   "execution_count": null,
   "id": "2bb75a03",
   "metadata": {},
   "outputs": [],
   "source": [
    "from geopy import distance\n",
    "\n",
    "san_francisco = (37.7749, -122.4194)\n",
    "new_york = (40.661, -73.944)\n",
    "\n",
    "straight_line_distance = distance.great_circle(san_francisco, new_york)\n",
    "ellipsoid_distance = distance.geodesic(san_francisco, new_york, ellipsoid='WGS-84')\n",
    "\n",
    "print(straight_line_distance, ellipsoid_distance)"
   ]
  },
  {
   "cell_type": "markdown",
   "id": "797711db",
   "metadata": {},
   "source": [
    "* <font color=Blue size=5>**函数参数的值传递和引用传递**    \n",
    "<font color=Blue size=5>在使用函数时，经常会用到形式参数和实际参数。形式参数是在定义函数时，函数名后面括号中的参数；实际参数是在调用函数时，函数名后面括号中的参数。Python 中，根据实际参数的类型不同，函数参数的传递方式可分为 2 种，分别为值传递和引用（地址）传递：\n",
    "   * <font color=Blue size=5>值传递：适用于实参类型为不可变类型（字符串、数字、元组）。\n",
    "   * <font color=Blue size=5>引用（地址）传递：适用于实参类型为可变类型（列表，字典）。   \n",
    "<font color=Blue size=5>值传递和引用传递的区别是，函数参数进行值传递后，若形参的值发生改变，不会影响实参的值；而函数参数进行引用传递后，改变形参的值，实参的值也会一同改变。"
   ]
  },
  {
   "cell_type": "markdown",
   "id": "6dae4894",
   "metadata": {},
   "source": [
    "* <font color=Blue size=5>**Python函数参数--必要参数、关键字参数、默认参数、不定长参数**    \n",
    "    \n",
    "    <font color=Blue size=5>**必要参数（位置参数、必备参数）**：即函数调用时必须要传的参数，传入函数的实际参数必须与定义函数时的形式参数的数量和位置对应，否则 Python 解释器会抛出TypeError异常，并提示缺少必要的参数。  \n",
    "    <font color=Blue size=5>**关键字参数**：指使用形式参数的名字来确定输入的参数值。通过此方式指定函数实参时，不再需要与形参的位置完全一致，只要将参数名写正确即可。   \n",
    "    <font color=Blue size=5>**默认参数**：在调用函数时如果不指定某个参数，Python 解释器会抛出异常。为了解决这个问题，Python 允许为参数设置默认值，即在定义函数时，直接给形式参数指定一个默认值。这样的话，即便调用函数时没有给拥有默认值的形参传递参数，该参数可以直接使用定义函数时设置的默认值。   \n",
    "    Python定义**带有默认值参数的函数**，其语法格式如下：   \n",
    "    def 函数名(...，形参名，**形参名=默认值**)：   \n",
    "```        ```代码块         \n",
    "   <font color=Blue size=5>**不定长参数（可变参数）**：传入的参数个数是可变的。Python提供了两种方式来定义可变参数：           \n",
    "    \n",
    "   * <font color=Blue size=5>在参数前边加“*”，使用元组tuple来接受接收多个可变参数。   \n",
    "   * <font color=Blue size=5>在参数前边加“**”，使用字典dict来接收任意多个以关键字参数赋值的实际参数。   \n",
    "     \n",
    "   <font color=Blue size=5>**注意**：   \n",
    "   * <font color=Blue size=5>在函数调用时，既可以根据位置参数来调用，也可以使用关键字参数来调用。在使用关键字参数调用时，可以任意调换参数传参的位置。   \n",
    "   * <font color=Blue size=5>还可以使用位置参数和关键字参数混合传参的方式。但混合传参时，关键字参数必须位于所有的位置参数之后。   \n",
    "   * <font color=Blue size=5>元组和字典参数的位置位于最后，且字典参数在元组参数后面，非元组与字典参数中，非关键字参数一定要排在关键字参数前面。"
   ]
  },
  {
   "cell_type": "markdown",
   "id": "0fd56ce4",
   "metadata": {},
   "source": [
    "* <font color=Blue size=5>**lambda表达式（匿名函数）**    \n",
    "\n",
    "<font color=Blue size=5>lambda 表达式，又称匿名函数，常用来表示内部仅包含 1 行表达式的函数。如果一个函数的函数体仅有 1 行表达式，则该函数就可以用 lambda 表达式来代替。   \n",
    "<font color=Blue size=5>lambda 表达式的语法格式如下：   \n",
    "```name = lambda [参数列表] : 表达式```   \n",
    "其中，定义 lambda 表达式，必须使用 lambda 关键字；```[参数列表]```作为可选参数，等同于定义函数时指定的参数列表。"
   ]
  },
  {
   "cell_type": "markdown",
   "id": "fac56ef3",
   "metadata": {},
   "source": [
    "* <font color=Blue size=5>**Python函数式编程**\n",
    "\n",
    "   <font color=Blue size=5>一个函数可以接收另一个函数作为参数，这种函数称为高阶函数。函数式编程就是指这种高度抽象的编程范式，纯粹的函数式编程语言编写的函数没有变量，因此，任意一个函数，只要输入是确定的，输出就是确定的，这种纯函数称之为没有副作用。而允许使用变量的程序设计语言，由于函数内部的变量状态不确定，同样的输入，可能得到不同的输出，因此，这种函数是有副作用的。   \n",
    "    函数式编程的一个特点是，允许把函数本身作为参数传入另一个函数，还允许返回一个函数！       \n",
    "    纯粹的函数式编程语言（比如 Scala），其编写的函数中是没有变量的，因此可以保证，只要输入是确定的，输出就是确定的。   \n",
    "    Python对函数式编程提供部分支持。由于Python允许使用变量，因此，Python不是纯函数式编程语言。   \n",
    "    Python允许使用变量，所以它并不是纯函数式编程语言。Python 仅对函数式编程提供了部分支持，主要包括 map()、filter() 和 reduce() 这 3 个函数，它们通常都结合 lambda 匿名函数一起使用。"
   ]
  },
  {
   "cell_type": "markdown",
   "id": "a5ef45a2",
   "metadata": {},
   "source": [
    "   * <font color=Blue size=5>**Python map()函数**   \n",
    "   <font color=Blue size=5>基本语法格式：   \n",
    "   map(function,iterable)   \n",
    "   function参数表示要传入一个函数，其可以是内置函数、自定义函数或者 lambda 匿名函数；iterable 表示一个或多个可迭代对象，可以是列表、字符串等。   \n",
    "   map() 函数的功能是对可迭代对象中的每个元素，都调用指定的函数，并返回一个 map 对象。   \n",
    "   注意：map对象不能直接打印出来，需要通过for循环遍历或者将其通过list()转化为list对象才能显示出来。"
   ]
  },
  {
   "cell_type": "code",
   "execution_count": null,
   "id": "a79fefeb",
   "metadata": {},
   "outputs": [],
   "source": [
    "# 示例：\n",
    "listDemo = [1, 2, 3, 4, 5, 6, 7, 8]\n",
    "new_list = map(lambda x: x ** 2, listDemo)\n",
    "print(list(new_list))"
   ]
  },
  {
   "cell_type": "markdown",
   "id": "1e16f885",
   "metadata": {},
   "source": [
    "   * <font color=Blue size=5>**Python filter()函数**   \n",
    "    基本语法格式：   \n",
    "    filter(function,iterable)   \n",
    "    功能：对 iterable 中的每个元素，都使用 function 函数判断，并返回 True 或者 False，最后将返回 True 的元素组成一个新的可遍历的集合。"
   ]
  },
  {
   "cell_type": "code",
   "execution_count": null,
   "id": "4f79660f",
   "metadata": {},
   "outputs": [],
   "source": [
    "# 示例：\n",
    "\n",
    "list_demo =  [1, 2, 3, 4, 5, 6, 7, 8]\n",
    "new_list=filter(lambda x:x%2==0,list_demo)\n",
    "print(list(new_list))"
   ]
  },
  {
   "cell_type": "markdown",
   "id": "41951e1b",
   "metadata": {},
   "source": [
    "   * <font color=Blue size=5>**Python reduce()函数**   \n",
    "    基本语法格式：   \n",
    "    reduce(function,iterable)   \n",
    "    其中，function 规定必须是一个包含 2 个参数的函数；iterable 表示可迭代对象。   \n",
    "    reduce() 函数通常用来对一个集合做累积或求和操作。   \n",
    "    reduce(f, [x1, x2, x3, x4]) = f(f(f(x1, x2), x3), x4)   \n",
    "    使用之前需要导入functools模块。"
   ]
  },
  {
   "cell_type": "code",
   "execution_count": null,
   "id": "d1dc7fdf",
   "metadata": {},
   "outputs": [],
   "source": [
    "# 示例：\n",
    "\n",
    "# 计算列表乘积\n",
    "import functools\n",
    "list_demo = [1, 2, 3, 4, 5, 6, 7, 8]\n",
    "result=functools.reduce(lambda x,y:x*y,list_demo)\n",
    "print(result)\n",
    "\n",
    "# 计算列表Sum\n",
    "list_demo = [1, 2, 3, 4, 5, 6, 7, 8]\n",
    "result=functools.reduce(lambda x,y:x+y,list_demo)\n",
    "print(result)"
   ]
  },
  {
   "cell_type": "code",
   "execution_count": null,
   "id": "1da9e129",
   "metadata": {},
   "outputs": [],
   "source": [
    "# 如果要把序列[1, 3, 5, 7, 9]变换成整数13579，可以使用reduce\n",
    "def fn(x, y):\n",
    "    return x * 10 + y\n",
    "functools.reduce(fn, [1, 3, 5, 7, 9])"
   ]
  },
  {
   "cell_type": "markdown",
   "id": "db80f786",
   "metadata": {},
   "source": [
    "## <font color=Blue size=5>**Python文件操作（I/O）**\n",
    "\n",
    "<font color=Blue size=5>和其它编程语言一样，Python 也提供了操作文件（I/O）功能，比如打开文件、读取和追加数据、插入和删除数据、关闭文件、删除文件等。还提供了较多模块，例如fileinput模块、pathlib模块等，通过引入这些模块，可以获得大量文件操作的函数和方法（类属性和类方法），大大提高编写代码的效率。"
   ]
  },
  {
   "cell_type": "markdown",
   "id": "4127e4e6",
   "metadata": {},
   "source": [
    "### <font color=Blue size=5>**文件路径**\n",
    "\n",
    "<font color=Blue size=5>在Windows上，文件路径使用反斜杠`\"\\\"`作为文件夹之间的分隔符；在 OS X 和 Linux 上，使用正斜杠 \"/\" 作为路径分隔符。本课程使用的操作系统为Windows 10，在Python中，反斜杠`\"\\\"`为转义字符，比如\\n表示换行，\\t表示制表符，路径中的`\"\\\"`需要用`\"\\\\\"`表示，如：`C:\\\\Users\\\\Administrator`；此外，也可在常规路径前加r表示，如：`r'C:\\Users\\Administrator'`即为`C:\\\\Users\\\\Administrator`   \n",
    "\n",
    "<font color=Blue size=5>文件路径有 2 种表示方式：   \n",
    "   * <font color=Blue size=5>**绝对路径**：总是从根文件夹开始，Window 系统中以盘符（`C:\\、D:\\`）作为根文件夹，如：`d:\\gisdata\\geopy`。   \n",
    "   * <font color=Blue size=5>**相对路径**：文件相对于当前工作目录所在的位置。例如，当前工作目录为`d:\\gisdata\\geopy`，若文件demo.txt就位于这个geopy文件夹下，则demo.txt的相对路径表示为`.\\demo.txt`（其中 .\\ 就表示当前所在目录）。另外，..\\ 表示当前所在目录的父目录。"
   ]
  },
  {
   "cell_type": "markdown",
   "id": "e3ab3c61",
   "metadata": {},
   "source": [
    "### <font color=Blue size=5>**文件基本操作**\n",
    "\n",
    "   * <font color=Blue size=5>**打开文件--open()方法**   \n",
    "    用于打开一个文件，并返回文件对象。如果该文件无法打开，则会抛出 OSError。  \n",
    "    注意：使用 open()方法一定要保证关闭文件对象，即调用 close()方法。   \n",
    "    open()函数常用形式是接收两个参数：文件名(file)和模式(mode)     \n",
    "    \n",
    "    ***open(file, mode='r')***   \n",
    "    完整的语法格式为:    \n",
    "    \n",
    "    ***open(file, mode='r', buffering=-1, encoding=None, errors=None, newline=None, closefd=True, opener=None)***     \n",
    "    \n",
    "    **参数说明**:   \n",
    "    file: 必需，要打开的文件（相对或者绝对路径）。   \n",
    "    mode: 可选，文件打开模式   \n",
    "    buffering: 设置缓冲    \n",
    "    encoding: 一般使用utf8   \n",
    "    errors: 报错级别   \n",
    "    newline: 控制通用换行符模式的工作方式   \n",
    "    closefd: 关闭文件时保持文件描述符打开   \n",
    "    opener：用于低级`I/O`操作的自定义打开器         \n",
    "    \n",
    "    ***文件打开模式(mode)***：          \n",
    "    r：以只读方式打开文件。文件的指针将会放在文件的开头。   \n",
    "    w：以只写方式打开文件，原有内容会被删除。如果该文件不存在，创建新文件。   \n",
    "    a：对文件内容进行添加，指针位置在文件内容的最后。   \n",
    "    r+：读+写，打开一个文件进行读写。   \n",
    "    x：新建文件。   \n",
    "    t：文本模式 (默认)。   \n",
    "    b：二进制模式。可以用来读取图片。"
   ]
  },
  {
   "cell_type": "markdown",
   "id": "8278f3c6",
   "metadata": {},
   "source": [
    "   * <font color=Blue size=5>**读取文件中的数据**        \n",
    "    <font color=Blue size=5>打开文件之后，就可以读取文件中的数据，Python提供了三个函数：       \n",
    "       * <font color=Blue size=5>**file.read()**函数：逐个字节或者字符读取文件中的内容；   \n",
    "       * <font color=Blue size=5>**file.readline()**函数：逐行读取文件中的内容；   \n",
    "       * <font color=Blue size=5>**file.readlines()**函数：一次性读取文件中多行内容。   \n",
    "\n",
    "   * <font color=Blue size=5>**向文件中写入数据**       \n",
    "    <font color=Blue size=5>Python 中的文件对象提供了 write() 函数，可以向文件中写入指定内容。该函数的语法格式如下：   \n",
    "        ***file.write(string)***    \n",
    "        注意，在使用 write() 向文件中写入数据，需保证使用 open() 函数是以 r+、w、w+、a 或 a+ 的模式打开文件，否则执行 write() 函数会抛出 io.UnsupportedOperation 错误。   \n",
    "        另外，还提供了**writelines()**函数，可以实现将字符串列表写入文件中。   \n",
    "        注意，写入函数只有 write() 和 writelines() 函数，而没有名为 writeline 的函数。   \n",
    "        \n",
    "        <font color=Blue size=5>close() 函数是专门用来关闭已打开文件的，其语法格式如下：   \n",
    "        ***file.close()***   \n",
    "        其中，file 表示已打开的文件对象。"
   ]
  },
  {
   "cell_type": "markdown",
   "id": "a3f54fec",
   "metadata": {},
   "source": [
    "   * <font color=Blue size=5>**使用with上下文管理器**    \n",
    "    <font color=Blue size=5>open()打开文件使用之后，关闭文件（close()）非常重要，但时常会忘记关闭文件。Python提供with上下文管理器可以有效防止读取文件后忘记关闭文件的情况发生。   \n",
    "        <font color=Blue size=5>with open(file=\"addresses.txt\",mode=\"rt\",encoding=\"utf-8\") as f1:   \n",
    "            data1 = f1.read()   \n",
    "            print (data1)\n",
    "        <font color=Blue size=5>当操作完成后自动使用close()方法关闭打开的文件。"
   ]
  },
  {
   "cell_type": "code",
   "execution_count": null,
   "id": "9f56cef6",
   "metadata": {},
   "outputs": [],
   "source": [
    "file = open(\"addresses.txt\",mode=\"rt\",encoding=\"utf-8\")\n",
    "print(file)"
   ]
  },
  {
   "cell_type": "code",
   "execution_count": null,
   "id": "a9eeea8e",
   "metadata": {},
   "outputs": [],
   "source": [
    "file.read()"
   ]
  },
  {
   "cell_type": "code",
   "execution_count": null,
   "id": "33ad6c71",
   "metadata": {},
   "outputs": [],
   "source": [
    "file.seek(0)\n",
    "file.readline()"
   ]
  },
  {
   "cell_type": "code",
   "execution_count": null,
   "id": "0e967722",
   "metadata": {},
   "outputs": [],
   "source": [
    "file.readline()"
   ]
  },
  {
   "cell_type": "code",
   "execution_count": null,
   "id": "762d2150",
   "metadata": {},
   "outputs": [],
   "source": [
    "file.close()\n",
    "file.readline()"
   ]
  },
  {
   "cell_type": "code",
   "execution_count": null,
   "id": "c6bb71b6",
   "metadata": {},
   "outputs": [],
   "source": [
    "import os\n",
    "\n",
    "data_path = 'data'\n",
    "filename = 'worldcities.csv'\n",
    "path = os.path.join(data_path, filename)\n",
    "print(path)\n",
    "\n",
    "f = open(path, 'r', encoding='utf-8')\n",
    "print(f.readline())\n",
    "print(f.readline())\n",
    "f.close()"
   ]
  },
  {
   "cell_type": "code",
   "execution_count": null,
   "id": "f703ff0b",
   "metadata": {},
   "outputs": [],
   "source": [
    "f = open(path, 'r', encoding='utf-8')\n",
    "\n",
    "count = 0\n",
    "for line in f:\n",
    "    count += 1\n",
    "f.close()\n",
    "print(count)"
   ]
  },
  {
   "cell_type": "code",
   "execution_count": null,
   "id": "59f797f9",
   "metadata": {},
   "outputs": [],
   "source": [
    "with open(file=\"addresses.txt\",mode=\"rt\",encoding=\"utf-8\") as f1:\n",
    "    data1 = f1.read()\n",
    "    print (data1) "
   ]
  },
  {
   "cell_type": "code",
   "execution_count": null,
   "id": "b37a5fbc",
   "metadata": {},
   "outputs": [],
   "source": [
    "import pandas as pd\n",
    "import os\n",
    "\n",
    "data_path = 'data'\n",
    "filename = 'worldcities.csv'\n",
    "path = os.path.join(data_path, filename)\n",
    "\n",
    "df = pd.read_csv(path)\n",
    "df.head()"
   ]
  },
  {
   "cell_type": "markdown",
   "id": "061a0c25",
   "metadata": {},
   "source": [
    "<font color=Blue size=5>**dir(os)**\n",
    "\n",
    "<font color=Blue size=5>os.name()\t查看当前电脑的操作系统（nt：当前是windows系统，posix：当前是linux系统）   \n",
    "os.uname()\t查看当前操作系统的详细信息，在wheaddows中需要加入platform模块   \n",
    "os.path.isabs()\t判断是否为绝对路径   \n",
    "os.path.abspath()\t生成绝对路径   \n",
    "os.path.join()\t返回一个绝对路径：当前目录绝对路径+文件名/目录名   \n",
    "os.path.basename()\t获取文件名   \n",
    "os.path.dirname()\t获取目录名   \n",
    "os.makedirs()\t递归创建目录   \n",
    "os.mkdir()\t创建目录   \n",
    "os.rmdir()\t删除目录   \n",
    "os.mknod()\t创建文件   \n",
    "os.remove()\t删除文件   \n",
    "os.rename()\t文件重命名   \n",
    "os.path.exists()\t判断文件是否存在   \n",
    "os.path.splitest()\t分离后缀名   \n",
    "os.path.split()"
   ]
  },
  {
   "cell_type": "markdown",
   "id": "a5c3a560",
   "metadata": {
    "toc-hr-collapsed": true
   },
   "source": [
    "# <center>**常用的Python包概述**</center>"
   ]
  },
  {
   "cell_type": "markdown",
   "id": "71e0d7ba",
   "metadata": {},
   "source": [
    "## <font color=Blue size=5>**Python中的包与模块**  \n",
    "\n",
    "### <font color=Blue size=5>**模块（module）**   \n",
    "\n",
    "<font color=Blue size=5>在Python中，一个Python文件(以 .py 结尾)就称之为一个模块（Module）。模块包含了 Python 对象定义和Python语句。   \n",
    "\n",
    "<font color=Blue size=5>在开发过程中我们不会把所有的代码都写在一个.py文件 中。随着代码量的增大，可以按照功能将函数或者类分开存放到不同的.py文件中。这样代码更方便管理以及后期维护，也方便他人使用。\n",
    "<font color=Blue size=5>在开发过程中，我们也经常引用其他模块，例如：time、os、re 等等。\n",
    "<font color=Blue size=5>在Python中模块一般有如下3种：\n",
    "   * <font color=Blue size=5>Python内置模块\n",
    "   * <font color=Blue size=5>第三方模块\n",
    "   * <font color=Blue size=5>自定义模块\n",
    "\n",
    "<font color=Blue size=5>**模块的导入**   \n",
    "\n",
    "<font color=Blue size=5>导入模块的语法如下：   \n",
    "*<font color=Blue size=5>import module1[, module2[,... moduleN]*   \n",
    "*<font color=Blue size=5>from 模块名 import 功能名*   \n",
    "*<font color=Blue size=5>from 模块名 import ```*```*   \n",
    "*<font color=Blue size=5>import 模块名 as 别名*   \n",
    "*<font color=Blue size=5>from 模块名 import 功能名 as 别名*      \n",
    "\n",
    "<font color=Blue size=5>导入模块后，就可以通过module.variable或module.function()直接调用相关功能。"
   ]
  },
  {
   "cell_type": "markdown",
   "id": "fc6520ce",
   "metadata": {},
   "source": [
    "### <font color=Blue size=5>**包（package）**   \n",
    "\n",
    "<font color=Blue size=5>Python中的包（Package）就是包含模块文件的目录，目录名称就是包名称，目录中可以包含目录，子目录也是包，但**包名称应该包含上一级目录的名称**。每一个包目录下，都有一个` __init__.py` 文件，若这个文件不存在，那么这个目录只是一个普通目录而不是一个包。`__init__.py` 文件中列出对外界提供的模块列表。\n",
    "<font color=Blue size=5>Python引入了按目录来组织模块是为了避免模块名冲突，不同包中的模块名可以相同。\n",
    "\n",
    "<font color=Blue size=5>**导入包**   \n",
    "导入包的本质：导入一个包就是执行包下的`__init__.py`文件。   \n",
    "导入包的语法与导入模块类似，要注意包、子包、模块等的层次，如：   \n",
    "import 包名   \n",
    "import 包名 as 别名   \n",
    "import 包名.模块名.函数（类、全局变量等）   \n",
    "from 包名 import 模块名     \n",
    "from 包名 import 模块名  as 别名   \n",
    "......等。"
   ]
  },
  {
   "cell_type": "markdown",
   "id": "bce7fdb8",
   "metadata": {},
   "source": [
    "    \n",
    "<font color=Blue size=5>模块(module) 其实就是py文件，里面定义了一些函数、类、变量等。\n",
    "<font color=Blue size=5>包(package) 是多个模块的聚合体形成的文件夹，里面可以是多个py文件，也可以嵌套文件夹。\n",
    "<font color=Blue size=5>库是参考其他编程语言的说法，是指完成一定功能的代码集合，在python中的形式就是模块和包。"
   ]
  },
  {
   "cell_type": "code",
   "execution_count": null,
   "id": "f255564d",
   "metadata": {},
   "outputs": [],
   "source": [
    "import time   \n",
    "import datetime\n",
    "\n",
    "print(time.time())   \n",
    "print(time.localtime(time.time()))   \n",
    "print(time.asctime( time.localtime(time.time())))\n",
    "print(datetime.datetime.now())"
   ]
  },
  {
   "cell_type": "code",
   "execution_count": null,
   "id": "516d9d5f",
   "metadata": {},
   "outputs": [],
   "source": [
    "import sys\n",
    "\n",
    "sys.path"
   ]
  },
  {
   "cell_type": "code",
   "execution_count": null,
   "id": "189fd337",
   "metadata": {},
   "outputs": [],
   "source": [
    "import datetime as date\n",
    "print(date.datetime.now())\n",
    "\n",
    "from datetime import datetime\n",
    "print(datetime.now())    # 不需要写成 datetime.datetime.now()"
   ]
  },
  {
   "cell_type": "markdown",
   "id": "3f941f02",
   "metadata": {},
   "source": [
    "## <font color=Blue size=5>**常用的Python包简介**  \n",
    "\n",
    "<font color=Blue size=5>**numpy**：Python科学计算基础软件包，用于处理N维数组、矩阵。   \n",
    "**xarray**：以维度、坐标和属性的形式在原始的numpy的多维数组上引入了标签，为开发人员提供了更直观、更简洁、更不容易出错的体验。   \n",
    "conda install -c anaconda xarray   \n",
    "conda install -c conda-forge rioxarray   \n",
    "**pandas**：扩展numpy，并提供新的数据类型如Index、Series、DataFrames和数据分析工具。   \n",
    "**scipy**：数值算法和特定领域工具箱的集合，包括统计、优化、线性代数、积分、插值、拟合、特殊函数、快速傅里叶变换、信号处理和图像处理、常微分方程求解和其他科学与工程中常用的计算等。   \n",
    "**matplotlib**：非常强大的2D绘图工具包。   \n",
    "**bokeh、plotly**：Web交互式可视化（包括地图）。   \n",
    "**seaborn**：基于 Matplotlib 的数据可视化库，提供绘制更加高层和优美的图形接口。   \n",
    "**scikit-learn**：适用于数据处理和机器学习处理非常强大的库。提供数据降维、回归、聚类、分类等功能，是机器学习从业者的必备库之一。   \n",
    "**tensorFlow**：由 Google Brain 团队为深度神经网络（DNN）开发的功能强大的开源软件库。   \n",
    "**pyTorch**：使用 GPU 和 CPU 优化的深度学习张量库。"
   ]
  },
  {
   "cell_type": "markdown",
   "id": "3f8c7c07",
   "metadata": {},
   "source": [
    "<font color=Blue size=5>**GDAL/OGR**：用于处理矢量和栅格数据处理的基本包。   \n",
    "**shapely**：GEOS的Python接口，提供了几何对象模型和空间操作。   \n",
    "**fiona**：GDAL/OGR的Python接口，提供了空间数据读写功能。    \n",
    "**pyproj**：PROJ的Python接口，提供了地图投影和坐标变换功能。    \n",
    "**geopandas**：矢量数据处理分析包。geopandas扩展了Pandas，并提供新的数据类型GeoSeries、GeoDataFrame；同时，geopandas构建在Shapely、Fiona、PyProj等之上，使之具有矢量数据处理分析能力。   \n",
    "**rasterio**：构建在GDAL之上，使得Python用户能够更方便直观地使用GDAL的栅格数据处理分析功能。   \n",
    "**rioxarray**：构建于rasterio和xarray之上的栅格数据处理分析包。   \n",
    "**geocube**：将geopandas矢量数据转换为栅格化的xarray数据。   \n",
    "**pySAL**：空间统计分析包。提供了空间簇、热点和异常点的检测，从空间数据构建图形，空间回归与统计建模，空间计量经济学，探索性时空数据分析等功能。   \n",
    "**geopy**：地理编码包，提供了使用第三方地理编码器和其他数据源进行地理编码与反向地理编码等功能。   \n",
    "**contextily**：添加底图（basemap，或称背景图）。   \n",
    "**geoViews**：Web交互式地图。   \n",
    "**geoplot**：高级地理空间数据可视化包，它是cartopy和matplotlib的扩展，使得制图更简单。   \n",
    "**dash**：用于构建Web应用程序的 Python 库，无需 JavaScript 。   \n",
    "**OSMnx**：从OpenStreetMap检索、构建、分析和可视化街道网络的Python包。   \n",
    "**networkx**：用于创建、操作和研究复杂网络的结构、动态和功能，提供了常用的图论经典算法等。   \n",
    "**cartopy**：专业的地理制图包。Cartopy利用了强大的PROJ.4、NumPy和Shapely库，并在Matplotlib之上构建了一个编程接口，用于创建发布高质量的地图。   \n",
    "**scipy.spatial**：空间算法和数据结构，包括构建三角网、Voronoi图、计算凸多边形等功能。   \n",
    "**RSGISLib**：遥感与GIS软件包。   \n",
    "**rtree**：空间索引包。   \n",
    "**folium**：地理信息可视化库leaflet.js的Pytho接口。   \n",
    "**mplleaflet**：将matplotlib绘图转换为交互式leaflet web地图。"
   ]
  }
 ],
 "metadata": {
  "jupytext": {
   "text_representation": {
    "extension": ".md",
    "format_name": "myst",
    "format_version": 0.13,
    "jupytext_version": "1.14.6"
   }
  },
  "kernelspec": {
   "display_name": "Python 3",
   "language": "python",
   "name": "python3"
  },
  "language_info": {
   "codemirror_mode": {
    "name": "ipython",
    "version": 3
   },
   "file_extension": ".py",
   "mimetype": "text/x-python",
   "name": "python",
   "nbconvert_exporter": "python",
   "pygments_lexer": "ipython3",
   "version": "3.7.12"
  },
  "source_map": [
   9,
   13,
   17,
   40,
   54,
   121,
   132,
   158,
   167,
   173,
   183,
   199,
   209,
   230,
   280,
   282,
   286,
   292,
   301,
   307,
   334,
   351,
   374,
   405,
   414,
   432,
   445,
   475,
   529,
   566,
   580,
   602,
   650,
   657,
   665,
   685,
   694,
   706,
   713,
   789,
   808,
   879,
   902,
   904,
   910,
   922,
   946,
   980,
   983,
   987,
   995,
   1006,
   1014,
   1029,
   1039,
   1051,
   1057,
   1071,
   1082,
   1089,
   1102,
   1111,
   1120,
   1127,
   1139,
   1148,
   1159,
   1176,
   1189,
   1205,
   1218,
   1229,
   1238,
   1247,
   1253,
   1265,
   1286,
   1292,
   1301,
   1306,
   1328,
   1334,
   1399,
   1405,
   1411,
   1420,
   1462,
   1478,
   1498,
   1511,
   1528,
   1547,
   1568,
   1581,
   1599,
   1605,
   1610,
   1615,
   1620,
   1630,
   1644,
   1661,
   1673,
   1681,
   1694,
   1699,
   1707,
   1710,
   1716,
   1723,
   1727,
   1736,
   1751,
   1753,
   1762,
   1768,
   1771,
   1784,
   1797,
   1811,
   1827,
   1834,
   1846,
   1851,
   1855,
   1859,
   1861,
   1874,
   1876,
   1880,
   1906,
   1917,
   1929,
   1933,
   1935,
   1946,
   1951,
   1959,
   1961,
   1974,
   1990,
   2007,
   2015,
   2026,
   2049,
   2058,
   2087,
   2111,
   2131,
   2142,
   2160,
   2168,
   2175,
   2181,
   2205,
   2218,
   2240,
   2248,
   2258,
   2267,
   2288,
   2297,
   2308,
   2317,
   2322,
   2329,
   2335,
   2345,
   2360,
   2365,
   2371,
   2382,
   2416,
   2435,
   2445,
   2450,
   2454,
   2459,
   2463,
   2468,
   2482,
   2492,
   2498,
   2508,
   2529,
   2533,
   2559,
   2576,
   2583,
   2593,
   2599,
   2605,
   2622
  ]
 },
 "nbformat": 4,
 "nbformat_minor": 5
}